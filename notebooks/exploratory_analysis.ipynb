{
 "cells": [
  {
   "cell_type": "code",
   "execution_count": 111,
   "id": "6181f7b2",
   "metadata": {
    "scrolled": true
   },
   "outputs": [
    {
     "name": "stdout",
     "output_type": "stream",
     "text": [
      "✅ production.csv: 2754 rows × 4 cols\n",
      "✅ processing.csv: 11448 rows × 5 cols\n",
      "✅ commercialization.csv: 3348 rows × 4 cols\n",
      "✅ exportation.csv: 27702 rows × 5 cols\n",
      "✅ importation.csv: 10800 rows × 5 cols\n"
     ]
    }
   ],
   "source": [
    "# Exploratory Analysis - Embrapa Viticulture Dataset\n",
    "\n",
    "# Imports\n",
    "import pandas as pd\n",
    "import matplotlib.pyplot as plt\n",
    "import seaborn as sns\n",
    "import os\n",
    "from pathlib import Path\n",
    "\n",
    "# Configs\n",
    "sns.set(style=\"whitegrid\")\n",
    "ROOT = Path().resolve().parent  # raiz do projeto\n",
    "DATA_DIR = ROOT / \"data\"\n",
    "\n",
    "# Helper to load CSV\n",
    "def load_csv(filename):\n",
    "    path = os.path.join(DATA_DIR, filename)\n",
    "    df = pd.read_csv(path)\n",
    "    print(f\"✅ {filename}: {df.shape[0]} rows × {df.shape[1]} cols\")\n",
    "    return df\n",
    "\n",
    "# Load datasets\n",
    "df_prod = load_csv(\"production.csv\")\n",
    "df_proc = load_csv(\"processing.csv\")\n",
    "df_com = load_csv(\"commercialization.csv\")\n",
    "df_exp = load_csv(\"exportation.csv\")\n",
    "df_imp = load_csv(\"importation.csv\")\n"
   ]
  },
  {
   "cell_type": "code",
   "execution_count": 112,
   "id": "18b89119-6cff-435c-9b03-b6e49d59fd63",
   "metadata": {},
   "outputs": [
    {
     "data": {
      "text/html": [
       "<div>\n",
       "<style scoped>\n",
       "    .dataframe tbody tr th:only-of-type {\n",
       "        vertical-align: middle;\n",
       "    }\n",
       "\n",
       "    .dataframe tbody tr th {\n",
       "        vertical-align: top;\n",
       "    }\n",
       "\n",
       "    .dataframe thead th {\n",
       "        text-align: right;\n",
       "    }\n",
       "</style>\n",
       "<table border=\"1\" class=\"dataframe\">\n",
       "  <thead>\n",
       "    <tr style=\"text-align: right;\">\n",
       "      <th></th>\n",
       "      <th>Category</th>\n",
       "      <th>Product</th>\n",
       "      <th>Quantity (L.)</th>\n",
       "      <th>Year</th>\n",
       "    </tr>\n",
       "  </thead>\n",
       "  <tbody>\n",
       "    <tr>\n",
       "      <th>0</th>\n",
       "      <td>VINHO DE MESA</td>\n",
       "      <td>Total</td>\n",
       "      <td>217208604.0</td>\n",
       "      <td>1970</td>\n",
       "    </tr>\n",
       "    <tr>\n",
       "      <th>1</th>\n",
       "      <td>VINHO DE MESA</td>\n",
       "      <td>Tinto</td>\n",
       "      <td>174224052.0</td>\n",
       "      <td>1970</td>\n",
       "    </tr>\n",
       "    <tr>\n",
       "      <th>2</th>\n",
       "      <td>VINHO DE MESA</td>\n",
       "      <td>Branco</td>\n",
       "      <td>748400.0</td>\n",
       "      <td>1970</td>\n",
       "    </tr>\n",
       "    <tr>\n",
       "      <th>3</th>\n",
       "      <td>VINHO DE MESA</td>\n",
       "      <td>Rosado</td>\n",
       "      <td>42236152.0</td>\n",
       "      <td>1970</td>\n",
       "    </tr>\n",
       "    <tr>\n",
       "      <th>4</th>\n",
       "      <td>VINHO FINO DE MESA (VINIFERA)</td>\n",
       "      <td>Total</td>\n",
       "      <td>23899346.0</td>\n",
       "      <td>1970</td>\n",
       "    </tr>\n",
       "  </tbody>\n",
       "</table>\n",
       "</div>"
      ],
      "text/plain": [
       "                        Category Product  Quantity (L.)  Year\n",
       "0                  VINHO DE MESA   Total    217208604.0  1970\n",
       "1                  VINHO DE MESA   Tinto    174224052.0  1970\n",
       "2                  VINHO DE MESA  Branco       748400.0  1970\n",
       "3                  VINHO DE MESA  Rosado     42236152.0  1970\n",
       "4  VINHO FINO DE MESA (VINIFERA)   Total     23899346.0  1970"
      ]
     },
     "execution_count": 112,
     "metadata": {},
     "output_type": "execute_result"
    }
   ],
   "source": [
    "df_prod.head()"
   ]
  },
  {
   "cell_type": "code",
   "execution_count": 113,
   "id": "5a9db27b-79ce-4993-89ab-4e28f4552eb5",
   "metadata": {},
   "outputs": [
    {
     "data": {
      "application/vnd.plotly.v1+json": {
       "config": {
        "plotlyServerURL": "https://plot.ly"
       },
       "data": [
        {
         "name": "DERIVADOS",
         "type": "bar",
         "x": {
          "bdata": "sgezB7QHtQe2B7cHuAe5B7oHuwe8B70Hvge/B8AHwQfCB8MHxAfFB8YHxwfIB8kHygfLB8wHzQfOB88H0AfRB9IH0wfUB9UH1gfXB9gH2QfaB9sH3AfdB94H3wfgB+EH4gfjB+QH5QfmB+cH",
          "dtype": "i2"
         },
         "y": {
          "bdata": "AAAAIC0Ee0EAAADAoFR5QQAAAKDxfHdBAAAA8I0Bi0EAAAAwxdeWQQAAALgDk5lBAAAAQO3chUEAAAAAP+eGQQAAAAgT15NBAAAA8LrdkEEAAAAwKOiRQQAAAKhbDJlBAAAAkHbikUEAAABAnAyKQQAAAABih4BBAAAAMIaIgEEAAACgjTN8QQAAAMBAbnxBAAAAgAq8gkEAAADAm+V2QQAAAKAQ4n5BAAAA4Nhog0EAAABAzxqMQQAAAMBOwoBBAAAAQLGefkEAAADAxoqGQQAAAMDtU3hBAAAAUHZqh0EAAADgfAZ8QQAAACBWVoZBAAAAgKbBiEEAAABAy499QQAAAMDO0YpBAAAAANT9hkEAAAAgIyeLQQAAAFC+W4hBAAAAMIV3ikEAAACYXgiUQQAAAKgcbpxBAAAAoB0Um0EAAAAgUGuYQQAAAMyvcaRBAAAAtLkFqEEAAAD4TY2eQQAAAIgc/51BAAAAIBuYqUEAAABQu7mZQQAAAGT1A6pBAAAA1KyypkEAAABWngixQQAAALDQD6ZBAAAAim4mtEEAAADWuIKwQQAAAM7t07RB",
          "dtype": "f8"
         }
        },
        {
         "name": "SUCO",
         "type": "bar",
         "x": {
          "bdata": "sgezB7QHtQe2B7cHuAe5B7oHuwe8B70Hvge/B8AHwQfCB8MHxAfFB8YHxwfIB8kHygfLB8wHzQfOB88H0AfRB9IH0wfUB9UH1gfXB9gH2QfaB9sH3AfdB94H3wfgB+EH4gfjB+QH5QfmB+cH",
          "dtype": "i2"
         },
         "y": {
          "bdata": "AAAAACvAQEEAAAAAp4VRQQAAAABgxlpBAAAAAAAAAAAAAAAAAAAAAAAAAAAAAAAAAAAAAAAAAAAAAAAAAAAAAAAAAAAAAAAAAAAAAAAAAAAAAAAAAAAAAAAAAAAAAAAAAAAAAAAAAAAAAAAAAAAAAAAAAAAAAAAAAAAAwDxMaUEAAAAAqnRgQQAAAADW3GRBAAAAgA3xbEEAAADA62hqQQAAAIB64XNBAAAAwIWZdUEAAAAAR5h0QQAAACDh8nZBAAAAIH1zeUEAAADg4Jd4QQAAAIBBh3FBAAAAwF6TeUEAAABAJ4V6QQAAAOAhoH1BAAAAsNnmgEEAAADgZieBQQAAADClSoNBAAAAINGwd0EAAAAAcvaGQQAAAEBRqopBAAAAgITojUEAAADAoL2MQQAAANCP/5BBAAAA0AjwkkEAAADA4+aXQQAAAJCpiaBBAAAAsIi0oEEAAABw5e+eQQAAAETVSqJBAAAAEKf0pEEAAACooiCUQQAAAMyXZaJBAAAAELA3n0EAAACg3IyiQQAAAJxfg6BBAAAAoGoQqEEAAAC4VWGfQQAAALA7+J9B",
          "dtype": "f8"
         }
        },
        {
         "name": "VINHO DE MESA",
         "type": "bar",
         "x": {
          "bdata": "sgezB7QHtQe2B7cHuAe5B7oHuwe8B70Hvge/B8AHwQfCB8MHxAfFB8YHxwfIB8kHygfLB8wHzQfOB88H0AfRB9IH0wfUB9UH1gfXB9gH2QfaB9sH3AfdB94H3wfgB+EH4gfjB+QH5QfmB+cH",
          "dtype": "i2"
         },
         "y": {
          "bdata": "AAAAOK7kuUEAAACWyGOyQQAAAKKohLFBAAAAJG/Tq0EAAAAimxy3QQAAAPLaJbVBAAAAfMk7sUEAAABE6Em3QQAAAEon2bdBAAAA7O0uuUEAAABkYRGvQQAAAIA6MLZBAAAACCT8u0EAAACgLqysQQAAAJZfLrVBAAAAy1ZpwEEAAABE+cyyQQAAAODk77FBAAAAJG4uvUEAAADSJ6y1QQAAAM5rGblBAAAA+FE5rkEAAABG8nWzQQAAAOaLebRBAAAAXskWuEEAAACg0Zq5QQAAABauOrJBAAAAXhrLtUEAAAC+gfqxQQAAAJDdALtBAAAAKApGwEEAAADUdkq7QQAAANgM8r5BAAAAeDQluEEAAAAsr7bCQQAAAGBt87pBAAAArtQQtkEAAABkj2jAQQAAAHsBI8FBAAAAvN18uEEAAAAYG0e3QQAAANqsvL5BAAAAmnBduUEAAAA8Cnm3QQAAAIa6YrdBAAAAoBsSuUEAAACcfpSkQQAAACZyZr5BAAAAqEsIukEAAADSvz2xQQAAAHiXnK1BAAAAtgG7tEEAAAB35D+3QQAAAPq8PLRB",
          "dtype": "f8"
         }
        },
        {
         "name": "VINHO FINO DE MESA (VINIFERA)",
         "type": "bar",
         "x": {
          "bdata": "sgezB7QHtQe2B7cHuAe5B7oHuwe8B70Hvge/B8AHwQfCB8MHxAfFB8YHxwfIB8kHygfLB8wHzQfOB88H0AfRB9IH0wfUB9UH1gfXB9gH2QfaB9sH3AfdB94H3wfgB+EH4gfjB+QH5QfmB+cH",
          "dtype": "i2"
         },
         "y": {
          "bdata": "AAAAIM3KhkEAAADgUH6GQQAAADAvGoRBAAAAQEOXd0EAAADAnS2OQQAAAHCSzJJBAAAAcH9zkEEAAABYOq2TQQAAAKgyhpFBAAAAcBH/lUEAAABwL0WOQQAAAHjuh5dBAAAAaGBlm0EAAABgG16TQQAAAPivBpdBAAAACAj3n0EAAABgoieXQQAAAJAUjpZBAAAA9OVAokEAAADAqFmhQQAAAJCgkaFBAAAA+Im0lUEAAABQdRaZQQAAAIhYTJlBAAAAaKUBnEEAAACotniWQQAAABDYnJVBAAAA8ONnlkEAAAAwBCqQQQAAAAiL2pVBAAAAWIrNmkEAAABo1UmQQQAAAKBTMI5BAAAAELYujEEAAACAInWUQQAAAFCSrJVBAAAAEMGtjkEAAAAgkZaUQQAAACgjkpZBAAAAwKwGk0EAAAAQFaiHQQAAADhcspZBAAAA0KqNlUEAAAAQsNSVQQAAANBZV5JBAAAAsMm2kUEAAAAgxjuBQQAAAHDAPJVBAAAAoAB1kkEAAADwue+RQQAAAOCkAo9BAAAAsAG7lEEAAACgx6eWQQAAAGAEEJZB",
          "dtype": "f8"
         }
        }
       ],
       "layout": {
        "barmode": "stack",
        "height": 500,
        "legend": {
         "title": {
          "text": "Category"
         }
        },
        "margin": {
         "b": 80,
         "l": 60,
         "r": 60,
         "t": 50
        },
        "template": {
         "data": {
          "bar": [
           {
            "error_x": {
             "color": "#2a3f5f"
            },
            "error_y": {
             "color": "#2a3f5f"
            },
            "marker": {
             "line": {
              "color": "white",
              "width": 0.5
             },
             "pattern": {
              "fillmode": "overlay",
              "size": 10,
              "solidity": 0.2
             }
            },
            "type": "bar"
           }
          ],
          "barpolar": [
           {
            "marker": {
             "line": {
              "color": "white",
              "width": 0.5
             },
             "pattern": {
              "fillmode": "overlay",
              "size": 10,
              "solidity": 0.2
             }
            },
            "type": "barpolar"
           }
          ],
          "carpet": [
           {
            "aaxis": {
             "endlinecolor": "#2a3f5f",
             "gridcolor": "#C8D4E3",
             "linecolor": "#C8D4E3",
             "minorgridcolor": "#C8D4E3",
             "startlinecolor": "#2a3f5f"
            },
            "baxis": {
             "endlinecolor": "#2a3f5f",
             "gridcolor": "#C8D4E3",
             "linecolor": "#C8D4E3",
             "minorgridcolor": "#C8D4E3",
             "startlinecolor": "#2a3f5f"
            },
            "type": "carpet"
           }
          ],
          "choropleth": [
           {
            "colorbar": {
             "outlinewidth": 0,
             "ticks": ""
            },
            "type": "choropleth"
           }
          ],
          "contour": [
           {
            "colorbar": {
             "outlinewidth": 0,
             "ticks": ""
            },
            "colorscale": [
             [
              0,
              "#0d0887"
             ],
             [
              0.1111111111111111,
              "#46039f"
             ],
             [
              0.2222222222222222,
              "#7201a8"
             ],
             [
              0.3333333333333333,
              "#9c179e"
             ],
             [
              0.4444444444444444,
              "#bd3786"
             ],
             [
              0.5555555555555556,
              "#d8576b"
             ],
             [
              0.6666666666666666,
              "#ed7953"
             ],
             [
              0.7777777777777778,
              "#fb9f3a"
             ],
             [
              0.8888888888888888,
              "#fdca26"
             ],
             [
              1,
              "#f0f921"
             ]
            ],
            "type": "contour"
           }
          ],
          "contourcarpet": [
           {
            "colorbar": {
             "outlinewidth": 0,
             "ticks": ""
            },
            "type": "contourcarpet"
           }
          ],
          "heatmap": [
           {
            "colorbar": {
             "outlinewidth": 0,
             "ticks": ""
            },
            "colorscale": [
             [
              0,
              "#0d0887"
             ],
             [
              0.1111111111111111,
              "#46039f"
             ],
             [
              0.2222222222222222,
              "#7201a8"
             ],
             [
              0.3333333333333333,
              "#9c179e"
             ],
             [
              0.4444444444444444,
              "#bd3786"
             ],
             [
              0.5555555555555556,
              "#d8576b"
             ],
             [
              0.6666666666666666,
              "#ed7953"
             ],
             [
              0.7777777777777778,
              "#fb9f3a"
             ],
             [
              0.8888888888888888,
              "#fdca26"
             ],
             [
              1,
              "#f0f921"
             ]
            ],
            "type": "heatmap"
           }
          ],
          "histogram": [
           {
            "marker": {
             "pattern": {
              "fillmode": "overlay",
              "size": 10,
              "solidity": 0.2
             }
            },
            "type": "histogram"
           }
          ],
          "histogram2d": [
           {
            "colorbar": {
             "outlinewidth": 0,
             "ticks": ""
            },
            "colorscale": [
             [
              0,
              "#0d0887"
             ],
             [
              0.1111111111111111,
              "#46039f"
             ],
             [
              0.2222222222222222,
              "#7201a8"
             ],
             [
              0.3333333333333333,
              "#9c179e"
             ],
             [
              0.4444444444444444,
              "#bd3786"
             ],
             [
              0.5555555555555556,
              "#d8576b"
             ],
             [
              0.6666666666666666,
              "#ed7953"
             ],
             [
              0.7777777777777778,
              "#fb9f3a"
             ],
             [
              0.8888888888888888,
              "#fdca26"
             ],
             [
              1,
              "#f0f921"
             ]
            ],
            "type": "histogram2d"
           }
          ],
          "histogram2dcontour": [
           {
            "colorbar": {
             "outlinewidth": 0,
             "ticks": ""
            },
            "colorscale": [
             [
              0,
              "#0d0887"
             ],
             [
              0.1111111111111111,
              "#46039f"
             ],
             [
              0.2222222222222222,
              "#7201a8"
             ],
             [
              0.3333333333333333,
              "#9c179e"
             ],
             [
              0.4444444444444444,
              "#bd3786"
             ],
             [
              0.5555555555555556,
              "#d8576b"
             ],
             [
              0.6666666666666666,
              "#ed7953"
             ],
             [
              0.7777777777777778,
              "#fb9f3a"
             ],
             [
              0.8888888888888888,
              "#fdca26"
             ],
             [
              1,
              "#f0f921"
             ]
            ],
            "type": "histogram2dcontour"
           }
          ],
          "mesh3d": [
           {
            "colorbar": {
             "outlinewidth": 0,
             "ticks": ""
            },
            "type": "mesh3d"
           }
          ],
          "parcoords": [
           {
            "line": {
             "colorbar": {
              "outlinewidth": 0,
              "ticks": ""
             }
            },
            "type": "parcoords"
           }
          ],
          "pie": [
           {
            "automargin": true,
            "type": "pie"
           }
          ],
          "scatter": [
           {
            "fillpattern": {
             "fillmode": "overlay",
             "size": 10,
             "solidity": 0.2
            },
            "type": "scatter"
           }
          ],
          "scatter3d": [
           {
            "line": {
             "colorbar": {
              "outlinewidth": 0,
              "ticks": ""
             }
            },
            "marker": {
             "colorbar": {
              "outlinewidth": 0,
              "ticks": ""
             }
            },
            "type": "scatter3d"
           }
          ],
          "scattercarpet": [
           {
            "marker": {
             "colorbar": {
              "outlinewidth": 0,
              "ticks": ""
             }
            },
            "type": "scattercarpet"
           }
          ],
          "scattergeo": [
           {
            "marker": {
             "colorbar": {
              "outlinewidth": 0,
              "ticks": ""
             }
            },
            "type": "scattergeo"
           }
          ],
          "scattergl": [
           {
            "marker": {
             "colorbar": {
              "outlinewidth": 0,
              "ticks": ""
             }
            },
            "type": "scattergl"
           }
          ],
          "scattermap": [
           {
            "marker": {
             "colorbar": {
              "outlinewidth": 0,
              "ticks": ""
             }
            },
            "type": "scattermap"
           }
          ],
          "scattermapbox": [
           {
            "marker": {
             "colorbar": {
              "outlinewidth": 0,
              "ticks": ""
             }
            },
            "type": "scattermapbox"
           }
          ],
          "scatterpolar": [
           {
            "marker": {
             "colorbar": {
              "outlinewidth": 0,
              "ticks": ""
             }
            },
            "type": "scatterpolar"
           }
          ],
          "scatterpolargl": [
           {
            "marker": {
             "colorbar": {
              "outlinewidth": 0,
              "ticks": ""
             }
            },
            "type": "scatterpolargl"
           }
          ],
          "scatterternary": [
           {
            "marker": {
             "colorbar": {
              "outlinewidth": 0,
              "ticks": ""
             }
            },
            "type": "scatterternary"
           }
          ],
          "surface": [
           {
            "colorbar": {
             "outlinewidth": 0,
             "ticks": ""
            },
            "colorscale": [
             [
              0,
              "#0d0887"
             ],
             [
              0.1111111111111111,
              "#46039f"
             ],
             [
              0.2222222222222222,
              "#7201a8"
             ],
             [
              0.3333333333333333,
              "#9c179e"
             ],
             [
              0.4444444444444444,
              "#bd3786"
             ],
             [
              0.5555555555555556,
              "#d8576b"
             ],
             [
              0.6666666666666666,
              "#ed7953"
             ],
             [
              0.7777777777777778,
              "#fb9f3a"
             ],
             [
              0.8888888888888888,
              "#fdca26"
             ],
             [
              1,
              "#f0f921"
             ]
            ],
            "type": "surface"
           }
          ],
          "table": [
           {
            "cells": {
             "fill": {
              "color": "#EBF0F8"
             },
             "line": {
              "color": "white"
             }
            },
            "header": {
             "fill": {
              "color": "#C8D4E3"
             },
             "line": {
              "color": "white"
             }
            },
            "type": "table"
           }
          ]
         },
         "layout": {
          "annotationdefaults": {
           "arrowcolor": "#2a3f5f",
           "arrowhead": 0,
           "arrowwidth": 1
          },
          "autotypenumbers": "strict",
          "coloraxis": {
           "colorbar": {
            "outlinewidth": 0,
            "ticks": ""
           }
          },
          "colorscale": {
           "diverging": [
            [
             0,
             "#8e0152"
            ],
            [
             0.1,
             "#c51b7d"
            ],
            [
             0.2,
             "#de77ae"
            ],
            [
             0.3,
             "#f1b6da"
            ],
            [
             0.4,
             "#fde0ef"
            ],
            [
             0.5,
             "#f7f7f7"
            ],
            [
             0.6,
             "#e6f5d0"
            ],
            [
             0.7,
             "#b8e186"
            ],
            [
             0.8,
             "#7fbc41"
            ],
            [
             0.9,
             "#4d9221"
            ],
            [
             1,
             "#276419"
            ]
           ],
           "sequential": [
            [
             0,
             "#0d0887"
            ],
            [
             0.1111111111111111,
             "#46039f"
            ],
            [
             0.2222222222222222,
             "#7201a8"
            ],
            [
             0.3333333333333333,
             "#9c179e"
            ],
            [
             0.4444444444444444,
             "#bd3786"
            ],
            [
             0.5555555555555556,
             "#d8576b"
            ],
            [
             0.6666666666666666,
             "#ed7953"
            ],
            [
             0.7777777777777778,
             "#fb9f3a"
            ],
            [
             0.8888888888888888,
             "#fdca26"
            ],
            [
             1,
             "#f0f921"
            ]
           ],
           "sequentialminus": [
            [
             0,
             "#0d0887"
            ],
            [
             0.1111111111111111,
             "#46039f"
            ],
            [
             0.2222222222222222,
             "#7201a8"
            ],
            [
             0.3333333333333333,
             "#9c179e"
            ],
            [
             0.4444444444444444,
             "#bd3786"
            ],
            [
             0.5555555555555556,
             "#d8576b"
            ],
            [
             0.6666666666666666,
             "#ed7953"
            ],
            [
             0.7777777777777778,
             "#fb9f3a"
            ],
            [
             0.8888888888888888,
             "#fdca26"
            ],
            [
             1,
             "#f0f921"
            ]
           ]
          },
          "colorway": [
           "#636efa",
           "#EF553B",
           "#00cc96",
           "#ab63fa",
           "#FFA15A",
           "#19d3f3",
           "#FF6692",
           "#B6E880",
           "#FF97FF",
           "#FECB52"
          ],
          "font": {
           "color": "#2a3f5f"
          },
          "geo": {
           "bgcolor": "white",
           "lakecolor": "white",
           "landcolor": "white",
           "showlakes": true,
           "showland": true,
           "subunitcolor": "#C8D4E3"
          },
          "hoverlabel": {
           "align": "left"
          },
          "hovermode": "closest",
          "mapbox": {
           "style": "light"
          },
          "paper_bgcolor": "white",
          "plot_bgcolor": "white",
          "polar": {
           "angularaxis": {
            "gridcolor": "#EBF0F8",
            "linecolor": "#EBF0F8",
            "ticks": ""
           },
           "bgcolor": "white",
           "radialaxis": {
            "gridcolor": "#EBF0F8",
            "linecolor": "#EBF0F8",
            "ticks": ""
           }
          },
          "scene": {
           "xaxis": {
            "backgroundcolor": "white",
            "gridcolor": "#DFE8F3",
            "gridwidth": 2,
            "linecolor": "#EBF0F8",
            "showbackground": true,
            "ticks": "",
            "zerolinecolor": "#EBF0F8"
           },
           "yaxis": {
            "backgroundcolor": "white",
            "gridcolor": "#DFE8F3",
            "gridwidth": 2,
            "linecolor": "#EBF0F8",
            "showbackground": true,
            "ticks": "",
            "zerolinecolor": "#EBF0F8"
           },
           "zaxis": {
            "backgroundcolor": "white",
            "gridcolor": "#DFE8F3",
            "gridwidth": 2,
            "linecolor": "#EBF0F8",
            "showbackground": true,
            "ticks": "",
            "zerolinecolor": "#EBF0F8"
           }
          },
          "shapedefaults": {
           "line": {
            "color": "#2a3f5f"
           }
          },
          "ternary": {
           "aaxis": {
            "gridcolor": "#DFE8F3",
            "linecolor": "#A2B1C6",
            "ticks": ""
           },
           "baxis": {
            "gridcolor": "#DFE8F3",
            "linecolor": "#A2B1C6",
            "ticks": ""
           },
           "bgcolor": "white",
           "caxis": {
            "gridcolor": "#DFE8F3",
            "linecolor": "#A2B1C6",
            "ticks": ""
           }
          },
          "title": {
           "x": 0.05
          },
          "xaxis": {
           "automargin": true,
           "gridcolor": "#EBF0F8",
           "linecolor": "#EBF0F8",
           "ticks": "",
           "title": {
            "standoff": 15
           },
           "zerolinecolor": "#EBF0F8",
           "zerolinewidth": 2
          },
          "yaxis": {
           "automargin": true,
           "gridcolor": "#EBF0F8",
           "linecolor": "#EBF0F8",
           "ticks": "",
           "title": {
            "standoff": 15
           },
           "zerolinecolor": "#EBF0F8",
           "zerolinewidth": 2
          }
         }
        },
        "title": {
         "text": "Grape Production by Category (Liters)"
        },
        "width": 1000,
        "xaxis": {
         "tickangle": -45,
         "title": {
          "text": "Year"
         },
         "type": "category"
        },
        "yaxis": {
         "title": {
          "text": "Quantity (L)"
         }
        }
       }
      }
     },
     "metadata": {},
     "output_type": "display_data"
    }
   ],
   "source": [
    "# Total production by category and year\n",
    "# This chart will show the annual production stacked by category (such as \"Wine Grapes\", \"Table Grapes\", etc.) as per actual data.\n",
    "import plotly.graph_objects as go\n",
    "\n",
    "df_prod_grouped = (\n",
    "    df_prod.groupby([\"Year\", \"Category\"])[\"Quantity (L.)\"]\n",
    "    .sum()\n",
    "    .unstack()\n",
    ")\n",
    "\n",
    "# Build stacked bar chart\n",
    "fig = go.Figure()\n",
    "\n",
    "for category in df_prod_grouped.columns:\n",
    "    fig.add_trace(go.Bar(\n",
    "        x=df_prod_grouped.index,\n",
    "        y=df_prod_grouped[category],\n",
    "        name=category\n",
    "    ))\n",
    "\n",
    "# Layout customization\n",
    "fig.update_layout(\n",
    "    barmode=\"stack\",\n",
    "    title=\"Grape Production by Category (Liters)\",\n",
    "    xaxis_title=\"Year\",\n",
    "    yaxis_title=\"Quantity (L)\",\n",
    "    width=1000,\n",
    "    height=500,\n",
    "    template=\"plotly_white\",\n",
    "    xaxis=dict(type=\"category\", tickangle=-45),\n",
    "    legend_title=\"Category\",\n",
    "    margin=dict(t=50, r=60, b=80, l=60),\n",
    ")\n",
    "\n",
    "fig.show()"
   ]
  },
  {
   "cell_type": "code",
   "execution_count": 114,
   "id": "97b08503-eda8-4d1b-8023-a46ba0c6ede6",
   "metadata": {},
   "outputs": [
    {
     "data": {
      "text/html": [
       "<div>\n",
       "<style scoped>\n",
       "    .dataframe tbody tr th:only-of-type {\n",
       "        vertical-align: middle;\n",
       "    }\n",
       "\n",
       "    .dataframe tbody tr th {\n",
       "        vertical-align: top;\n",
       "    }\n",
       "\n",
       "    .dataframe thead th {\n",
       "        text-align: right;\n",
       "    }\n",
       "</style>\n",
       "<table border=\"1\" class=\"dataframe\">\n",
       "  <thead>\n",
       "    <tr style=\"text-align: right;\">\n",
       "      <th></th>\n",
       "      <th>GrapeType</th>\n",
       "      <th>Category</th>\n",
       "      <th>Cultivar</th>\n",
       "      <th>Quantity (kg)</th>\n",
       "      <th>Year</th>\n",
       "    </tr>\n",
       "  </thead>\n",
       "  <tbody>\n",
       "    <tr>\n",
       "      <th>0</th>\n",
       "      <td>Viníferas</td>\n",
       "      <td>TINTAS</td>\n",
       "      <td>Total</td>\n",
       "      <td>10448228.0</td>\n",
       "      <td>1970</td>\n",
       "    </tr>\n",
       "    <tr>\n",
       "      <th>1</th>\n",
       "      <td>Viníferas</td>\n",
       "      <td>TINTAS</td>\n",
       "      <td>Alicante Bouschet</td>\n",
       "      <td>NaN</td>\n",
       "      <td>1970</td>\n",
       "    </tr>\n",
       "    <tr>\n",
       "      <th>2</th>\n",
       "      <td>Viníferas</td>\n",
       "      <td>TINTAS</td>\n",
       "      <td>Ancelota</td>\n",
       "      <td>NaN</td>\n",
       "      <td>1970</td>\n",
       "    </tr>\n",
       "    <tr>\n",
       "      <th>3</th>\n",
       "      <td>Viníferas</td>\n",
       "      <td>TINTAS</td>\n",
       "      <td>Aramon</td>\n",
       "      <td>NaN</td>\n",
       "      <td>1970</td>\n",
       "    </tr>\n",
       "    <tr>\n",
       "      <th>4</th>\n",
       "      <td>Viníferas</td>\n",
       "      <td>TINTAS</td>\n",
       "      <td>Alfrocheiro</td>\n",
       "      <td>NaN</td>\n",
       "      <td>1970</td>\n",
       "    </tr>\n",
       "  </tbody>\n",
       "</table>\n",
       "</div>"
      ],
      "text/plain": [
       "   GrapeType Category           Cultivar  Quantity (kg)  Year\n",
       "0  Viníferas   TINTAS              Total     10448228.0  1970\n",
       "1  Viníferas   TINTAS  Alicante Bouschet            NaN  1970\n",
       "2  Viníferas   TINTAS           Ancelota            NaN  1970\n",
       "3  Viníferas   TINTAS             Aramon            NaN  1970\n",
       "4  Viníferas   TINTAS        Alfrocheiro            NaN  1970"
      ]
     },
     "execution_count": 114,
     "metadata": {},
     "output_type": "execute_result"
    }
   ],
   "source": [
    "df_proc.head()"
   ]
  },
  {
   "cell_type": "code",
   "execution_count": 115,
   "id": "d9fc7147-1825-45df-bc8f-5c762890a0fc",
   "metadata": {},
   "outputs": [
    {
     "data": {
      "application/vnd.plotly.v1+json": {
       "config": {
        "plotlyServerURL": "https://plot.ly"
       },
       "data": [
        {
         "mode": "lines+markers",
         "name": "BRANCAS - Uvas de mesa",
         "type": "scatter",
         "x": {
          "bdata": "sgezB7QHtQe2B7cHuAe5B7oHuwe8B70Hvge/B8AHwQfCB8MHxAfFB8YHxwfIB8kHygfLB8wHzQfOB88H0AfRB9IH0wfUB9UH1gfXB9gH2QfaB9sH3AfdB94H3wfgB+EH4gfjB+QH5QfmB+cH",
          "dtype": "i2"
         },
         "y": {
          "bdata": "AAAAAAB4vkAAAAAAgOffQAAAAAAArcpAAAAAAAB0z0AAAAAAnAYhQQAAAADC7zFBAAAAACi7EkEAAAAA4B0cQQAAAAC4zR1BAAAAABAREkEAAAAAgD8CQQAAAACADvlAAAAAAAD1+UAAAAAAgKDiQAAAAACAyNtAAAAAAIDY5EAAAAAAwBjwQAAAAADwHgFBAAAAAAAAAAAAAAAAAAAAAAAAAAAAAAAAAAAAAAAAAAAAAAAAAAAAAAAAAAAAAAAAAAAAAAAAAAAAAAAAAAAAAAAAAAAAAAAAAAAAAAAAAAAAAAAAAAAAAAAAAAAAAAAAAAAAAAJgMkEAAAAA0M8MQQAAAACwowhBAAAAAJCuEEEAAAAAMN4BQQAAAADARfNAAAAAAEB44UAAAAAAYOHxQAAAAAAgAPtAAAAAAAA03EAAAAAAgJvWQAAAAACAAONAAAAAAICM/kAAAAAAADzBQAAAAAAA4u1AAAAAAICD/0AAAAAAAHi5QAAAAAAADMdAAAAAAADQlkAAAAAAAAAAAAAAAABARfZAAAAAAADD+UAAAAAAAAAAAAAAAAAAQNpA",
          "dtype": "f8"
         }
        },
        {
         "mode": "lines+markers",
         "name": "BRANCAS E ROSADAS - Americanas e híbridas",
         "type": "scatter",
         "x": {
          "bdata": "sgezB7QHtQe2B7cHuAe5B7oHuwe8B70Hvge/B8AHwQfCB8MHxAfFB8YHxwfIB8kHygfLB8wHzQfOB88H0AfRB9IH0wfUB9UH1gfXB9gH2QfaB9sH3AfdB94H3wfgB+EH4gfjB+QH5QfmB+cH",
          "dtype": "i2"
         },
         "y": {
          "bdata": "AAAAAF4PPkEAAAAA3AExQQAAAAAgbDtBAAAAAIBRHEEAAAAAXdxVQQAAAICru1RBAAAAAMNdQ0EAAACA771TQQAAAIAP11xBAAAAwPNBYkEAAADAE6JgQQAAAMB8RmxBAAAAQKopekEAAADgdkFxQQAAAEAFaHtBAAAA0HhFhEEAAADg9g97QQAAAOBJt4BBAAAAoB8nikEAAAAQuFaIQQAAAHDgZYtBAAAAoFwohkEAAABwP0+CQQAAANAwIItBAAAAMAzdi0EAAADQGriMQQAAAEAnUIRBAAAAIOh/lEEAAACAkg2IQQAAAPhUj5NBAAAAaBKMl0EAAAAQ2T6dQQAAANCQVJtBAAAAuN5YmUEAAACQr1OgQQAAAHi5LZ5BAAAAEBzmmkEAAADwlC+gQQAAAETpAaRBAAAAtDr0oEEAAADEexGhQQAAAMircaZBAAAAPNBNpkEAAACYWmaiQQAAAGQlaqBBAAAAZCTBpkEAAACwEDuPQQAAAPTW2qFBAAAA3H3YokEAAAAAAAAAAAAAAHAxMZtBAAAAUi7utEEAAAAAAAAAAAAAAODc1p1B",
          "dtype": "f8"
         }
        },
        {
         "mode": "lines+markers",
         "name": "BRANCAS E ROSADAS - Viníferas",
         "type": "scatter",
         "x": {
          "bdata": "sgezB7QHtQe2B7cHuAe5B7oHuwe8B70Hvge/B8AHwQfCB8MHxAfFB8YHxwfIB8kHygfLB8wHzQfOB88H0AfRB9IH0wfUB9UH1gfXB9gH2QfaB9sH3AfdB94H3wfgB+EH4gfjB+QH5QfmB+cH",
          "dtype": "i2"
         },
         "y": {
          "bdata": "AAAA0CL8gUEAAADQKiSFQQAAAOB3PIFBAAAAoNFLd0EAAAAgUXCIQQAAAEBiAIxBAAAAAL5sjEEAAAAQQimPQQAAAHBnJI1BAAAAEDJakUEAAABQbwqLQQAAAHh80pJBAAAAAKVLlkEAAADwbo6OQQAAAPD215NBAAAAyEaFn0EAAABQf6uWQQAAAJg2XZdBAAAANP1+okEAAABouimiQQAAADSMiaFBAAAA8IEvlkEAAABgT4qZQQAAAGDIUplBAAAAgCU4mUEAAADAvUGWQQAAANA9c5RBAAAA2KkJlUEAAABAoaCOQQAAAOA9TpNBAAAAeF2ol0EAAAAQAyWOQQAAAEBETItBAAAAQG8LhEEAAAAg6hKKQQAAALBUuItBAAAAUBtNhUEAAADw/vGKQQAAAADvf5BBAAAAcHYMj0EAAACggxSFQQAAADhAFpJBAAAAYPlpkUEAAAAohJ+RQQAAABhaDpFBAAAAiMAik0EAAABgXeaBQQAAACgzApVBAAAAYNN2kkEAAAAAAAAAAAAAAMBljZNBAAAA/L79oEEAAAAAAAAAAAAAAEz8XJ5B",
          "dtype": "f8"
         }
        },
        {
         "mode": "lines+markers",
         "name": "Sem classificação - Sem classificação",
         "type": "scatter",
         "x": {
          "bdata": "sgezB7QHtQe2B7cHuAe5B7oHuwe8B70Hvge/B8AHwQfCB8MHxAfFB8YHxwfIB8kHygfLB8wHzQfOB88H0AfRB9IH0wfUB9UH1gfXB9gH2QfaB9sH3AfdB94H3wfgB+EH4gfjB+QH5QfmB+cH",
          "dtype": "i2"
         },
         "y": {
          "bdata": "AAAAgKMKTEEAAAAAok4kQQAAAACAEwhBAAAAAHT9HUEAAAAAYPvrQAAAAADkeyBBAAAAAADe10AAAAAAgAfDQAAAAAAw3vRAAAAAgJWtQUEAAAAAaLwSQQAAAAC8MR5BAAAAAGk+OkEAAAAAgDvVQAAAAACQZfhAAAAAABCe+UAAAAAAgMjIQAAAAADwWfhAAAAAAAAAAAAAAAAAAAAAAAAAAAAAAAAAAAAAAAAAAAAAAAAAAAAAAAAAAAAAAAAAAAAAAAAAAAAAAAAAAAAAAAAAAAAAAAAAAAAAAAAAAAAAAAAAAAAAAAAAAAAAAAAAAAAAACieAkEAAAAAAAAAAAAAAAAAAAAAAAAAAAAAAAAAAAAAAAAAAAAAAAAAAAAAAAAAAAAAAAAAAAAAAAAAAAAAAAAAAAAAAAAAAAAAAAAAAAAAAAAAAAAAAAAAAAAAAAAAAAAAAAAAAAAAAAAAAAAAAAAAAAAAAAAAAAAAAAAAAAAAAAAAAAAAAAAAAAAAAAAAAAAAAAAAAAAAAAAAAAAAAAAYYQRBAAAAAAAAAAAAAAAAAAAAAAAAAAAAAAAA",
          "dtype": "f8"
         }
        },
        {
         "mode": "lines+markers",
         "name": "TINTAS - Americanas e híbridas",
         "type": "scatter",
         "x": {
          "bdata": "sgezB7QHtQe2B7cHuAe5B7oHuwe8B70Hvge/B8AHwQfCB8MHxAfFB8YHxwfIB8kHygfLB8wHzQfOB88H0AfRB9IH0wfUB9UH1gfXB9gH2QfaB9sH3AfdB94H3wfgB+EH4gfjB+QH5QfmB+cH",
          "dtype": "i2"
         },
         "y": {
          "bdata": "AAAAytrxwEEAAACGHRe3QQAAAOR5UrZBAAAAKnRDs0EAAACVhJvBQQAAABwHz8BBAAAAgr5/ukEAAAAKLELAQQAAAAKIlcFBAAAA18f2wUEAAADGnHS3QQAAACu8VMFBAAAARIVUxEEAAACKCkm0QQAAALqsHb9BAAAAY/D1xkEAAACyk9S6QQAAACjrD7pBAAAA09lrxUEAAABcJFa+QQAAANjMwsJBAAAAKmrxuUEAAAAchGW/QQAAAJBi075BAAAA+K3RwUEAAACWjLbCQQAAAKDQmLtBAAAAIFR8wEEAAACgyOu8QQAAAHQPhcNBAAAAQHG4x0EAAACyFF7DQQAAAAavAsZBAAAAIX4XwUEAAAAwELPKQQAAACK5a8VBAAAAHnmEwkEAAAD63arJQQAAACZKzstBAAAAki5Rx0EAAABssGjIQQAAAI35w89BAAAA0nVuz0EAAAC0UXbLQQAAAD9fG8xBAAAAyIEF0EEAAADKgA68QQAAAFpC5tFBAAAAnQr3zkEAAAAAAAAAAAAAAHlia8ZBAAAAn2N/x0EAAAAAAAAAAAAAgHUU9s1B",
          "dtype": "f8"
         }
        },
        {
         "mode": "lines+markers",
         "name": "TINTAS - Uvas de mesa",
         "type": "scatter",
         "x": {
          "bdata": "sgezB7QHtQe2B7cHuAe5B7oHuwe8B70Hvge/B8AHwQfCB8MHxAfFB8YHxwfIB8kHygfLB8wHzQfOB88H0AfRB9IH0wfUB9UH1gfXB9gH2QfaB9sH3AfdB94H3wfgB+EH4gfjB+QH5QfmB+cH",
          "dtype": "i2"
         },
         "y": {
          "bdata": "AAAAAADS+0AAAAAAwC/1QAAAAAAATMFAAAAAAIB10UAAAAAAsKcOQQAAAACYbRZBAAAAAACcBUEAAAAAcLsLQQAAAACgXQpBAAAAAMijE0EAAAAAsMkAQQAAAADAO/tAAAAAAIBB60AAAAAAANrPQAAAAAAAUsdAAAAAAEAk4UAAAAAAALjMQAAAAAAAv9hAAAAAACCn7EAAAAAAFPMaQQAAAABwMgNBAAAAAGB4+UAAAAAAUPT2QAAAAAAAAAAAAAAAgJVkTUEAAAAAUJTzQAAAAAB1MjVBAAAAAFjiFkEAAAAAgCHVQAAAAAAAAH5AAAAAAIAa20AAAAAAABvnQAAAAADAseZAAAAAAADGzEAAAAAAQET4QAAAAACAU/hAAAAAACCh8UAAAAAAoFkAQQAAAADQrghBAAAAANCaBEEAAAAAwAbvQAAAAACQzQVBAAAAAGC3EUEAAAAAIGYCQQAAAACgEwBBAAAAANCPCkEAAAAAwA35QAAAAABg4ARBAAAAAOCM/kAAAAAAAAAAAAAAAABA/v5AAAAAAAA55UAAAAAAAAAAAAAAAACwXRVB",
          "dtype": "f8"
         }
        },
        {
         "mode": "lines+markers",
         "name": "TINTAS - Viníferas",
         "type": "scatter",
         "x": {
          "bdata": "sgezB7QHtQe2B7cHuAe5B7oHuwe8B70Hvge/B8AHwQfCB8MHxAfFB8YHxwfIB8kHygfLB8wHzQfOB88H0AfRB9IH0wfUB9UH1gfXB9gH2QfaB9sH3AfdB94H3wfgB+EH4gfjB+QH5QfmB+cH",
          "dtype": "i2"
         },
         "y": {
          "bdata": "AAAAgKztc0EAAAAgXAF1QQAAAADdmHRBAAAAgCpVb0EAAACQK6aAQQAAANAVjIVBAAAAYI5Tg0EAAACQGK6HQQAAACBS94RBAAAAMEeciEEAAADwtpCAQQAAADAnropBAAAAwA5vjkEAAAAQOSSFQQAAAHAaQoVBAAAA8OjLjEEAAADgQd6BQQAAAECaaoBBAAAAAJKPiEEAAACQMuuGQQAAADCXpYdBAAAAkKk1gUEAAAAg2h6FQQAAAMArNYRBAAAAkO9Ph0EAAAAAyYyCQQAAAEAma4JBAAAAgBkOg0EAAAAAN+x5QQAAAOABN4FBAAAA0HfdhkEAAACQqwaBQQAAAHBPLYJBAAAAcLc/hUEAAADo/8CQQQAAABh7vZNBAAAAmElKkEEAAAD4vtCUQQAAAPByS5dBAAAA2NKqkkEAAABw+omGQQAAAKDnNJVBAAAAiMS9kkEAAADY85KRQQAAACABboxBAAAAsICMjEEAAABAvoB5QQAAADA+VI9BAAAAILKfiUEAAAAAAAAAAAAAABDLtIpBAAAALF8+pkEAAAAAAAAAAAAAAPAEHJFB",
          "dtype": "f8"
         }
        }
       ],
       "layout": {
        "height": 500,
        "legend": {
         "title": {
          "text": "Category - Grape Type"
         }
        },
        "margin": {
         "b": 50,
         "l": 60,
         "r": 150,
         "t": 50
        },
        "template": {
         "data": {
          "bar": [
           {
            "error_x": {
             "color": "#2a3f5f"
            },
            "error_y": {
             "color": "#2a3f5f"
            },
            "marker": {
             "line": {
              "color": "white",
              "width": 0.5
             },
             "pattern": {
              "fillmode": "overlay",
              "size": 10,
              "solidity": 0.2
             }
            },
            "type": "bar"
           }
          ],
          "barpolar": [
           {
            "marker": {
             "line": {
              "color": "white",
              "width": 0.5
             },
             "pattern": {
              "fillmode": "overlay",
              "size": 10,
              "solidity": 0.2
             }
            },
            "type": "barpolar"
           }
          ],
          "carpet": [
           {
            "aaxis": {
             "endlinecolor": "#2a3f5f",
             "gridcolor": "#C8D4E3",
             "linecolor": "#C8D4E3",
             "minorgridcolor": "#C8D4E3",
             "startlinecolor": "#2a3f5f"
            },
            "baxis": {
             "endlinecolor": "#2a3f5f",
             "gridcolor": "#C8D4E3",
             "linecolor": "#C8D4E3",
             "minorgridcolor": "#C8D4E3",
             "startlinecolor": "#2a3f5f"
            },
            "type": "carpet"
           }
          ],
          "choropleth": [
           {
            "colorbar": {
             "outlinewidth": 0,
             "ticks": ""
            },
            "type": "choropleth"
           }
          ],
          "contour": [
           {
            "colorbar": {
             "outlinewidth": 0,
             "ticks": ""
            },
            "colorscale": [
             [
              0,
              "#0d0887"
             ],
             [
              0.1111111111111111,
              "#46039f"
             ],
             [
              0.2222222222222222,
              "#7201a8"
             ],
             [
              0.3333333333333333,
              "#9c179e"
             ],
             [
              0.4444444444444444,
              "#bd3786"
             ],
             [
              0.5555555555555556,
              "#d8576b"
             ],
             [
              0.6666666666666666,
              "#ed7953"
             ],
             [
              0.7777777777777778,
              "#fb9f3a"
             ],
             [
              0.8888888888888888,
              "#fdca26"
             ],
             [
              1,
              "#f0f921"
             ]
            ],
            "type": "contour"
           }
          ],
          "contourcarpet": [
           {
            "colorbar": {
             "outlinewidth": 0,
             "ticks": ""
            },
            "type": "contourcarpet"
           }
          ],
          "heatmap": [
           {
            "colorbar": {
             "outlinewidth": 0,
             "ticks": ""
            },
            "colorscale": [
             [
              0,
              "#0d0887"
             ],
             [
              0.1111111111111111,
              "#46039f"
             ],
             [
              0.2222222222222222,
              "#7201a8"
             ],
             [
              0.3333333333333333,
              "#9c179e"
             ],
             [
              0.4444444444444444,
              "#bd3786"
             ],
             [
              0.5555555555555556,
              "#d8576b"
             ],
             [
              0.6666666666666666,
              "#ed7953"
             ],
             [
              0.7777777777777778,
              "#fb9f3a"
             ],
             [
              0.8888888888888888,
              "#fdca26"
             ],
             [
              1,
              "#f0f921"
             ]
            ],
            "type": "heatmap"
           }
          ],
          "histogram": [
           {
            "marker": {
             "pattern": {
              "fillmode": "overlay",
              "size": 10,
              "solidity": 0.2
             }
            },
            "type": "histogram"
           }
          ],
          "histogram2d": [
           {
            "colorbar": {
             "outlinewidth": 0,
             "ticks": ""
            },
            "colorscale": [
             [
              0,
              "#0d0887"
             ],
             [
              0.1111111111111111,
              "#46039f"
             ],
             [
              0.2222222222222222,
              "#7201a8"
             ],
             [
              0.3333333333333333,
              "#9c179e"
             ],
             [
              0.4444444444444444,
              "#bd3786"
             ],
             [
              0.5555555555555556,
              "#d8576b"
             ],
             [
              0.6666666666666666,
              "#ed7953"
             ],
             [
              0.7777777777777778,
              "#fb9f3a"
             ],
             [
              0.8888888888888888,
              "#fdca26"
             ],
             [
              1,
              "#f0f921"
             ]
            ],
            "type": "histogram2d"
           }
          ],
          "histogram2dcontour": [
           {
            "colorbar": {
             "outlinewidth": 0,
             "ticks": ""
            },
            "colorscale": [
             [
              0,
              "#0d0887"
             ],
             [
              0.1111111111111111,
              "#46039f"
             ],
             [
              0.2222222222222222,
              "#7201a8"
             ],
             [
              0.3333333333333333,
              "#9c179e"
             ],
             [
              0.4444444444444444,
              "#bd3786"
             ],
             [
              0.5555555555555556,
              "#d8576b"
             ],
             [
              0.6666666666666666,
              "#ed7953"
             ],
             [
              0.7777777777777778,
              "#fb9f3a"
             ],
             [
              0.8888888888888888,
              "#fdca26"
             ],
             [
              1,
              "#f0f921"
             ]
            ],
            "type": "histogram2dcontour"
           }
          ],
          "mesh3d": [
           {
            "colorbar": {
             "outlinewidth": 0,
             "ticks": ""
            },
            "type": "mesh3d"
           }
          ],
          "parcoords": [
           {
            "line": {
             "colorbar": {
              "outlinewidth": 0,
              "ticks": ""
             }
            },
            "type": "parcoords"
           }
          ],
          "pie": [
           {
            "automargin": true,
            "type": "pie"
           }
          ],
          "scatter": [
           {
            "fillpattern": {
             "fillmode": "overlay",
             "size": 10,
             "solidity": 0.2
            },
            "type": "scatter"
           }
          ],
          "scatter3d": [
           {
            "line": {
             "colorbar": {
              "outlinewidth": 0,
              "ticks": ""
             }
            },
            "marker": {
             "colorbar": {
              "outlinewidth": 0,
              "ticks": ""
             }
            },
            "type": "scatter3d"
           }
          ],
          "scattercarpet": [
           {
            "marker": {
             "colorbar": {
              "outlinewidth": 0,
              "ticks": ""
             }
            },
            "type": "scattercarpet"
           }
          ],
          "scattergeo": [
           {
            "marker": {
             "colorbar": {
              "outlinewidth": 0,
              "ticks": ""
             }
            },
            "type": "scattergeo"
           }
          ],
          "scattergl": [
           {
            "marker": {
             "colorbar": {
              "outlinewidth": 0,
              "ticks": ""
             }
            },
            "type": "scattergl"
           }
          ],
          "scattermap": [
           {
            "marker": {
             "colorbar": {
              "outlinewidth": 0,
              "ticks": ""
             }
            },
            "type": "scattermap"
           }
          ],
          "scattermapbox": [
           {
            "marker": {
             "colorbar": {
              "outlinewidth": 0,
              "ticks": ""
             }
            },
            "type": "scattermapbox"
           }
          ],
          "scatterpolar": [
           {
            "marker": {
             "colorbar": {
              "outlinewidth": 0,
              "ticks": ""
             }
            },
            "type": "scatterpolar"
           }
          ],
          "scatterpolargl": [
           {
            "marker": {
             "colorbar": {
              "outlinewidth": 0,
              "ticks": ""
             }
            },
            "type": "scatterpolargl"
           }
          ],
          "scatterternary": [
           {
            "marker": {
             "colorbar": {
              "outlinewidth": 0,
              "ticks": ""
             }
            },
            "type": "scatterternary"
           }
          ],
          "surface": [
           {
            "colorbar": {
             "outlinewidth": 0,
             "ticks": ""
            },
            "colorscale": [
             [
              0,
              "#0d0887"
             ],
             [
              0.1111111111111111,
              "#46039f"
             ],
             [
              0.2222222222222222,
              "#7201a8"
             ],
             [
              0.3333333333333333,
              "#9c179e"
             ],
             [
              0.4444444444444444,
              "#bd3786"
             ],
             [
              0.5555555555555556,
              "#d8576b"
             ],
             [
              0.6666666666666666,
              "#ed7953"
             ],
             [
              0.7777777777777778,
              "#fb9f3a"
             ],
             [
              0.8888888888888888,
              "#fdca26"
             ],
             [
              1,
              "#f0f921"
             ]
            ],
            "type": "surface"
           }
          ],
          "table": [
           {
            "cells": {
             "fill": {
              "color": "#EBF0F8"
             },
             "line": {
              "color": "white"
             }
            },
            "header": {
             "fill": {
              "color": "#C8D4E3"
             },
             "line": {
              "color": "white"
             }
            },
            "type": "table"
           }
          ]
         },
         "layout": {
          "annotationdefaults": {
           "arrowcolor": "#2a3f5f",
           "arrowhead": 0,
           "arrowwidth": 1
          },
          "autotypenumbers": "strict",
          "coloraxis": {
           "colorbar": {
            "outlinewidth": 0,
            "ticks": ""
           }
          },
          "colorscale": {
           "diverging": [
            [
             0,
             "#8e0152"
            ],
            [
             0.1,
             "#c51b7d"
            ],
            [
             0.2,
             "#de77ae"
            ],
            [
             0.3,
             "#f1b6da"
            ],
            [
             0.4,
             "#fde0ef"
            ],
            [
             0.5,
             "#f7f7f7"
            ],
            [
             0.6,
             "#e6f5d0"
            ],
            [
             0.7,
             "#b8e186"
            ],
            [
             0.8,
             "#7fbc41"
            ],
            [
             0.9,
             "#4d9221"
            ],
            [
             1,
             "#276419"
            ]
           ],
           "sequential": [
            [
             0,
             "#0d0887"
            ],
            [
             0.1111111111111111,
             "#46039f"
            ],
            [
             0.2222222222222222,
             "#7201a8"
            ],
            [
             0.3333333333333333,
             "#9c179e"
            ],
            [
             0.4444444444444444,
             "#bd3786"
            ],
            [
             0.5555555555555556,
             "#d8576b"
            ],
            [
             0.6666666666666666,
             "#ed7953"
            ],
            [
             0.7777777777777778,
             "#fb9f3a"
            ],
            [
             0.8888888888888888,
             "#fdca26"
            ],
            [
             1,
             "#f0f921"
            ]
           ],
           "sequentialminus": [
            [
             0,
             "#0d0887"
            ],
            [
             0.1111111111111111,
             "#46039f"
            ],
            [
             0.2222222222222222,
             "#7201a8"
            ],
            [
             0.3333333333333333,
             "#9c179e"
            ],
            [
             0.4444444444444444,
             "#bd3786"
            ],
            [
             0.5555555555555556,
             "#d8576b"
            ],
            [
             0.6666666666666666,
             "#ed7953"
            ],
            [
             0.7777777777777778,
             "#fb9f3a"
            ],
            [
             0.8888888888888888,
             "#fdca26"
            ],
            [
             1,
             "#f0f921"
            ]
           ]
          },
          "colorway": [
           "#636efa",
           "#EF553B",
           "#00cc96",
           "#ab63fa",
           "#FFA15A",
           "#19d3f3",
           "#FF6692",
           "#B6E880",
           "#FF97FF",
           "#FECB52"
          ],
          "font": {
           "color": "#2a3f5f"
          },
          "geo": {
           "bgcolor": "white",
           "lakecolor": "white",
           "landcolor": "white",
           "showlakes": true,
           "showland": true,
           "subunitcolor": "#C8D4E3"
          },
          "hoverlabel": {
           "align": "left"
          },
          "hovermode": "closest",
          "mapbox": {
           "style": "light"
          },
          "paper_bgcolor": "white",
          "plot_bgcolor": "white",
          "polar": {
           "angularaxis": {
            "gridcolor": "#EBF0F8",
            "linecolor": "#EBF0F8",
            "ticks": ""
           },
           "bgcolor": "white",
           "radialaxis": {
            "gridcolor": "#EBF0F8",
            "linecolor": "#EBF0F8",
            "ticks": ""
           }
          },
          "scene": {
           "xaxis": {
            "backgroundcolor": "white",
            "gridcolor": "#DFE8F3",
            "gridwidth": 2,
            "linecolor": "#EBF0F8",
            "showbackground": true,
            "ticks": "",
            "zerolinecolor": "#EBF0F8"
           },
           "yaxis": {
            "backgroundcolor": "white",
            "gridcolor": "#DFE8F3",
            "gridwidth": 2,
            "linecolor": "#EBF0F8",
            "showbackground": true,
            "ticks": "",
            "zerolinecolor": "#EBF0F8"
           },
           "zaxis": {
            "backgroundcolor": "white",
            "gridcolor": "#DFE8F3",
            "gridwidth": 2,
            "linecolor": "#EBF0F8",
            "showbackground": true,
            "ticks": "",
            "zerolinecolor": "#EBF0F8"
           }
          },
          "shapedefaults": {
           "line": {
            "color": "#2a3f5f"
           }
          },
          "ternary": {
           "aaxis": {
            "gridcolor": "#DFE8F3",
            "linecolor": "#A2B1C6",
            "ticks": ""
           },
           "baxis": {
            "gridcolor": "#DFE8F3",
            "linecolor": "#A2B1C6",
            "ticks": ""
           },
           "bgcolor": "white",
           "caxis": {
            "gridcolor": "#DFE8F3",
            "linecolor": "#A2B1C6",
            "ticks": ""
           }
          },
          "title": {
           "x": 0.05
          },
          "xaxis": {
           "automargin": true,
           "gridcolor": "#EBF0F8",
           "linecolor": "#EBF0F8",
           "ticks": "",
           "title": {
            "standoff": 15
           },
           "zerolinecolor": "#EBF0F8",
           "zerolinewidth": 2
          },
          "yaxis": {
           "automargin": true,
           "gridcolor": "#EBF0F8",
           "linecolor": "#EBF0F8",
           "ticks": "",
           "title": {
            "standoff": 15
           },
           "zerolinecolor": "#EBF0F8",
           "zerolinewidth": 2
          }
         }
        },
        "title": {
         "text": "Grape Processing by Category and Grape Type"
        },
        "width": 1000,
        "xaxis": {
         "dtick": 1,
         "title": {
          "text": "Year"
         }
        },
        "yaxis": {
         "title": {
          "text": "Quantity Processed (kg)"
         }
        }
       }
      }
     },
     "metadata": {},
     "output_type": "display_data"
    }
   ],
   "source": [
    "# Grouping by year and category\n",
    "# This graph allows you to analyze how grapes have been processed over the years, differentiating between the two main destinations: juice production and wine production.\n",
    "import plotly.graph_objects as go\n",
    "\n",
    "df_proc_grouped = (\n",
    "    df_proc.groupby([\"Year\", \"Category\", \"GrapeType\"])[\"Quantity (kg)\"]\n",
    "    .sum()\n",
    "    .reset_index()\n",
    ")\n",
    "\n",
    "pivot_df = df_proc_grouped.pivot_table(\n",
    "    index=\"Year\",\n",
    "    columns=[\"Category\", \"GrapeType\"],\n",
    "    values=\"Quantity (kg)\",\n",
    "    aggfunc=\"sum\"\n",
    ")\n",
    "\n",
    "# Create figure\n",
    "fig = go.Figure()\n",
    "\n",
    "# Add each line to the figure\n",
    "for (category, grape_type) in pivot_df.columns:\n",
    "    fig.add_trace(go.Scatter(\n",
    "        x=pivot_df.index,\n",
    "        y=pivot_df[(category, grape_type)],\n",
    "        mode='lines+markers',\n",
    "        name=f\"{category} - {grape_type}\"\n",
    "    ))\n",
    "\n",
    "# Customize layout\n",
    "fig.update_layout(\n",
    "    title=\"Grape Processing by Category and Grape Type\",\n",
    "    xaxis_title=\"Year\",\n",
    "    yaxis_title=\"Quantity Processed (kg)\",\n",
    "    width=1000,\n",
    "    height=500,\n",
    "    legend_title=\"Category - Grape Type\",\n",
    "    template=\"plotly_white\",\n",
    "    xaxis=dict(dtick=1),\n",
    "    margin=dict(t=50, r=150, b=50, l=60)\n",
    ")\n",
    "\n",
    "fig.show()\n"
   ]
  },
  {
   "cell_type": "code",
   "execution_count": 116,
   "id": "54564bb6-c132-4a15-bcf3-2947772f8443",
   "metadata": {},
   "outputs": [
    {
     "data": {
      "text/html": [
       "<div>\n",
       "<style scoped>\n",
       "    .dataframe tbody tr th:only-of-type {\n",
       "        vertical-align: middle;\n",
       "    }\n",
       "\n",
       "    .dataframe tbody tr th {\n",
       "        vertical-align: top;\n",
       "    }\n",
       "\n",
       "    .dataframe thead th {\n",
       "        text-align: right;\n",
       "    }\n",
       "</style>\n",
       "<table border=\"1\" class=\"dataframe\">\n",
       "  <thead>\n",
       "    <tr style=\"text-align: right;\">\n",
       "      <th></th>\n",
       "      <th>Type</th>\n",
       "      <th>Country</th>\n",
       "      <th>Quantity (kg)</th>\n",
       "      <th>Value (US$)</th>\n",
       "      <th>Year</th>\n",
       "    </tr>\n",
       "  </thead>\n",
       "  <tbody>\n",
       "    <tr>\n",
       "      <th>0</th>\n",
       "      <td>Vinhos de mesa</td>\n",
       "      <td>Africa do Sul</td>\n",
       "      <td>NaN</td>\n",
       "      <td>NaN</td>\n",
       "      <td>1970</td>\n",
       "    </tr>\n",
       "    <tr>\n",
       "      <th>1</th>\n",
       "      <td>Vinhos de mesa</td>\n",
       "      <td>Alemanha</td>\n",
       "      <td>52297.0</td>\n",
       "      <td>30498.0</td>\n",
       "      <td>1970</td>\n",
       "    </tr>\n",
       "    <tr>\n",
       "      <th>2</th>\n",
       "      <td>Vinhos de mesa</td>\n",
       "      <td>Argélia</td>\n",
       "      <td>NaN</td>\n",
       "      <td>NaN</td>\n",
       "      <td>1970</td>\n",
       "    </tr>\n",
       "    <tr>\n",
       "      <th>3</th>\n",
       "      <td>Vinhos de mesa</td>\n",
       "      <td>Arábia Saudita</td>\n",
       "      <td>NaN</td>\n",
       "      <td>NaN</td>\n",
       "      <td>1970</td>\n",
       "    </tr>\n",
       "    <tr>\n",
       "      <th>4</th>\n",
       "      <td>Vinhos de mesa</td>\n",
       "      <td>Argentina</td>\n",
       "      <td>19525.0</td>\n",
       "      <td>12260.0</td>\n",
       "      <td>1970</td>\n",
       "    </tr>\n",
       "  </tbody>\n",
       "</table>\n",
       "</div>"
      ],
      "text/plain": [
       "             Type         Country  Quantity (kg)  Value (US$)  Year\n",
       "0  Vinhos de mesa   Africa do Sul            NaN          NaN  1970\n",
       "1  Vinhos de mesa        Alemanha        52297.0      30498.0  1970\n",
       "2  Vinhos de mesa         Argélia            NaN          NaN  1970\n",
       "3  Vinhos de mesa  Arábia Saudita            NaN          NaN  1970\n",
       "4  Vinhos de mesa       Argentina        19525.0      12260.0  1970"
      ]
     },
     "execution_count": 116,
     "metadata": {},
     "output_type": "execute_result"
    }
   ],
   "source": [
    "df_exp.head()\n",
    "df_imp.head()"
   ]
  },
  {
   "cell_type": "code",
   "execution_count": 117,
   "id": "decadc60-36e3-4caa-9c19-30ec371128fa",
   "metadata": {},
   "outputs": [
    {
     "data": {
      "application/vnd.plotly.v1+json": {
       "config": {
        "plotlyServerURL": "https://plot.ly"
       },
       "data": [
        {
         "line": {
          "width": 2
         },
         "marker": {
          "size": 8,
          "symbol": "circle"
         },
         "mode": "lines+markers",
         "name": "Exportation",
         "type": "scatter",
         "x": {
          "bdata": "sgezB7QHtQe2B7cHuAe5B7oHuwe8B70Hvge/B8AHwQfCB8MHxAfFB8YHxwfIB8kHygfLB8wHzQfOB88H0AfRB9IH0wfUB9UH1gfXB9gH2QfaB9sH3AfdB94H3wfgB+EH4gfjB+QH5QfmB+cH",
          "dtype": "i2"
         },
         "y": {
          "bdata": "AAAAAMBIAUEAAAAAYMQRQQAAAAAo0B5BAAAAAE0ZMUEAAAAAKIMpQQAAAACXbjRBAAAAAPeyMUEAAACA31NBQQAAAIAOoUJBAAAAACY7WkEAAACABBdWQQAAAIBuJEpBAAAAADJZTkEAAABAbeZQQQAAAIDv+FFBAAAAAKkeW0EAAACAVc1jQQAAAECeflpBAAAAQKf9YkEAAADgNLpmQQAAAAA082VBAAAAQMl+Y0EAAADgqup2QQAAABicHIRBAAAAoO1Ie0EAAACQZUh5QQAAAODOjndBAAAAcMOVe0EAAACQSMZxQQAAAIC2X3ZBAAAAsI1OfEEAAABwC919QQAAAOBR6YBBAAAAeJwNhUEAAAAgNrGCQQAAAChF1Y1BAAAAlFABkUEAAABUXjqVQQAAALQVvZdBAAAA9HSClEEAAADAOUSPQQAAAEhcE49BAAAAsOTRjEEAAABYNhCLQQAAAAj5M4FBAAAA8ABIgkEAAAAQofeAQQAAAAARzYdBAAAAMDachUEAAABQpR6IQQAAAMjkmYpBAAAAbH82lUEAAAAQyjOPQQAAANgiJJRB",
          "dtype": "f8"
         }
        },
        {
         "line": {
          "dash": "dash",
          "width": 2
         },
         "marker": {
          "size": 8,
          "symbol": "x"
         },
         "mode": "lines+markers",
         "name": "Importation",
         "type": "scatter",
         "x": {
          "bdata": "sgezB7QHtQe2B7cHuAe5B7oHuwe8B70Hvge/B8AHwQfCB8MHxAfFB8YHxwfIB8kHygfLB8wHzQfOB88H0AfRB9IH0wfUB9UH1gfXB9gH2QfaB9sH3AfdB94H3wfgB+EH4gfjB+QH5QfmB+cH",
          "dtype": "i2"
         },
         "y": {
          "bdata": "AAAAYCcEYkEAAABAjr9gQQAAAEARCmNBAAAAwLv2Y0EAAAAgnKNkQQAAAKDre2RBAAAAYGt/akEAAADAabFtQQAAABB/NHFBAAAAQCc/cEEAAABAhCBlQQAAAIC0/WFBAAAAQGo9ZkEAAADgi6tmQQAAAIBb91lBAAAAQMIbZEEAAABA0WpyQQAAAABZbHBBAAAAcOT3dUEAAAB4LbyBQQAAADAoIX9BAAAA0NkofkEAAACA3MBxQQAAABBNwnhBAAAAMGd/hUEAAADACTuWQQAAAKxvlpdBAAAAjDljkEEAAABEEM2QQQAAACgZeopBAAAAsIOoi0EAAABo5QqLQQAAAFiUeohBAAAAcGDYiUEAAAAw2+uNQQAAAKjIbo9BAAAA6H4tlEEAAADUzxeXQQAAAOSIppVBAAAAnHn1l0EAAAA4wESeQQAAAM53PKBBAAAABrd1oEEAAADo2tWeQQAAAIDRi6BBAAAAZGCGoEEAAAAMYZuhQQAAANZE7qRBAAAASKCjo0EAAAD6v2SjQQAAADi9ZaZBAAAAgI/NpkEAAAAw3d+mQQAAACYH7KVB",
          "dtype": "f8"
         }
        }
       ],
       "layout": {
        "height": 500,
        "legend": {
         "title": {
          "text": "Type"
         }
        },
        "margin": {
         "b": 60,
         "l": 60,
         "r": 60,
         "t": 50
        },
        "template": {
         "data": {
          "bar": [
           {
            "error_x": {
             "color": "#2a3f5f"
            },
            "error_y": {
             "color": "#2a3f5f"
            },
            "marker": {
             "line": {
              "color": "white",
              "width": 0.5
             },
             "pattern": {
              "fillmode": "overlay",
              "size": 10,
              "solidity": 0.2
             }
            },
            "type": "bar"
           }
          ],
          "barpolar": [
           {
            "marker": {
             "line": {
              "color": "white",
              "width": 0.5
             },
             "pattern": {
              "fillmode": "overlay",
              "size": 10,
              "solidity": 0.2
             }
            },
            "type": "barpolar"
           }
          ],
          "carpet": [
           {
            "aaxis": {
             "endlinecolor": "#2a3f5f",
             "gridcolor": "#C8D4E3",
             "linecolor": "#C8D4E3",
             "minorgridcolor": "#C8D4E3",
             "startlinecolor": "#2a3f5f"
            },
            "baxis": {
             "endlinecolor": "#2a3f5f",
             "gridcolor": "#C8D4E3",
             "linecolor": "#C8D4E3",
             "minorgridcolor": "#C8D4E3",
             "startlinecolor": "#2a3f5f"
            },
            "type": "carpet"
           }
          ],
          "choropleth": [
           {
            "colorbar": {
             "outlinewidth": 0,
             "ticks": ""
            },
            "type": "choropleth"
           }
          ],
          "contour": [
           {
            "colorbar": {
             "outlinewidth": 0,
             "ticks": ""
            },
            "colorscale": [
             [
              0,
              "#0d0887"
             ],
             [
              0.1111111111111111,
              "#46039f"
             ],
             [
              0.2222222222222222,
              "#7201a8"
             ],
             [
              0.3333333333333333,
              "#9c179e"
             ],
             [
              0.4444444444444444,
              "#bd3786"
             ],
             [
              0.5555555555555556,
              "#d8576b"
             ],
             [
              0.6666666666666666,
              "#ed7953"
             ],
             [
              0.7777777777777778,
              "#fb9f3a"
             ],
             [
              0.8888888888888888,
              "#fdca26"
             ],
             [
              1,
              "#f0f921"
             ]
            ],
            "type": "contour"
           }
          ],
          "contourcarpet": [
           {
            "colorbar": {
             "outlinewidth": 0,
             "ticks": ""
            },
            "type": "contourcarpet"
           }
          ],
          "heatmap": [
           {
            "colorbar": {
             "outlinewidth": 0,
             "ticks": ""
            },
            "colorscale": [
             [
              0,
              "#0d0887"
             ],
             [
              0.1111111111111111,
              "#46039f"
             ],
             [
              0.2222222222222222,
              "#7201a8"
             ],
             [
              0.3333333333333333,
              "#9c179e"
             ],
             [
              0.4444444444444444,
              "#bd3786"
             ],
             [
              0.5555555555555556,
              "#d8576b"
             ],
             [
              0.6666666666666666,
              "#ed7953"
             ],
             [
              0.7777777777777778,
              "#fb9f3a"
             ],
             [
              0.8888888888888888,
              "#fdca26"
             ],
             [
              1,
              "#f0f921"
             ]
            ],
            "type": "heatmap"
           }
          ],
          "histogram": [
           {
            "marker": {
             "pattern": {
              "fillmode": "overlay",
              "size": 10,
              "solidity": 0.2
             }
            },
            "type": "histogram"
           }
          ],
          "histogram2d": [
           {
            "colorbar": {
             "outlinewidth": 0,
             "ticks": ""
            },
            "colorscale": [
             [
              0,
              "#0d0887"
             ],
             [
              0.1111111111111111,
              "#46039f"
             ],
             [
              0.2222222222222222,
              "#7201a8"
             ],
             [
              0.3333333333333333,
              "#9c179e"
             ],
             [
              0.4444444444444444,
              "#bd3786"
             ],
             [
              0.5555555555555556,
              "#d8576b"
             ],
             [
              0.6666666666666666,
              "#ed7953"
             ],
             [
              0.7777777777777778,
              "#fb9f3a"
             ],
             [
              0.8888888888888888,
              "#fdca26"
             ],
             [
              1,
              "#f0f921"
             ]
            ],
            "type": "histogram2d"
           }
          ],
          "histogram2dcontour": [
           {
            "colorbar": {
             "outlinewidth": 0,
             "ticks": ""
            },
            "colorscale": [
             [
              0,
              "#0d0887"
             ],
             [
              0.1111111111111111,
              "#46039f"
             ],
             [
              0.2222222222222222,
              "#7201a8"
             ],
             [
              0.3333333333333333,
              "#9c179e"
             ],
             [
              0.4444444444444444,
              "#bd3786"
             ],
             [
              0.5555555555555556,
              "#d8576b"
             ],
             [
              0.6666666666666666,
              "#ed7953"
             ],
             [
              0.7777777777777778,
              "#fb9f3a"
             ],
             [
              0.8888888888888888,
              "#fdca26"
             ],
             [
              1,
              "#f0f921"
             ]
            ],
            "type": "histogram2dcontour"
           }
          ],
          "mesh3d": [
           {
            "colorbar": {
             "outlinewidth": 0,
             "ticks": ""
            },
            "type": "mesh3d"
           }
          ],
          "parcoords": [
           {
            "line": {
             "colorbar": {
              "outlinewidth": 0,
              "ticks": ""
             }
            },
            "type": "parcoords"
           }
          ],
          "pie": [
           {
            "automargin": true,
            "type": "pie"
           }
          ],
          "scatter": [
           {
            "fillpattern": {
             "fillmode": "overlay",
             "size": 10,
             "solidity": 0.2
            },
            "type": "scatter"
           }
          ],
          "scatter3d": [
           {
            "line": {
             "colorbar": {
              "outlinewidth": 0,
              "ticks": ""
             }
            },
            "marker": {
             "colorbar": {
              "outlinewidth": 0,
              "ticks": ""
             }
            },
            "type": "scatter3d"
           }
          ],
          "scattercarpet": [
           {
            "marker": {
             "colorbar": {
              "outlinewidth": 0,
              "ticks": ""
             }
            },
            "type": "scattercarpet"
           }
          ],
          "scattergeo": [
           {
            "marker": {
             "colorbar": {
              "outlinewidth": 0,
              "ticks": ""
             }
            },
            "type": "scattergeo"
           }
          ],
          "scattergl": [
           {
            "marker": {
             "colorbar": {
              "outlinewidth": 0,
              "ticks": ""
             }
            },
            "type": "scattergl"
           }
          ],
          "scattermap": [
           {
            "marker": {
             "colorbar": {
              "outlinewidth": 0,
              "ticks": ""
             }
            },
            "type": "scattermap"
           }
          ],
          "scattermapbox": [
           {
            "marker": {
             "colorbar": {
              "outlinewidth": 0,
              "ticks": ""
             }
            },
            "type": "scattermapbox"
           }
          ],
          "scatterpolar": [
           {
            "marker": {
             "colorbar": {
              "outlinewidth": 0,
              "ticks": ""
             }
            },
            "type": "scatterpolar"
           }
          ],
          "scatterpolargl": [
           {
            "marker": {
             "colorbar": {
              "outlinewidth": 0,
              "ticks": ""
             }
            },
            "type": "scatterpolargl"
           }
          ],
          "scatterternary": [
           {
            "marker": {
             "colorbar": {
              "outlinewidth": 0,
              "ticks": ""
             }
            },
            "type": "scatterternary"
           }
          ],
          "surface": [
           {
            "colorbar": {
             "outlinewidth": 0,
             "ticks": ""
            },
            "colorscale": [
             [
              0,
              "#0d0887"
             ],
             [
              0.1111111111111111,
              "#46039f"
             ],
             [
              0.2222222222222222,
              "#7201a8"
             ],
             [
              0.3333333333333333,
              "#9c179e"
             ],
             [
              0.4444444444444444,
              "#bd3786"
             ],
             [
              0.5555555555555556,
              "#d8576b"
             ],
             [
              0.6666666666666666,
              "#ed7953"
             ],
             [
              0.7777777777777778,
              "#fb9f3a"
             ],
             [
              0.8888888888888888,
              "#fdca26"
             ],
             [
              1,
              "#f0f921"
             ]
            ],
            "type": "surface"
           }
          ],
          "table": [
           {
            "cells": {
             "fill": {
              "color": "#EBF0F8"
             },
             "line": {
              "color": "white"
             }
            },
            "header": {
             "fill": {
              "color": "#C8D4E3"
             },
             "line": {
              "color": "white"
             }
            },
            "type": "table"
           }
          ]
         },
         "layout": {
          "annotationdefaults": {
           "arrowcolor": "#2a3f5f",
           "arrowhead": 0,
           "arrowwidth": 1
          },
          "autotypenumbers": "strict",
          "coloraxis": {
           "colorbar": {
            "outlinewidth": 0,
            "ticks": ""
           }
          },
          "colorscale": {
           "diverging": [
            [
             0,
             "#8e0152"
            ],
            [
             0.1,
             "#c51b7d"
            ],
            [
             0.2,
             "#de77ae"
            ],
            [
             0.3,
             "#f1b6da"
            ],
            [
             0.4,
             "#fde0ef"
            ],
            [
             0.5,
             "#f7f7f7"
            ],
            [
             0.6,
             "#e6f5d0"
            ],
            [
             0.7,
             "#b8e186"
            ],
            [
             0.8,
             "#7fbc41"
            ],
            [
             0.9,
             "#4d9221"
            ],
            [
             1,
             "#276419"
            ]
           ],
           "sequential": [
            [
             0,
             "#0d0887"
            ],
            [
             0.1111111111111111,
             "#46039f"
            ],
            [
             0.2222222222222222,
             "#7201a8"
            ],
            [
             0.3333333333333333,
             "#9c179e"
            ],
            [
             0.4444444444444444,
             "#bd3786"
            ],
            [
             0.5555555555555556,
             "#d8576b"
            ],
            [
             0.6666666666666666,
             "#ed7953"
            ],
            [
             0.7777777777777778,
             "#fb9f3a"
            ],
            [
             0.8888888888888888,
             "#fdca26"
            ],
            [
             1,
             "#f0f921"
            ]
           ],
           "sequentialminus": [
            [
             0,
             "#0d0887"
            ],
            [
             0.1111111111111111,
             "#46039f"
            ],
            [
             0.2222222222222222,
             "#7201a8"
            ],
            [
             0.3333333333333333,
             "#9c179e"
            ],
            [
             0.4444444444444444,
             "#bd3786"
            ],
            [
             0.5555555555555556,
             "#d8576b"
            ],
            [
             0.6666666666666666,
             "#ed7953"
            ],
            [
             0.7777777777777778,
             "#fb9f3a"
            ],
            [
             0.8888888888888888,
             "#fdca26"
            ],
            [
             1,
             "#f0f921"
            ]
           ]
          },
          "colorway": [
           "#636efa",
           "#EF553B",
           "#00cc96",
           "#ab63fa",
           "#FFA15A",
           "#19d3f3",
           "#FF6692",
           "#B6E880",
           "#FF97FF",
           "#FECB52"
          ],
          "font": {
           "color": "#2a3f5f"
          },
          "geo": {
           "bgcolor": "white",
           "lakecolor": "white",
           "landcolor": "white",
           "showlakes": true,
           "showland": true,
           "subunitcolor": "#C8D4E3"
          },
          "hoverlabel": {
           "align": "left"
          },
          "hovermode": "closest",
          "mapbox": {
           "style": "light"
          },
          "paper_bgcolor": "white",
          "plot_bgcolor": "white",
          "polar": {
           "angularaxis": {
            "gridcolor": "#EBF0F8",
            "linecolor": "#EBF0F8",
            "ticks": ""
           },
           "bgcolor": "white",
           "radialaxis": {
            "gridcolor": "#EBF0F8",
            "linecolor": "#EBF0F8",
            "ticks": ""
           }
          },
          "scene": {
           "xaxis": {
            "backgroundcolor": "white",
            "gridcolor": "#DFE8F3",
            "gridwidth": 2,
            "linecolor": "#EBF0F8",
            "showbackground": true,
            "ticks": "",
            "zerolinecolor": "#EBF0F8"
           },
           "yaxis": {
            "backgroundcolor": "white",
            "gridcolor": "#DFE8F3",
            "gridwidth": 2,
            "linecolor": "#EBF0F8",
            "showbackground": true,
            "ticks": "",
            "zerolinecolor": "#EBF0F8"
           },
           "zaxis": {
            "backgroundcolor": "white",
            "gridcolor": "#DFE8F3",
            "gridwidth": 2,
            "linecolor": "#EBF0F8",
            "showbackground": true,
            "ticks": "",
            "zerolinecolor": "#EBF0F8"
           }
          },
          "shapedefaults": {
           "line": {
            "color": "#2a3f5f"
           }
          },
          "ternary": {
           "aaxis": {
            "gridcolor": "#DFE8F3",
            "linecolor": "#A2B1C6",
            "ticks": ""
           },
           "baxis": {
            "gridcolor": "#DFE8F3",
            "linecolor": "#A2B1C6",
            "ticks": ""
           },
           "bgcolor": "white",
           "caxis": {
            "gridcolor": "#DFE8F3",
            "linecolor": "#A2B1C6",
            "ticks": ""
           }
          },
          "title": {
           "x": 0.05
          },
          "xaxis": {
           "automargin": true,
           "gridcolor": "#EBF0F8",
           "linecolor": "#EBF0F8",
           "ticks": "",
           "title": {
            "standoff": 15
           },
           "zerolinecolor": "#EBF0F8",
           "zerolinewidth": 2
          },
          "yaxis": {
           "automargin": true,
           "gridcolor": "#EBF0F8",
           "linecolor": "#EBF0F8",
           "ticks": "",
           "title": {
            "standoff": 15
           },
           "zerolinecolor": "#EBF0F8",
           "zerolinewidth": 2
          }
         }
        },
        "title": {
         "text": "Export vs Import of Grapes (kg)"
        },
        "width": 1000,
        "xaxis": {
         "title": {
          "text": "Year"
         },
         "type": "category"
        },
        "yaxis": {
         "title": {
          "text": "Quantity (kg)"
         }
        }
       }
      }
     },
     "metadata": {},
     "output_type": "display_data"
    }
   ],
   "source": [
    "import plotly.graph_objects as go\n",
    "\n",
    "# Comparison of Export and Import of Grapes over the Years\n",
    "# Group export and import data\n",
    "export_series = df_exp.groupby(\"Year\")[\"Quantity (kg)\"].sum()\n",
    "import_series = df_imp.groupby(\"Year\")[\"Quantity (kg)\"].sum()\n",
    "\n",
    "# Create interactive line plot\n",
    "fig = go.Figure()\n",
    "\n",
    "fig.add_trace(go.Scatter(\n",
    "    x=export_series.index,\n",
    "    y=export_series.values,\n",
    "    mode=\"lines+markers\",\n",
    "    name=\"Exportation\",\n",
    "    marker=dict(symbol=\"circle\", size=8),\n",
    "    line=dict(width=2)\n",
    "))\n",
    "\n",
    "fig.add_trace(go.Scatter(\n",
    "    x=import_series.index,\n",
    "    y=import_series.values,\n",
    "    mode=\"lines+markers\",\n",
    "    name=\"Importation\",\n",
    "    marker=dict(symbol=\"x\", size=8),\n",
    "    line=dict(width=2, dash=\"dash\")\n",
    "))\n",
    "\n",
    "# Customize layout\n",
    "fig.update_layout(\n",
    "    title=\"Export vs Import of Grapes (kg)\",\n",
    "    xaxis_title=\"Year\",\n",
    "    yaxis_title=\"Quantity (kg)\",\n",
    "    template=\"plotly_white\",\n",
    "    width=1000,\n",
    "    height=500,\n",
    "    xaxis=dict(type=\"category\"),\n",
    "    legend_title=\"Type\",\n",
    "    margin=dict(t=50, r=60, b=60, l=60)\n",
    ")\n",
    "\n",
    "fig.show()\n"
   ]
  },
  {
   "cell_type": "code",
   "execution_count": 118,
   "id": "a07367ec-ec67-483a-b2c3-34ceab89e468",
   "metadata": {},
   "outputs": [
    {
     "data": {
      "text/html": [
       "<div>\n",
       "<style scoped>\n",
       "    .dataframe tbody tr th:only-of-type {\n",
       "        vertical-align: middle;\n",
       "    }\n",
       "\n",
       "    .dataframe tbody tr th {\n",
       "        vertical-align: top;\n",
       "    }\n",
       "\n",
       "    .dataframe thead th {\n",
       "        text-align: right;\n",
       "    }\n",
       "</style>\n",
       "<table border=\"1\" class=\"dataframe\">\n",
       "  <thead>\n",
       "    <tr style=\"text-align: right;\">\n",
       "      <th></th>\n",
       "      <th>Category</th>\n",
       "      <th>Product</th>\n",
       "      <th>Quantity (L.)</th>\n",
       "      <th>Year</th>\n",
       "    </tr>\n",
       "  </thead>\n",
       "  <tbody>\n",
       "    <tr>\n",
       "      <th>0</th>\n",
       "      <td>VINHO DE MESA</td>\n",
       "      <td>Total</td>\n",
       "      <td>98327606.0</td>\n",
       "      <td>1970</td>\n",
       "    </tr>\n",
       "    <tr>\n",
       "      <th>1</th>\n",
       "      <td>VINHO DE MESA</td>\n",
       "      <td>Tinto</td>\n",
       "      <td>83300735.0</td>\n",
       "      <td>1970</td>\n",
       "    </tr>\n",
       "    <tr>\n",
       "      <th>2</th>\n",
       "      <td>VINHO DE MESA</td>\n",
       "      <td>Rosado</td>\n",
       "      <td>107681.0</td>\n",
       "      <td>1970</td>\n",
       "    </tr>\n",
       "    <tr>\n",
       "      <th>3</th>\n",
       "      <td>VINHO DE MESA</td>\n",
       "      <td>Branco</td>\n",
       "      <td>14919190.0</td>\n",
       "      <td>1970</td>\n",
       "    </tr>\n",
       "    <tr>\n",
       "      <th>4</th>\n",
       "      <td>VINHO FINO DE MESA</td>\n",
       "      <td>Total</td>\n",
       "      <td>4430629.0</td>\n",
       "      <td>1970</td>\n",
       "    </tr>\n",
       "  </tbody>\n",
       "</table>\n",
       "</div>"
      ],
      "text/plain": [
       "             Category Product  Quantity (L.)  Year\n",
       "0       VINHO DE MESA   Total     98327606.0  1970\n",
       "1       VINHO DE MESA   Tinto     83300735.0  1970\n",
       "2       VINHO DE MESA  Rosado       107681.0  1970\n",
       "3       VINHO DE MESA  Branco     14919190.0  1970\n",
       "4  VINHO FINO DE MESA   Total      4430629.0  1970"
      ]
     },
     "execution_count": 118,
     "metadata": {},
     "output_type": "execute_result"
    }
   ],
   "source": [
    "df_com.head()"
   ]
  },
  {
   "cell_type": "code",
   "execution_count": 119,
   "id": "20983aca-99fb-464d-98e4-beda8823365a",
   "metadata": {},
   "outputs": [
    {
     "data": {
      "application/vnd.plotly.v1+json": {
       "config": {
        "plotlyServerURL": "https://plot.ly"
       },
       "data": [
        {
         "hovertemplate": "Product Type=Agrin (fermentado, acetico misto)<br>Year=%{x}<br>Volume (Liters)=%{y}<extra></extra>",
         "legendgroup": "Agrin (fermentado, acetico misto)",
         "line": {
          "color": "#636efa",
          "dash": "solid"
         },
         "marker": {
          "symbol": "circle"
         },
         "mode": "lines+markers",
         "name": "Agrin (fermentado, acetico misto)",
         "showlegend": true,
         "type": "scattergl",
         "x": {
          "bdata": "sgezB7QHtQe2B7cHuAe5B7oHuwe8B70Hvge/B8AHwQfCB8MHxAfFB8YHxwfIB8kHygfLB8wHzQfOB88H0AfRB9IH0wfUB9UH1gfXB9gH2QfaB9sH3AfdB94H3wfgB+EH4gfjB+QH5QfmB+cH",
          "dtype": "i2"
         },
         "xaxis": "x",
         "y": {
          "bdata": "AAAAAAAAAAAAAAAAAAAAAAAAAAAAAAAAAAAAAAAAAAAAAAAAAAAAAAAAAAAAAAAAAAAAAAAAAAAAAAAAAAAAAAAAAAAAAAAAAAAAAAAAAAAAAAAAAAAAAAAAAAAAAAAAAAAAAAAAAAAAAAAAAAAAAAAAAAAAAAAAAAAAAAAAAAAAAAAAAAAAAAAAAAAAAAAAAAAAAAAAAAAAAAAAAAAAAAAAAAAAAAAAAAAAAAAAAAAAAAAAAAAAAAAAAAAAAAAAAAAAAAAAAAAAAAAAAAAAAAAAAAAAAAAAAAAAAAAAAAAAAAAAAAAAAAAAAAAAAAAAAAAAAAAAAAAAAAAAAAAAAAAAAAAAAAAAAAAAAAAAAAAAAACAB/1dQQAAAADWTVxBAAAAgPRJXUEAAADAqWtbQQAAAMAWultBAAAAwFS7WUEAAAAAGSRaQQAAAEAg4VZBAAAAgMZCVEEAAAAAAM3rQAAAAAAAAAAAAAAAAAAAAAAAAAAAAAAAAAAAAAAAAAAAAAAAAAAAAAAAAAAAAAAAAAAAAAAAAAAAAAAAAAAAAAAAAAAAAAAAAAAAAAAAAAAA",
          "dtype": "f8"
         },
         "yaxis": "y"
        },
        {
         "hovertemplate": "Product Type=Aguardente de vinho 50°gl<br>Year=%{x}<br>Volume (Liters)=%{y}<extra></extra>",
         "legendgroup": "Aguardente de vinho 50°gl",
         "line": {
          "color": "#EF553B",
          "dash": "solid"
         },
         "marker": {
          "symbol": "circle"
         },
         "mode": "lines+markers",
         "name": "Aguardente de vinho 50°gl",
         "showlegend": true,
         "type": "scattergl",
         "x": {
          "bdata": "sgezB7QHtQe2B7cHuAe5B7oHuwe8B70Hvge/B8AHwQfCB8MHxAfFB8YHxwfIB8kHygfLB8wHzQfOB88H0AfRB9IH0wfUB9UH1gfXB9gH2QfaB9sH3AfdB94H3wfgB+EH4gfjB+QH5QfmB+cH",
          "dtype": "i2"
         },
         "xaxis": "x",
         "y": {
          "bdata": "AAAAAAAAAAAAAAAAAAAAAAAAAAAAAAAAAAAAAAAAAAAAAAAAAAAAAAAAAAAAAAAAAAAAAAAAAAAAAAAAAAAAAAAAAAAAAAAAAAAAAAAAAAAAAAAAAAAAAAAAAAAAAAAAAAAAAAAAAAAAAAAAAAAAAAAAAAAAAAAAAAAAAAAAAAAAAAAAAAAAAAAAAAAAAAAAAAAAAAAAAAAAAAAAAAAAAAAAAAAAAAAAAAAAAAAAAAAAAAAAAAAAAAAAAAAAAAAAAAAAAAAAAAAAAAAAAAAAAAAAAAAAAAAAAAAAAAAAAAAAAAAAAAAAAAAAAAAAAAAAAAAAAAAAAAAAAAAAAAAAAAAAAAAAAAAAAAAAAAAAAAAAAAAAAAAAAAAAAAAAAAAAAAAAAAAAAAAAAAAAAAAAAAAAAAAAAAAAAAAAAAAAAAAAAAAAAAAAAAAAAAAAAAAAAAAAAAAAAAAAAAAAAAAAAAAAAAAAAAAAAAAAAAAAFEAAAAAAAAAAAAAAAAAAAAAAAAAAAAAAAAAAAAAAAAAAAAAAAAAAEItAAAAAAAAAAAAAAAAAAAAAAAAAAAAAwFtA",
          "dtype": "f8"
         },
         "yaxis": "y"
        },
        {
         "hovertemplate": "Product Type=Alcool vinico<br>Year=%{x}<br>Volume (Liters)=%{y}<extra></extra>",
         "legendgroup": "Alcool vinico",
         "line": {
          "color": "#00cc96",
          "dash": "solid"
         },
         "marker": {
          "symbol": "circle"
         },
         "mode": "lines+markers",
         "name": "Alcool vinico",
         "showlegend": true,
         "type": "scattergl",
         "x": {
          "bdata": "sgezB7QHtQe2B7cHuAe5B7oHuwe8B70Hvge/B8AHwQfCB8MHxAfFB8YHxwfIB8kHygfLB8wHzQfOB88H0AfRB9IH0wfUB9UH1gfXB9gH2QfaB9sH3AfdB94H3wfgB+EH4gfjB+QH5QfmB+cH",
          "dtype": "i2"
         },
         "xaxis": "x",
         "y": {
          "bdata": "AAAAAAAAAAAAAAAAAAAAAAAAAAAAAAAAAAAAAAAAAAAAAAAAAAAAAAAAAAAAAAAAAAAAAAAAAAAAAAAAAAAAAAAAAAAAAAAAAAAAAAAAAAAAAAAAAAAAAAAAAAAAAAAAAAAAAAAAAAAAAAAAAAAAAAAAAAAAAAAAAAAAAAAAAAAAAAAAAAAAAAAAAAAAAAAAAAAAAAAAAAAAAAAAAAAAAAAAAAAAAAAAAAAAAAAAAAAAAAAAAAAAAAAAAAAAAAAAAAAAAAAAAAAAAAAAAAAAAAAAAAAAAAAAAAAAAAAAAAAAAAAAAAAAAAAAAAAAAAAAAAAAAAAAAAAAAAAAAAAAAAAAAAAAAAAAAAAAAAAAAAAAAAAAAAAAAAAAAAAAAAAAAAAAAAAAAAAAAAAAAAAAAAAAAAAAAAAAAAAAAAAAAAAAAAAAAAAAAAAAAAAAAAAAAAAAAAAAAAAAAAAAAAAAAAAAAAAAAAAAAAAAAAAAAAAAAAAAAKu4QAAAAADAP+hAAAAAAMAR1UAAAAAAAAAAAAAAAAAA8LlAAAAAAAAAAAAAAAAAAAAAAAAAAAAAAAAA",
          "dtype": "f8"
         },
         "yaxis": "y"
        },
        {
         "hovertemplate": "Product Type=Bagaceira (graspa)<br>Year=%{x}<br>Volume (Liters)=%{y}<extra></extra>",
         "legendgroup": "Bagaceira (graspa)",
         "line": {
          "color": "#ab63fa",
          "dash": "solid"
         },
         "marker": {
          "symbol": "circle"
         },
         "mode": "lines+markers",
         "name": "Bagaceira (graspa)",
         "showlegend": true,
         "type": "scattergl",
         "x": {
          "bdata": "sgezB7QHtQe2B7cHuAe5B7oHuwe8B70Hvge/B8AHwQfCB8MHxAfFB8YHxwfIB8kHygfLB8wHzQfOB88H0AfRB9IH0wfUB9UH1gfXB9gH2QfaB9sH3AfdB94H3wfgB+EH4gfjB+QH5QfmB+cH",
          "dtype": "i2"
         },
         "xaxis": "x",
         "y": {
          "bdata": "AAAAABs0MkEAAAAA5vMwQQAAAABwKzBBAAAAAPBxLkEAAAAAIp4pQQAAAAAEkyVBAAAAAD5QJUEAAAAAgikiQQAAAABQZxpBAAAAACLLKEEAAAAAtCceQQAAAACPBTtBAAAAAKhOHkEAAAAANLIUQQAAAACEixpBAAAAAByqEUEAAAAAyIwVQQAAAACg5QxBAAAAAIRrEUEAAAAAcLcIQQAAAAAgQgVBAAAAAEA7AkEAAAAA4I/iQAAAAAAAVepAAAAAAACM00AAAAAAACjjQAAAAADg7eZAAAAAAKBh4EAAAAAAAArMQAAAAAAAAbRAAAAAAIAKwEAAAAAAgBzLQAAAAABAV9dAAAAAAAB420AAAAAAgI/eQAAAAAAAUt5AAAAAAMA83UAAAAAAgLDUQAAAAADAptZAAAAAAECj1EAAAAAAQAfQQAAAAADAr9FAAAAAAAC7zEAAAAAAwKzQQAAAAAAARMxAAAAAAADGz0AAAAAAgCrCQAAAAACAFMJAAAAAAAARu0AAAAAAABXBQAAAAAAAur1AAAAAAAD8vUAAAAAAANq1QAAAAAAAAAAA",
          "dtype": "f8"
         },
         "yaxis": "y"
        },
        {
         "hovertemplate": "Product Type=Base champenoise champanha<br>Year=%{x}<br>Volume (Liters)=%{y}<extra></extra>",
         "legendgroup": "Base champenoise champanha",
         "line": {
          "color": "#FFA15A",
          "dash": "solid"
         },
         "marker": {
          "symbol": "circle"
         },
         "mode": "lines+markers",
         "name": "Base champenoise champanha",
         "showlegend": true,
         "type": "scattergl",
         "x": {
          "bdata": "sgezB7QHtQe2B7cHuAe5B7oHuwe8B70Hvge/B8AHwQfCB8MHxAfFB8YHxwfIB8kHygfLB8wHzQfOB88H0AfRB9IH0wfUB9UH1gfXB9gH2QfaB9sH3AfdB94H3wfgB+EH4gfjB+QH5QfmB+cH",
          "dtype": "i2"
         },
         "xaxis": "x",
         "y": {
          "bdata": "AAAAAAAAAAAAAAAAAAAAAAAAAAAAAAAAAAAAAAAAAAAAAAAAAAAAAAAAAAAAAAAAAAAAAAAAAAAAAAAAAAAAAAAAAAAAAAAAAAAAAAAAAAAAAAAAAAAAAAAAAAAAAAAAAAAAAAAAAAAAAAAAAAAAAAAAAAAAAAAAAAAAAAAAAAAAAAAAAAAAAAAAAAAAAAAAAAAAAAAAAAAAAAAAAAAAAAAAAAAAAAAAAAAAAAAAAAAAAAAAAAAAAAAAAAAAAAAAAAAAAAAAAAAAAAAAAAAAAAAAAAAAAAAAAAAAAAAAAAAAAAAAAAAAAAAAAAAAAAAAAAAAAAAAAAAAAAAAAAAAAAAAAAAAAAAAAAAAAAAAAAAAAAAAAAAAAAAAAAAAAAAAAAAAAAAAAAAAAAAAAAAAAAAAAACACvFAAAAAAAAAAAAAAAAAAAAmQAAAAADAFeRAAAAAAODV5EAAAAAAgHHaQAAAAACAseZAAAAAAGDE8UAAAAAAUEPyQAAAAABA3OdAAAAAANBL8kAAAAAAwAnwQAAAAAAAIsFAAAAAAAC2wkAAAAAAwMPtQAAAAAAgL/BA",
          "dtype": "f8"
         },
         "yaxis": "y"
        },
        {
         "hovertemplate": "Product Type=Base charmat champanha<br>Year=%{x}<br>Volume (Liters)=%{y}<extra></extra>",
         "legendgroup": "Base charmat champanha",
         "line": {
          "color": "#19d3f3",
          "dash": "solid"
         },
         "marker": {
          "symbol": "circle"
         },
         "mode": "lines+markers",
         "name": "Base charmat champanha",
         "showlegend": true,
         "type": "scattergl",
         "x": {
          "bdata": "sgezB7QHtQe2B7cHuAe5B7oHuwe8B70Hvge/B8AHwQfCB8MHxAfFB8YHxwfIB8kHygfLB8wHzQfOB88H0AfRB9IH0wfUB9UH1gfXB9gH2QfaB9sH3AfdB94H3wfgB+EH4gfjB+QH5QfmB+cH",
          "dtype": "i2"
         },
         "xaxis": "x",
         "y": {
          "bdata": "AAAAAAAAAAAAAAAAAAAAAAAAAAAAAAAAAAAAAAAAAAAAAAAAAAAAAAAAAAAAAAAAAAAAAAAAAAAAAAAAAAAAAAAAAAAAAAAAAAAAAAAAAAAAAAAAAAAAAAAAAAAAAAAAAAAAAAAAAAAAAAAAAAAAAAAAAAAAAAAAAAAAAAAAAAAAAAAAAAAAAAAAAAAAAAAAAAAAAAAAAAAAAAAAAAAAAAAAAAAAAAAAAAAAAAAAAAAAAAAAAAAAAAAAAAAAAAAAAAAAAAAAAAAAAAAAAAAAAAAAAAAAAAAAAAAAAAAAAAAAAAAAAAAAAAAAAAAAAAAAAAAAAAAAAAAAAAAAAAAAAAAAAAAAAAAAAAAAAAAAAAAAAAAAAAAAAAAAAAAAAAAAAAAAAAAAAAAAAAAAAAAAAAAAAAAAAExAAAAAAAAAAAAAAAAA4OvkQAAAAADAKvBAAAAAAMC25kAAAAAAwL73QAAAAACwU/JAAAAAAMCp/EAAAAAAQN/9QAAAAABQPRJBAAAAAASKEUEAAAAAiJUQQQAAAAAAwF5AAAAAAACGsEAAAAAAqLILQQAAAABAdwZB",
          "dtype": "f8"
         },
         "yaxis": "y"
        },
        {
         "hovertemplate": "Product Type=Base espumante moscatel<br>Year=%{x}<br>Volume (Liters)=%{y}<extra></extra>",
         "legendgroup": "Base espumante moscatel",
         "line": {
          "color": "#FF6692",
          "dash": "solid"
         },
         "marker": {
          "symbol": "circle"
         },
         "mode": "lines+markers",
         "name": "Base espumante moscatel",
         "showlegend": true,
         "type": "scattergl",
         "x": {
          "bdata": "sgezB7QHtQe2B7cHuAe5B7oHuwe8B70Hvge/B8AHwQfCB8MHxAfFB8YHxwfIB8kHygfLB8wHzQfOB88H0AfRB9IH0wfUB9UH1gfXB9gH2QfaB9sH3AfdB94H3wfgB+EH4gfjB+QH5QfmB+cH",
          "dtype": "i2"
         },
         "xaxis": "x",
         "y": {
          "bdata": "AAAAAAAAAAAAAAAAAAAAAAAAAAAAAAAAAAAAAAAAAAAAAAAAAAAAAAAAAAAAAAAAAAAAAAAAAAAAAAAAAAAAAAAAAAAAAAAAAAAAAAAAAAAAAAAAAAAAAAAAAAAAAAAAAAAAAAAAAAAAAAAAAAAAAAAAAAAAAAAAAAAAAAAAAAAAAAAAAAAAAAAAAAAAAAAAAAAAAAAAAAAAAAAAAAAAAAAAAAAAAAAAAAAAAAAAAAAAAAAAAAAAAAAAAAAAAAAAAAAAAAAAAAAAAAAAAAAAAAAAAAAAAAAAAAAAAAAAAAAAAAAAAAAAAAAAAAAAAAAAAAAAAAAAAAAAAAAAAAAAAAAAAAAAAAAAAAAAAAAAAAAAAAAAAAAAAAAAAAAAAAAAAAAAAAAAAAAAAAAAAAAAAAAAAAAA/chAAAAAAAAAAAAAAAAAgPzRQAAAAACApNVAAAAAAEBQ2UAAAAAAwNzZQAAAAABgQuJAAAAAAODP8kAAAAAA2BQAQQAAAADw+QBBAAAAAACp+kAAAAAAwDD8QAAAAADAJddAAAAAAMBI6EAAAAAAtv0lQQAAAABQECZB",
          "dtype": "f8"
         },
         "yaxis": "y"
        },
        {
         "hovertemplate": "Product Type=Bebida de uva<br>Year=%{x}<br>Volume (Liters)=%{y}<extra></extra>",
         "legendgroup": "Bebida de uva",
         "line": {
          "color": "#B6E880",
          "dash": "solid"
         },
         "marker": {
          "symbol": "circle"
         },
         "mode": "lines+markers",
         "name": "Bebida de uva",
         "showlegend": true,
         "type": "scattergl",
         "x": {
          "bdata": "sgezB7QHtQe2B7cHuAe5B7oHuwe8B70Hvge/B8AHwQfCB8MHxAfFB8YHxwfIB8kHygfLB8wHzQfOB88H0AfRB9IH0wfUB9UH1gfXB9gH2QfaB9sH3AfdB94H3wfgB+EH4gfjB+QH5QfmB+cH",
          "dtype": "i2"
         },
         "xaxis": "x",
         "y": {
          "bdata": "AAAAAAAAAAAAAAAAAAAAAAAAAAAAAAAAAAAAAAAAAAAAAAAAAAAAAAAAAAAAAAAAAAAAAAAAAAAAAAAAAAAAAAAAAAAAAAAAAAAAAAAAAAAAAAAAAAAAAAAAAAAAAAAAAAAAAAAAAAAAAAAAAAAAAAAAAAAAAAAAAAAAAAAAAAAAAAAAAAAAAAAAAAAAAAAAAAAAAAAAAAAAAAAAAAAAAAAAAAAAAAAAAAAAAAAAAAAAAAAAAAAAAAAAAAAAAAAAAAAAAAAAAAAAAAAAAAAAAAAAAAAAAAAAAAAAAAAAAAAAAAAAAAAAAAAAAAAAAAAAAAAAAAAAAAAAAAAAAAAAAAAAAAAAAAAAAAAAAKD2OkEAAACAP7dGQQAAAEC1S1FBAAAAQGRyU0EAAABA+ntUQQAAAIAdqk1BAAAAAGKGM0EAAAAA0EsnQQAAAACqQiBBAAAAADjjD0EAAAAA0MURQQAAAABwVfFAAAAAAADipUAAAAAAACyXQAAAAACAHMRAAAAAAAAtxEAAAAAAQG0eQQAAAAA8oxVBAAAAACjLE0EAAAAAOBUBQQAAAAAAY9BA",
          "dtype": "f8"
         },
         "yaxis": "y"
        },
        {
         "hovertemplate": "Product Type=Borra líquida<br>Year=%{x}<br>Volume (Liters)=%{y}<extra></extra>",
         "legendgroup": "Borra líquida",
         "line": {
          "color": "#FF97FF",
          "dash": "solid"
         },
         "marker": {
          "symbol": "circle"
         },
         "mode": "lines+markers",
         "name": "Borra líquida",
         "showlegend": true,
         "type": "scattergl",
         "x": {
          "bdata": "sgezB7QHtQe2B7cHuAe5B7oHuwe8B70Hvge/B8AHwQfCB8MHxAfFB8YHxwfIB8kHygfLB8wHzQfOB88H0AfRB9IH0wfUB9UH1gfXB9gH2QfaB9sH3AfdB94H3wfgB+EH4gfjB+QH5QfmB+cH",
          "dtype": "i2"
         },
         "xaxis": "x",
         "y": {
          "bdata": "AAAAAAAAAAAAAAAAAAAAAAAAAAAAAAAAAAAAAAAAAAAAAAAAAAAAAAAAAAAAAAAAAAAAAAAAAAAAAAAAAAAAAAAAAAAAAAAAAAAAAAAAAAAAAAAAAAAAAAAAAAAAAAAAAAAAAAAAAAAAAAAAAAAAAAAAAAAAAAAAAAAAAAAAAAAAAAAAAAAAAAAAAAAAAAAAAAAAAAAAAAAAAAAAAAAAAAAAAAAAAAAAAAAAAAAAAAAAAAAAAAAAAAAAAAAAAAAAAAAAAAAAAAAAAAAAAAAAAAAAAAAAAAAAAAAAAAAAAAAAAAAAAAAAAAAAAAAAAAAAAAAAAAAAAAAAAAAAAAAAAAAAAAAAAAAAAAAAAAAAAAAAAAAAAAAAAAAAAAAAAAAAAAAAAAAAAAAAAAAAAAAAAAAAAAAAAAAAAAAAAABwx0AAAAAAAGTJQAAAAAAAgNVAAAAAAAB31UAAAAAAAHzVQAAAAACgTOBAAAAAAMCG10AAAAAAAEzNQAAAAADATtRAAAAAAACoxkAAAAAAgP3QQAAAAADAb9ZAAAAAAAA4jUAAAAAAAFboQAAAAACAufFA",
          "dtype": "f8"
         },
         "yaxis": "y"
        },
        {
         "hovertemplate": "Product Type=Borra seca<br>Year=%{x}<br>Volume (Liters)=%{y}<extra></extra>",
         "legendgroup": "Borra seca",
         "line": {
          "color": "#FECB52",
          "dash": "solid"
         },
         "marker": {
          "symbol": "circle"
         },
         "mode": "lines+markers",
         "name": "Borra seca",
         "showlegend": true,
         "type": "scattergl",
         "x": {
          "bdata": "sgezB7QHtQe2B7cHuAe5B7oHuwe8B70Hvge/B8AHwQfCB8MHxAfFB8YHxwfIB8kHygfLB8wHzQfOB88H0AfRB9IH0wfUB9UH1gfXB9gH2QfaB9sH3AfdB94H3wfgB+EH4gfjB+QH5QfmB+cH",
          "dtype": "i2"
         },
         "xaxis": "x",
         "y": {
          "bdata": "AAAAAAAAAAAAAAAAAAAAAAAAAAAAAAAAAAAAAAAAAAAAAAAAAAAAAAAAAAAAAAAAAAAAAAAAAAAAAAAAAAAAAAAAAAAAAAAAAAAAAAAAAAAAAAAAAAAAAAAAAAAAAAAAAAAAAAAAAAAAAAAAAAAAAAAAAAAAAAAAAAAAAAAAAAAAAAAAAAAAAAAAAAAAAAAAAAAAAAAAAAAAAAAAAAAAAAAAAAAAAAAAAAAAAAAAAAAAAAAAAAAAAAAAAAAAAAAAAAAAAAAAAAAAAAAAAAAAAAAAAAAAAAAAAAAAAAAAAAAAAAAAAAAAAAAAAAAAAAAAAAAAAAAAAAAAAAAAAAAAAAAAAAAAAAAAAAAAAAAAAAAAAAAAAAAAAAAAAAAAAAAAAAAAAAAAAAAAAAAAwPfXQAAAAAAANNJAAAAAAAAAAAAAAAAAAHbmQAAAAADg0vFAAAAAAIC69UAAAAAAIK3uQAAAAAAA+vlAAAAAACBv/0AAAAAAgPnrQAAAAAAAarNAAAAAAAADJkEAAAAAUMUCQQAAAACg2gFBAAAAAFBGGUEAAAAA0On9QAAAAACA/OlA",
          "dtype": "f8"
         },
         "yaxis": "y"
        },
        {
         "hovertemplate": "Product Type=Branco<br>Year=%{x}<br>Volume (Liters)=%{y}<extra></extra>",
         "legendgroup": "Branco",
         "line": {
          "color": "#636efa",
          "dash": "solid"
         },
         "marker": {
          "symbol": "circle"
         },
         "mode": "lines+markers",
         "name": "Branco",
         "showlegend": true,
         "type": "scattergl",
         "x": {
          "bdata": "sgezB7QHtQe2B7cHuAe5B7oHuwe8B70Hvge/B8AHwQfCB8MHxAfFB8YHxwfIB8kHygfLB8wHzQfOB88H0AfRB9IH0wfUB9UH1gfXB9gH2QfaB9sH3AfdB94H3wfgB+EH4gfjB+QH5QfmB+cH",
          "dtype": "i2"
         },
         "xaxis": "x",
         "y": {
          "bdata": "AAAAYIUqc0EAAAAQAOlzQQAAAEDweG9BAAAAYJHVcEEAAADAbSRrQQAAAOD1aG9BAAAAkP36c0EAAABQk+NyQQAAAFClrnNBAAAAgMRFd0EAAAAQuzh0QQAAAMDRO3lBAAAAGMsNgUEAAABoy32DQQAAAGAsKoZBAAAAkNXkiEEAAACgvgeKQQAAAAjYX4FBAAAAkGEvhkEAAADo4WmKQQAAALCRPIpBAAAA8EGDjEEAAAAwIE+LQQAAADhgJZBBAAAAcCj8i0EAAADAeEWJQQAAALgDY4xBAAAAeJ6xjEEAAACAq9iJQQAAAHgGaItBAAAAwJeRi0EAAACwKnuJQQAAAHDnC4hBAAAAQEKjg0EAAACgpgGEQQAAAMhD/IZBAAAAEAHdg0EAAADofVGBQQAAAPjy9IBBAAAAKDkJiUEAAABwumqBQQAAAOh0n4FBAAAAKBowgkEAAAA4Vz6DQQAAAGCwLH5BAAAA8GbDfEEAAAAAnuV1QQAAABBmMndBAAAAIP9rdkEAAADgRkd3QQAAAEAiVHxBAAAAAB8+e0EAAADwuG14QQAAAKAnMndB",
          "dtype": "f8"
         },
         "yaxis": "y"
        },
        {
         "hovertemplate": "Product Type=Brandy (conhaque)<br>Year=%{x}<br>Volume (Liters)=%{y}<extra></extra>",
         "legendgroup": "Brandy (conhaque)",
         "line": {
          "color": "#EF553B",
          "dash": "solid"
         },
         "marker": {
          "symbol": "circle"
         },
         "mode": "lines+markers",
         "name": "Brandy (conhaque)",
         "showlegend": true,
         "type": "scattergl",
         "x": {
          "bdata": "sgezB7QHtQe2B7cHuAe5B7oHuwe8B70Hvge/B8AHwQfCB8MHxAfFB8YHxwfIB8kHygfLB8wHzQfOB88H0AfRB9IH0wfUB9UH1gfXB9gH2QfaB9sH3AfdB94H3wfgB+EH4gfjB+QH5QfmB+cH",
          "dtype": "i2"
         },
         "xaxis": "x",
         "y": {
          "bdata": "AAAAACHoYUEAAADgpd5iQQAAAEDgpmZBAAAAIJMvZ0EAAAAgyZNoQQAAAOBzx2VBAAAAIFx+bEEAAABgZoZoQQAAAIB76mZBAAAAwIoOY0EAAAAAP8lDQQAAAAA7/jhBAAAAADqSNEEAAAAAFn8yQQAAAACAZjBBAAAAAPmqN0EAAACAIZ1BQQAAAABCtjdBAAAAAPVCO0EAAACA5ghBQQAAAAAeVzZBAAAAADnXOEEAAAAAnLU2QQAAAADygjNBAAAAAMsuN0EAAAAAgSw8QQAAAIB4ykFBAAAAAOXKQEEAAAAAsqBCQQAAAIB+7UJBAAAAAHsNP0EAAAAAZs4+QQAAAAA7/D5BAAAAgHjSREEAAAAATR5DQQAAAAANpz9BAAAAAAB8tUAAAAAAACm3QAAAAAAAzrlAAAAAAADvu0AAAAAAADC5QAAAAAAACLZAAAAAAAB3tUAAAAAAAIS4QAAAAAAA4blAAAAAAAC2v0AAAAAAgB7AQAAAAAAA4bNAAAAAAAAsskAAAAAAAJezQAAAAAAAHr9AAAAAAACPvEAAAAAAADexQAAAAAAAmrFA",
          "dtype": "f8"
         },
         "yaxis": "y"
        },
        {
         "hovertemplate": "Product Type=Cooler<br>Year=%{x}<br>Volume (Liters)=%{y}<extra></extra>",
         "legendgroup": "Cooler",
         "line": {
          "color": "#00cc96",
          "dash": "solid"
         },
         "marker": {
          "symbol": "circle"
         },
         "mode": "lines+markers",
         "name": "Cooler",
         "showlegend": true,
         "type": "scattergl",
         "x": {
          "bdata": "sgezB7QHtQe2B7cHuAe5B7oHuwe8B70Hvge/B8AHwQfCB8MHxAfFB8YHxwfIB8kHygfLB8wHzQfOB88H0AfRB9IH0wfUB9UH1gfXB9gH2QfaB9sH3AfdB94H3wfgB+EH4gfjB+QH5QfmB+cH",
          "dtype": "i2"
         },
         "xaxis": "x",
         "y": {
          "bdata": "AAAAAAAAAAAAAAAAAAAAAAAAAAAAAAAAAAAAAAAAAAAAAAAAAAAAAAAAAAAAAAAAAAAAAAAAAAAAAAAAAAAAAAAAAAAAAAAAAAAAAAAAAAAAAAAAAAAAAAAAAAAAAAAAAAAAAAAAAAAAAAAAAAAAAAAAAAAAAAAAAAAAAAAAAAAAAAAAAAAAAAAAAGAbSWFBAAAAIBLMYEEAAADAKxFRQQAAAIBZNkRBAAAAgDVXSEEAAAAA+SM+QQAAAABnB0VBAAAAADlaRUEAAAAAy1NEQQAAAIC9fEdBAAAAQFtwUUEAAABAIv1VQQAAAECz+WFBAAAA4JawZEEAAABAfPhkQQAAAADX4WNBAAAAAGUPXEEAAAAAVnZZQQAAAACk6FZBAAAAgAhVU0EAAABAjhtTQQAAAAALqVBBAAAAwAlnUUEAAAAAuNRRQQAAAMBN3lFBAAAAQIc+UEEAAACAOLtOQQAAAADR3E5BAAAAANknSUEAAAAAlrJCQQAAAABe20JBAAAAAHGWR0EAAAAAuttMQQAAAECn4VdBAAAAwMlMV0EAAAAAyi9RQQAAAECWfFBB",
          "dtype": "f8"
         },
         "yaxis": "y"
        },
        {
         "hovertemplate": "Product Type=Coquetel com vinho<br>Year=%{x}<br>Volume (Liters)=%{y}<extra></extra>",
         "legendgroup": "Coquetel com vinho",
         "line": {
          "color": "#ab63fa",
          "dash": "solid"
         },
         "marker": {
          "symbol": "circle"
         },
         "mode": "lines+markers",
         "name": "Coquetel com vinho",
         "showlegend": true,
         "type": "scattergl",
         "x": {
          "bdata": "sgezB7QHtQe2B7cHuAe5B7oHuwe8B70Hvge/B8AHwQfCB8MHxAfFB8YHxwfIB8kHygfLB8wHzQfOB88H0AfRB9IH0wfUB9UH1gfXB9gH2QfaB9sH3AfdB94H3wfgB+EH4gfjB+QH5QfmB+cH",
          "dtype": "i2"
         },
         "xaxis": "x",
         "y": {
          "bdata": "AAAAAAAAAAAAAAAAAAAAAAAAAAAAAAAAAAAAAAAAAAAAAAAAAAAAAAAAAAAAAAAAAAAAAAAAAAAAAAAAAAAAAAAAAAAAAAAAAAAAAAAAAAAAAAAAAAAAAAAAAAAAAAAAAAAAAAAAAAAAAAAAAAAAAAAAAAAAAAAAAAAAAAAAAAAAAAAAAAAAAAAAAAAAAAAAAAAAAAAAAAAAAAAAAAAAAAAAAAAAAAAAAAAAAAAAAAAAAAAAAAAAAAAAAAAAAAAAAAAAAAAAAAAAAAAAAAAAAAAAAAAAAAAAAAAAAAAAAAAAAAAAAAAAAAAAAAAAAAAAAAAAAAAAAAAAAAAAAAAAAAAAAAAAAAAAAAAAAAAAAAAAAAAAFMw1QQAAAAB8oTNBAAAAAOZ4LEEAAAAAQF8oQQAAAADYJyhBAAAAAO6rNEEAAAAAVNgtQQAAAADmkihBAAAAAH6vK0EAAAAAVqAoQQAAAADgeSZBAAAAAJarIkEAAAAAkOoeQQAAAAAEihlBAAAAADBaFUEAAAAAFHYQQQAAAAAAGwlBAAAAAMDODUEAAAAAENkRQQAAAACQPRhB",
          "dtype": "f8"
         },
         "yaxis": "y"
        },
        {
         "hovertemplate": "Product Type=Destilado de vinho<br>Year=%{x}<br>Volume (Liters)=%{y}<extra></extra>",
         "legendgroup": "Destilado de vinho",
         "line": {
          "color": "#FFA15A",
          "dash": "solid"
         },
         "marker": {
          "symbol": "circle"
         },
         "mode": "lines+markers",
         "name": "Destilado de vinho",
         "showlegend": true,
         "type": "scattergl",
         "x": {
          "bdata": "sgezB7QHtQe2B7cHuAe5B7oHuwe8B70Hvge/B8AHwQfCB8MHxAfFB8YHxwfIB8kHygfLB8wHzQfOB88H0AfRB9IH0wfUB9UH1gfXB9gH2QfaB9sH3AfdB94H3wfgB+EH4gfjB+QH5QfmB+cH",
          "dtype": "i2"
         },
         "xaxis": "x",
         "y": {
          "bdata": "AAAAAMZLIEEAAAAACD8vQQAAAACfADhBAAAAAP+qNkEAAAAAwoM1QQAAAABvXDtBAAAAAJPzNEEAAAAACNInQQAAAACqcypBAAAAAO9dR0EAAAAA1CQ7QQAAAID/0URBAAAAgMRxSkEAAAAAkvg+QQAAAACSnDlBAAAAAIlINkEAAABAbp5TQQAAAACI2UNBAAAAAD/xQEEAAAAAGxg1QQAAAADmoSFBAAAAAOAnBkEAAAAAYKX6QAAAAACAVfFAAAAAAIDbDEEAAAAAKHwAQQAAAAAM3hBBAAAAANx/FkEAAAAA6EEPQQAAAACgABlBAAAAAAxzGEEAAAAA0HUJQQAAAAAQwARBAAAAAOioBEEAAAAAOOoEQQAAAAAwfgRBAAAAABC8B0EAAAAAkAQBQQAAAABAht9AAAAAAAAAWUAAAAAAgBHfQAAAAADAD/ZAAAAAAABM3UAAAAAAgEHYQAAAAAAAwGJAAAAAAAAAAAAAAAAAACy6QAAAAAAAAAAAAAAAAACAVEAAAAAAAFBzQAAAAAAAAGlAAAAAAADgZUAAAAAAAIBAQAAAAAAAoG5A",
          "dtype": "f8"
         },
         "yaxis": "y"
        },
        {
         "hovertemplate": "Product Type=Espumante<br>Year=%{x}<br>Volume (Liters)=%{y}<extra></extra>",
         "legendgroup": "Espumante",
         "line": {
          "color": "#19d3f3",
          "dash": "solid"
         },
         "marker": {
          "symbol": "circle"
         },
         "mode": "lines+markers",
         "name": "Espumante",
         "showlegend": true,
         "type": "scattergl",
         "x": {
          "bdata": "sgezB7QHtQe2B7cHuAe5B7oHuwe8B70Hvge/B8AHwQfCB8MHxAfFB8YHxwfIB8kHygfLB8wHzQfOB88H0AfRB9IH0wfUB9UH1gfXB9gH2QfaB9sH3AfdB94H3wfgB+EH4gfjB+QH5QfmB+cH",
          "dtype": "i2"
         },
         "xaxis": "x",
         "y": {
          "bdata": "AAAAAAAAAAAAAAAAAAAAAAAAAAAAAAAAAAAAAAAAAAAAAAAAAAAAAAAAAAAAAAAAAAAAAAAAAAAAAAAAAAAAAAAAAAAAAAAAAAAAAAAAAAAAAAAAAAAAAAAAAAAAAAAAAAAAAAAAAAAAAAAAAAAAAAAAAAAAAAAAAAAAAAAAAAAAAAAAAAAAAAAAAAAAAAAAAAAAAAAAAAAAAAAAAAAAAAAAAAAAAAAAAAAAAAAAAAAAAAAAAAAAAAAAAAAAAAAAAAAAAAAAAAAAAAAAAAAAAAAAAAAAAAAAAAAAAIUoR0EAAAAA05dIQQAAAICmMVVBAAAAAESOT0EAAACARqtOQQAAAAC2i0xBAAAAALQJUEEAAABAU1tSQQAAAACCw1VBAAAAwLFxWEEAAADA4L5aQQAAAMBJH11BAAAAgOCsYEEAAADgK4FiQQAAAECcqWNBAAAAQEGDZUEAAACgk0JnQQAAAECeCWhBAAAAAH18akEAAABgXLlnQQAAAMAq7mZBAAAAgCFNZkEAAAAg5z9qQQAAAEC7Y2lBAAAA8CgfckEAAABwxIRwQQAAADBys3JB",
          "dtype": "f8"
         },
         "yaxis": "y"
        },
        {
         "hovertemplate": "Product Type=Espumante  Moscatel<br>Year=%{x}<br>Volume (Liters)=%{y}<extra></extra>",
         "legendgroup": "Espumante  Moscatel",
         "line": {
          "color": "#FF6692",
          "dash": "solid"
         },
         "marker": {
          "symbol": "circle"
         },
         "mode": "lines+markers",
         "name": "Espumante  Moscatel",
         "showlegend": true,
         "type": "scattergl",
         "x": {
          "bdata": "sgezB7QHtQe2B7cHuAe5B7oHuwe8B70Hvge/B8AHwQfCB8MHxAfFB8YHxwfIB8kHygfLB8wHzQfOB88H0AfRB9IH0wfUB9UH1gfXB9gH2QfaB9sH3AfdB94H3wfgB+EH4gfjB+QH5QfmB+cH",
          "dtype": "i2"
         },
         "xaxis": "x",
         "y": {
          "bdata": "AAAAAAAAAAAAAAAAAAAAAAAAAAAAAAAAAAAAAAAAAAAAAAAAAAAAAAAAAAAAAAAAAAAAAAAAAAAAAAAAAAAAAAAAAAAAAAAAAAAAAAAAAAAAAAAAAAAAAAAAAAAAAAAAAAAAAAAAAAAAAAAAAAAAAAAAAAAAAAAAAAAAAAAAAAAAAAAAAAAAAAAAAAAAAAAAAAAAAAAAAAAAAAAAAAAAAAAAAAAAAAAAAAAAAAAAAAAAAAAAAAAAAAAAAAAAAAAAAAAAAAAAAAAAAAAAAAAAAAAAAAAAAAAAAAAAAIDF0kAAAAAAAATdQAAAAADAvehAAAAAABjFB0EAAAAAyPAcQQAAAABYDSBBAAAAAPggIkEAAAAAaIwkQQAAAABYWTBBAAAAAP8nNEEAAAAAMzA4QQAAAADzEj1BAAAAAEMTQ0EAAACAQXpGQQAAAIBs3EZBAAAAgFiLS0EAAACAtd1MQQAAAEDsgFFBAAAAAEQdU0EAAADA0jFRQQAAAEDXNlVBAAAAwB7lWEEAAABgKClhQQAAAGBRvGFBAAAAYJdYZ0EAAABgI0dnQQAAAEBWo2JB",
          "dtype": "f8"
         },
         "yaxis": "y"
        },
        {
         "hovertemplate": "Product Type=Espumante Orgânico<br>Year=%{x}<br>Volume (Liters)=%{y}<extra></extra>",
         "legendgroup": "Espumante Orgânico",
         "line": {
          "color": "#B6E880",
          "dash": "solid"
         },
         "marker": {
          "symbol": "circle"
         },
         "mode": "lines+markers",
         "name": "Espumante Orgânico",
         "showlegend": true,
         "type": "scattergl",
         "x": {
          "bdata": "sgezB7QHtQe2B7cHuAe5B7oHuwe8B70Hvge/B8AHwQfCB8MHxAfFB8YHxwfIB8kHygfLB8wHzQfOB88H0AfRB9IH0wfUB9UH1gfXB9gH2QfaB9sH3AfdB94H3wfgB+EH4gfjB+QH5QfmB+cH",
          "dtype": "i2"
         },
         "xaxis": "x",
         "y": {
          "bdata": "AAAAAAAAAAAAAAAAAAAAAAAAAAAAAAAAAAAAAAAAAAAAAAAAAAAAAAAAAAAAAAAAAAAAAAAAAAAAAAAAAAAAAAAAAAAAAAAAAAAAAAAAAAAAAAAAAAAAAAAAAAAAAAAAAAAAAAAAAAAAAAAAAAAAAAAAAAAAAAAAAAAAAAAAAAAAAAAAAAAAAAAAAAAAAAAAAAAAAAAAAAAAAAAAAAAAAAAAAAAAAAAAAAAAAAAAAAAAAAAAAAAAAAAAAAAAAAAAAAAAAAAAAAAAAAAAAAAAAAAAAAAAAAAAAAAAAAAAAAAAAAAAAAAAAAAAAAAAAAAAAAAAAAAAAAAAAAAAAAAAAAAAAAAAAAAAAAAAAAAAAAAAAAAAAAAAAAAAAAAAAAAAAAAAAAAAAAAAAAAAAAAAAAAAAAAAAAAAAAAAAAAAAAAAAAAAAAAAAAAAAAAAAAAAAAAAAAAAAAAAAAAAAAAAAAAAAAAAAAAAAAAAAAAAAAAAAAAAAAAAAAAAAAAAAAAAAAAAAAAAAAAAAAAAAHBzQAAAAAAAMIdAAAAAAAD4g0AAAAAAAKiCQAAAAAAAcIFA",
          "dtype": "f8"
         },
         "yaxis": "y"
        },
        {
         "hovertemplate": "Product Type=Filtrado doce<br>Year=%{x}<br>Volume (Liters)=%{y}<extra></extra>",
         "legendgroup": "Filtrado doce",
         "line": {
          "color": "#FF97FF",
          "dash": "solid"
         },
         "marker": {
          "symbol": "circle"
         },
         "mode": "lines+markers",
         "name": "Filtrado doce",
         "showlegend": true,
         "type": "scattergl",
         "x": {
          "bdata": "sgezB7QHtQe2B7cHuAe5B7oHuwe8B70Hvge/B8AHwQfCB8MHxAfFB8YHxwfIB8kHygfLB8wHzQfOB88H0AfRB9IH0wfUB9UH1gfXB9gH2QfaB9sH3AfdB94H3wfgB+EH4gfjB+QH5QfmB+cH",
          "dtype": "i2"
         },
         "xaxis": "x",
         "y": {
          "bdata": "AAAAAIwkFUEAAAAAfG0aQQAAAABEdyRBAAAAAKSSKUEAAAAADLYvQQAAAADqpTRBAAAAAEBbO0EAAAAAX31BQQAAAIAISUJBAAAAAAi/SUEAAACAntZQQQAAAIC7dU1BAAAAAAZCUEEAAACAZ/9OQQAAAAAyDVNBAAAAQGToVkEAAADA1VJTQQAAAAAX6FhBAAAAQI5DVUEAAACArY1ZQQAAAEBvvVpBAAAAQN0jX0EAAABANj1bQQAAAIBY8V9BAAAAADVAZ0EAAAAgk2dlQQAAAEA49WBBAAAAQHi+ZUEAAACgQvJlQQAAAGAtk2tBAAAAYDkbZUEAAAAAfo5jQQAAAIDsXWFBAAAAgL9XXkEAAAAg51JgQQAAAECje15BAAAAgBfVXUEAAACAQvBcQQAAAIDYzlxBAAAAAMDsWEEAAABAXDhZQQAAAAC7tVpBAAAAgPIdW0EAAAAA9IBZQQAAAMAp6FdBAAAAgAzlVkEAAACAYR5QQQAAAEAcDlBBAAAAgP6BTUEAAAAAVhlPQQAAAAB1bUJBAAAAgLKLQkEAAACAJdlBQQAAAIBEDkJB",
          "dtype": "f8"
         },
         "yaxis": "y"
        },
        {
         "hovertemplate": "Product Type=Jeropiga<br>Year=%{x}<br>Volume (Liters)=%{y}<extra></extra>",
         "legendgroup": "Jeropiga",
         "line": {
          "color": "#FECB52",
          "dash": "solid"
         },
         "marker": {
          "symbol": "circle"
         },
         "mode": "lines+markers",
         "name": "Jeropiga",
         "showlegend": true,
         "type": "scattergl",
         "x": {
          "bdata": "sgezB7QHtQe2B7cHuAe5B7oHuwe8B70Hvge/B8AHwQfCB8MHxAfFB8YHxwfIB8kHygfLB8wHzQfOB88H0AfRB9IH0wfUB9UH1gfXB9gH2QfaB9sH3AfdB94H3wfgB+EH4gfjB+QH5QfmB+cH",
          "dtype": "i2"
         },
         "xaxis": "x",
         "y": {
          "bdata": "AAAAAAAAAAAAAAAAAAAAAAAAAAAAAAAAAAAAAAAAAAAAAAAAAAAAAAAAAAAAAAAAAAAAAGCJ50AAAAAAAOjgQAAAAACAhutAAAAAAEBP50AAAAAAAMLYQAAAAAAAjLBAAAAAAICy3UAAAAAAgATZQAAAAACg7eFAAAAAAODC/0AAAAAAgBH1QAAAAAAArdJAAAAAAGDu7EAAAAAAYPbnQAAAAAAANudAAAAAAACF4UAAAAAAANjYQAAAAABAd9hAAAAAAIDg4UAAAAAAACDgQAAAAACA4/RAAAAAAIAq80AAAAAAYBfoQAAAAACAh/FAAAAAAFAp8EAAAAAAgFDwQAAAAAAAi7NAAAAAAGDf6UAAAAAAwGTeQAAAAABAANdAAAAAAMDp5kAAAAAAgHXTQAAAAAAAFsVAAAAAAIA1zEAAAAAAwDfiQAAAAADgQ+xAAAAAAEDh6kAAAAAAwCj3QAAAAAAgte9AAAAAAIC97EAAAAAAgC7MQAAAAAAAwH9AAAAAAACgZUAAAAAAAAAAAAAAAAAAzJNAAAAAAACMm0AAAAAAAMCVQAAAAAAAoHVA",
          "dtype": "f8"
         },
         "yaxis": "y"
        },
        {
         "hovertemplate": "Product Type=Mistelas<br>Year=%{x}<br>Volume (Liters)=%{y}<extra></extra>",
         "legendgroup": "Mistelas",
         "line": {
          "color": "#636efa",
          "dash": "solid"
         },
         "marker": {
          "symbol": "circle"
         },
         "mode": "lines+markers",
         "name": "Mistelas",
         "showlegend": true,
         "type": "scattergl",
         "x": {
          "bdata": "sgezB7QHtQe2B7cHuAe5B7oHuwe8B70Hvge/B8AHwQfCB8MHxAfFB8YHxwfIB8kHygfLB8wHzQfOB88H0AfRB9IH0wfUB9UH1gfXB9gH2QfaB9sH3AfdB94H3wfgB+EH4gfjB+QH5QfmB+cH",
          "dtype": "i2"
         },
         "xaxis": "x",
         "y": {
          "bdata": "AAAAAHDFBUEAAAAAYObzQAAAAABIVwBBAAAAALCWA0EAAAAAwGbmQAAAAAA0nBBBAAAAAMCO9UAAAAAAoM8HQQAAAADW60BBAAAAQNEBWEEAAACA2ApNQQAAAIA0PFFBAAAAAMKRP0EAAAAAuJ0qQQAAAACEtTBBAAAAAAB19EAAAAAAiIkTQQAAAACA9AZBAAAAAGAUC0EAAAAAgCTAQAAAAACYdgVBAAAAAAAAAAAAAAAAgDf2QAAAAAAQwzJBAAAAAKsIPkEAAAAAYhwuQQAAAADCpitBAAAAAHykGUEAAAAAsID6QAAAAAAAbdpAAAAAAAAAAAAAAAAAANu5QAAAAAAw1yNBAAAAAIBhxEAAAAAAADqtQAAAAAAAkbNAAAAAAACUsUAAAAAAAMyqQAAAAAAAGKpAAAAAAAB6u0AAAAAAQPTZQAAAAAAAuI5AAAAAAADps0AAAAAAANyZQAAAAAAAoI1AAAAAAADgkUAAAAAAABiKQAAAAAAAqJJAAAAAAAC4nUAAAAAAAGqtQAAAAAAAxJJAAAAAAIC5wUAAAAAAAOCvQAAAAAAAEJpA",
          "dtype": "f8"
         },
         "yaxis": "y"
        },
        {
         "hovertemplate": "Product Type=Mosto concentrado<br>Year=%{x}<br>Volume (Liters)=%{y}<extra></extra>",
         "legendgroup": "Mosto concentrado",
         "line": {
          "color": "#EF553B",
          "dash": "solid"
         },
         "marker": {
          "symbol": "circle"
         },
         "mode": "lines+markers",
         "name": "Mosto concentrado",
         "showlegend": true,
         "type": "scattergl",
         "x": {
          "bdata": "sgezB7QHtQe2B7cHuAe5B7oHuwe8B70Hvge/B8AHwQfCB8MHxAfFB8YHxwfIB8kHygfLB8wHzQfOB88H0AfRB9IH0wfUB9UH1gfXB9gH2QfaB9sH3AfdB94H3wfgB+EH4gfjB+QH5QfmB+cH",
          "dtype": "i2"
         },
         "xaxis": "x",
         "y": {
          "bdata": "AAAAAGD15UAAAAAAgAXUQAAAAAAAAAAAAAAAAAAAAAAAAAAAkjwnQQAAAADoqQ5BAAAAADDfEkEAAAAAoIX0QAAAAAAAAAAAAAAAAAAAAAAAAAAAAAAAAAAAAAAAAAAAAAAAAAAAAAAAAAAAAAAAAAAAAAAAAAAAAAAAAAAAAAAAAAAAAAAAAAAAAAAAAAAAAAAAAAAAAAAAAAAAAAAAAAAAAAAAAAAAAAAAAAAAAAAAAAAAAAAAAAAAAAAAguRAAAAAAAAAAAAAAAAAAG3qQAAAAAAANutAAAAAAGB8/kAAAAAAAAAAAAAAAAAAAAAAAAAAAAAAAAAAAAAAAAAAAAAAAAAAAAAAAAAAAAAAAAAAAAAAAAAAAAAAAAAAAAAAAAAAAAAAAAAAAAAAAAAAAAAAAAAAAAAAAAAAAAAAAAAAAAAAAAAAAAAAAAAAAAAAAAAAAAAAAAAAAAAAAAAAAAAAAAAAAAAAAAAAAAAAAAAAAAAAAAAAAAAAAAAAAAAAAAAAAAAAAAAAAAAAAAAAAAAAAAAAAAAAAAAAAAAAAAAAAAAAAAAAAAAAAAAAAAAA",
          "dtype": "f8"
         },
         "yaxis": "y"
        },
        {
         "hovertemplate": "Product Type=Mosto de uva<br>Year=%{x}<br>Volume (Liters)=%{y}<extra></extra>",
         "legendgroup": "Mosto de uva",
         "line": {
          "color": "#00cc96",
          "dash": "solid"
         },
         "marker": {
          "symbol": "circle"
         },
         "mode": "lines+markers",
         "name": "Mosto de uva",
         "showlegend": true,
         "type": "scattergl",
         "x": {
          "bdata": "sgezB7QHtQe2B7cHuAe5B7oHuwe8B70Hvge/B8AHwQfCB8MHxAfFB8YHxwfIB8kHygfLB8wHzQfOB88H0AfRB9IH0wfUB9UH1gfXB9gH2QfaB9sH3AfdB94H3wfgB+EH4gfjB+QH5QfmB+cH",
          "dtype": "i2"
         },
         "xaxis": "x",
         "y": {
          "bdata": "AAAAAAAAAAAAAAAAAAAAAAAAAAAAAAAAAAAAAAAAAAAAAAAAAAAAAAAAAAAAAAAAAAAAAAAAAAAAAAAAAAAAAAAAAAAAAAAAAAAAAAAAAAAAAAAAAAAAAAAAAAAAAAAAAAAAAAAAAAAAAAAAAAAAAAAAAAAAAAAAAAAAAAAAAAAAAAAAAAAAAAAAAAAAAAAAAAAAAAAAAAAAAAAAAAAAAAAAAAAAAAAAAAAAAAAAAAAAAAAAAAAAAAAAAAAAAAAAAAAAAAAAAAAAAAAAAAAAAAAAAAAAAAAAAAAAAAAAAAAAAAAAAAAAAAAAAAAAAAAAAAAAAAAAAAAAAAAAAAAAAAAAAAAAAAAAAAAAAAAAAAAAAAAAAGiGQAAAAABgfgxBAAAAAAA8vkAAAAAAAECfQAAAAAAAAAAAAAAAAAAAAAAAAAAAAEvIQAAAAAAcyRFBAAAAAACe3EAAAAAA6N4TQQAAAAA5vztBAAAAAHiBFEEAAAAAAHnCQAAAAABgPO9AAAAAAHjXJUEAAAAAZeJVQQAAAACAdedAAAAAAMaCKEEAAAAAdho4QQAAAAAo8xVB",
          "dtype": "f8"
         },
         "yaxis": "y"
        },
        {
         "hovertemplate": "Product Type=Mosto sulfitado<br>Year=%{x}<br>Volume (Liters)=%{y}<extra></extra>",
         "legendgroup": "Mosto sulfitado",
         "line": {
          "color": "#ab63fa",
          "dash": "solid"
         },
         "marker": {
          "symbol": "circle"
         },
         "mode": "lines+markers",
         "name": "Mosto sulfitado",
         "showlegend": true,
         "type": "scattergl",
         "x": {
          "bdata": "sgezB7QHtQe2B7cHuAe5B7oHuwe8B70Hvge/B8AHwQfCB8MHxAfFB8YHxwfIB8kHygfLB8wHzQfOB88H0AfRB9IH0wfUB9UH1gfXB9gH2QfaB9sH3AfdB94H3wfgB+EH4gfjB+QH5QfmB+cH",
          "dtype": "i2"
         },
         "xaxis": "x",
         "y": {
          "bdata": "AAAAABh6GEEAAAAAiBMZQQAAAADAURtBAAAAAFRPOkEAAAAAADMNQQAAAACAv+BAAAAAADCnGUEAAAAArMYmQQAAAABo/BNBAAAAAKCmHUEAAAAA4Lj7QAAAAADQ+xVBAAAAAByLIkEAAAAA4FkKQQAAAACi6StBAAAAAKAu7EAAAAAAAKkKQQAAAAAAAAAAAAAAAAAAAAAAAAAAAAAAAAAAAAAAAAAAAAAAAAAAAAAAAAAAAAAAAAAAAAAAAAAAAAAAAAAAAAAAAAAAAHazQAAAAAAAAAAAAAAAAAAAAAAAAAAAAAAAAAAAAAAAfPVAAAAAACAVBkEAAAAAuIYWQQAAAAAyvT9BAAAAAAAAAAAAAAAAAAAAAAAAAAAAAAAAAAAAAAAAAAAAAAAAAAAAAAAAAAAAAAAAAAAAAAAAAAAAAAAAAAAAAAAAAAAAAAAAAAAAAAAAAAAAAAAAAAAAAAAAAAAAAAAAAAAAAAAAAAAAAAAAAAAAAAAAAAAAAAAAAAAAAAAAAAAAAAAAAPP2QAAAAAAAAAAAAAAAAAAAAAAAAAAAAAAAAAAAAAAAAAAA",
          "dtype": "f8"
         },
         "yaxis": "y"
        },
        {
         "hovertemplate": "Product Type=Nectar de uva<br>Year=%{x}<br>Volume (Liters)=%{y}<extra></extra>",
         "legendgroup": "Nectar de uva",
         "line": {
          "color": "#FFA15A",
          "dash": "solid"
         },
         "marker": {
          "symbol": "circle"
         },
         "mode": "lines+markers",
         "name": "Nectar de uva",
         "showlegend": true,
         "type": "scattergl",
         "x": {
          "bdata": "sgezB7QHtQe2B7cHuAe5B7oHuwe8B70Hvge/B8AHwQfCB8MHxAfFB8YHxwfIB8kHygfLB8wHzQfOB88H0AfRB9IH0wfUB9UH1gfXB9gH2QfaB9sH3AfdB94H3wfgB+EH4gfjB+QH5QfmB+cH",
          "dtype": "i2"
         },
         "xaxis": "x",
         "y": {
          "bdata": "AAAAAAAAAAAAAAAAAAAAAAAAAAAAAAAAAAAAAAAAAAAAAAAAAAAAAAAAAAAAAAAAAAAAAAAAAAAAAAAAAAAAAAAAAAAAAAAAAAAAAAAAAAAAAAAAAAAAAAAAAAAAAAAAAAAAAAAAAAAAAAAAAAAAAAAAAAAAAAAAAAAAAAAAAAAAAAAAAAAAAAAAAAAAAAAAAAAAAAAAAAAAAAAAAAAAAAAAAAAAAAAAAAAAAAAAAAAAAAAAAAAAAAAAAAAAAAAAAAAAAAAAAAAAAAAAAAAAAAAAAAAAAAAAAAAAAAAAAAAAAAAAAAAAAAAAAAAAAAAAAAAAAAAAAAAAAAAAAAAAAAAAAAAAAAAAAAAAAO6PMEEAAAAAFJQbQQAAAADYGxZBAAAAAMzoFUEAAAAA6ocgQQAAAAAgzz5BAAAAwGbRUkEAAADA9JZUQQAAAACrwVVBAAAAwMWHVUEAAADAb2ZUQQAAAIBFnkpBAAAAACY2TkEAAAAA9xVJQQAAAIB/CFJBAAAAgPTVSkEAAAAAaJFOQQAAAICWU0lBAAAAgPatTkEAAADAcwBSQQAAAIDef0tB",
          "dtype": "f8"
         },
         "yaxis": "y"
        },
        {
         "hovertemplate": "Product Type=Outros produtos<br>Year=%{x}<br>Volume (Liters)=%{y}<extra></extra>",
         "legendgroup": "Outros produtos",
         "line": {
          "color": "#19d3f3",
          "dash": "solid"
         },
         "marker": {
          "symbol": "circle"
         },
         "mode": "lines+markers",
         "name": "Outros produtos",
         "showlegend": true,
         "type": "scattergl",
         "x": {
          "bdata": "sgezB7QHtQe2B7cHuAe5B7oHuwe8B70Hvge/B8AHwQfCB8MHxAfFB8YHxwfIB8kHygfLB8wHzQfOB88H0AfRB9IH0wfUB9UH1gfXB9gH2QfaB9sH3AfdB94H3wfgB+EH4gfjB+QH5QfmB+cH",
          "dtype": "i2"
         },
         "xaxis": "x",
         "y": {
          "bdata": "AAAAAAAAAAAAAAAAAAAAAAAAAAAAAAAAAAAAAAAAAAAAAAAAAAAAAAAAAAAAAAAAAAAAAAAAAAAAAAAAAAAAAAAAAAAAAAAAAAAAAAAAAAAAAAAAAAAAAAAAAAAAAAAAAAAAAAAAAAAAAAAAAAAAAAAAAAAAAAAAAAAAAAAAAAAAAAAAAAAAAAAAAAAAAAAAAAAAAAAAAAAAAAAAAAAAAAAAAAAAAAAAAAAAAAAAAAAAAAAAAAAAAAAAAAAAAAAAAAAAAAAAAAAAAAAAAAAAAAAAAAAAAAAAAAAAAAAAAAAAAAAAAAAAAAAAAAAAAAAAAAAAAAAAAAAAAAAAAAAAAAAAAAAAAAAAAAAAAAAAAAAAAAAAAEyXQAAAAAArGjhBAAAAAAAut0AAAAAApDwiQQAAAACOryZBAAAAAFCFGUEAAAAAYGIRQQAAAAAUgBdBAAAAALSNHUEAAAAA9CYgQQAAAACugSNBAAAAAJQkJEEAAAAAQkknQQAAAAArhjBBAAAAANYPO0EAAACAmoFBQQAAAABFaENBAAAAAKsQQEEAAAAAN0FcQQAAAMBxdFxB",
          "dtype": "f8"
         },
         "yaxis": "y"
        },
        {
         "hovertemplate": "Product Type=Outros sucos de uvas<br>Year=%{x}<br>Volume (Liters)=%{y}<extra></extra>",
         "legendgroup": "Outros sucos de uvas",
         "line": {
          "color": "#FF6692",
          "dash": "solid"
         },
         "marker": {
          "symbol": "circle"
         },
         "mode": "lines+markers",
         "name": "Outros sucos de uvas",
         "showlegend": true,
         "type": "scattergl",
         "x": {
          "bdata": "sgezB7QHtQe2B7cHuAe5B7oHuwe8B70Hvge/B8AHwQfCB8MHxAfFB8YHxwfIB8kHygfLB8wHzQfOB88H0AfRB9IH0wfUB9UH1gfXB9gH2QfaB9sH3AfdB94H3wfgB+EH4gfjB+QH5QfmB+cH",
          "dtype": "i2"
         },
         "xaxis": "x",
         "y": {
          "bdata": "AAAAAAAAAAAAAAAAAAAAAAAAAAAAAAAAAAAAAAAAAAAAAAAAAAAAAAAAAAAAAAAAAAAAAAAAAAAAAAAAAAAAAAAAAAAAAAAAAAAAAAAAAAAAAAAAAAAAAAAAAAAAAAAAAAAAAAAAAAAAAAAAAAAAAAAAAAAAAAAAAAAAAAAAAAAAAAAAAAAAAAAAAAAAAAAAAAAAAAAAAAAAAAAAAAAAAAAAAAAAAAAAAAAAAAAAAAAAAAAAAAAAAAAAAAAAAAAAAAAAAAAAAAAAAAAAAAAAAAAAAAAAAAAAAAAAAAAAAAAAAAAAAAAAAAAAAAAAAAAAAAAAAAAAAAAAAAAAAAAAAAAAAAAAAAAAAAAAAAAAAAAAAAAAAAAAAAAAAAAAAAAAAAAAAAAAAAAAAAAAAAAAAAAAAAAAAAAAAAAAAAAAAAAAAAAAAAAAAAAAAAAAAAAAAAAAAAAAAAAAAAAAAAAAAAAAAAAAAAAAAAAAAAAAAAAAAAAAAAAAAAAAAAAAAAAAAAAAAAAAAAAAAADAQeheQQAAAMCx0F1BAAAAADsjVUEAAADAbFFVQQAAAABj2ztB",
          "dtype": "f8"
         },
         "yaxis": "y"
        },
        {
         "hovertemplate": "Product Type=Outros vinhos (sem informação detalhada)<br>Year=%{x}<br>Volume (Liters)=%{y}<extra></extra>",
         "legendgroup": "Outros vinhos (sem informação detalhada)",
         "line": {
          "color": "#B6E880",
          "dash": "solid"
         },
         "marker": {
          "symbol": "circle"
         },
         "mode": "lines+markers",
         "name": "Outros vinhos (sem informação detalhada)",
         "showlegend": true,
         "type": "scattergl",
         "x": {
          "bdata": "sgezB7QHtQe2B7cHuAe5B7oHuwe8B70Hvge/B8AHwQfCB8MHxAfFB8YHxwfIB8kHygfLB8wHzQfOB88H0AfRB9IH0wfUB9UH1gfXB9gH2QfaB9sH3AfdB94H3wfgB+EH4gfjB+QH5QfmB+cH",
          "dtype": "i2"
         },
         "xaxis": "x",
         "y": {
          "bdata": "AAAAAAAAAAAAAAAAAAAAAAAAAAAAAAAAAAAAAAAAAAAAAAAAAAAAAAAAAAAAAAAAAAAAAAAAAAAAAAAAAAAAAAAAAAAAAAAAAAAAAAAAAAAAAAAAAAAAAAAAAAAAAAAAAAAAAAAAAAAAAAAAAAAAAAAAAAAAAAAAAAAAAAAAAAAAAAAAAAAAAAAAAAAAAAAAAAAAAAAAAAAAAAAAAAAAAAAAAAAAAAAAAAAAAAAAAAAAAAAAAAAAAAAAAAAAAAAAAAAAAAAAAAAAAAAAAAAAAAAAAAAAAAAAAAAAAAAAAAAAAAAAAAAAAAAAAAAAAAAAAAAAAAAAAAAAAAAAAAAAAAAAAAAAAAAAAAAAAAAAAAAAAAAAAAAAAAAAAAAAAAAAAAAAAAAAAAAAAAAAAAAAAAAAAAAAAAAAAAAAAAAAAAAAAAAAAAAAAAAAAAAAAAAAAAAAAAAAAAAAAAAAAAAAAAAAAAAAAAAAAAAAAAAAAAAAAAAAAAAAAAAAAAAAAAAAAAAAgHV+TEEAAAAAmPkSQQAAAADIcQdBAAAAAIA00UAAAAAAADbBQAAAAAAA2L9A",
          "dtype": "f8"
         },
         "yaxis": "y"
        },
        {
         "hovertemplate": "Product Type=Polpa de uva<br>Year=%{x}<br>Volume (Liters)=%{y}<extra></extra>",
         "legendgroup": "Polpa de uva",
         "line": {
          "color": "#FF97FF",
          "dash": "solid"
         },
         "marker": {
          "symbol": "circle"
         },
         "mode": "lines+markers",
         "name": "Polpa de uva",
         "showlegend": true,
         "type": "scattergl",
         "x": {
          "bdata": "sgezB7QHtQe2B7cHuAe5B7oHuwe8B70Hvge/B8AHwQfCB8MHxAfFB8YHxwfIB8kHygfLB8wHzQfOB88H0AfRB9IH0wfUB9UH1gfXB9gH2QfaB9sH3AfdB94H3wfgB+EH4gfjB+QH5QfmB+cH",
          "dtype": "i2"
         },
         "xaxis": "x",
         "y": {
          "bdata": "AAAAAAAAAAAAAAAAAAAAAAAAAAAAAAAAAAAAAAAAAAAAAAAAAAAAAAAAAAAAAAAAAAAAAAAAAAAAAAAAAAAAAAAAAAAAAAAAAAAAAAAAAAAAAAAAAAAAAAAAAAAAAAAAAAAAAAAAAAAAAAAAAAAAAAAAAAAAAAAAAAAAAAAAAAAAAAAAAAAAAAAAAAAAAAAAAAAAAAAAAAAAAAAAAAAAAAAAAAAAAAAAAAAAAAAAAAAAAAAAAAAAAAAAAAAAAAAAAAAAAAAAAAAAAAAAAAAAAAAAAAAAAAAAAAAAAAAAAAAAAAAAAAAAAAAAAAAAAAAAAAAAAAAAAAAAAAAAAAAAAAAAAAAAAAAAAAAAAAAAAAAAAAAAHmcpQQAAAACWtCxBAAAAAGglLkEAAAAAzfgxQQAAAADuFzRBAAAAADZyNEEAAAAAmSpFQQAAAABGnzxBAAAAAD90PkEAAAAAmz0+QQAAAIC2/UFBAAAAgNwSQ0EAAAAA/Vs9QQAAAAD0oDxBAAAAAOpGPEEAAAAAOw08QQAAAADtOzFBAAAAAGKULkEAAAAA2yQwQQAAAADDUTRB",
          "dtype": "f8"
         },
         "yaxis": "y"
        },
        {
         "hovertemplate": "Product Type=Preparado líquido para refresco<br>Year=%{x}<br>Volume (Liters)=%{y}<extra></extra>",
         "legendgroup": "Preparado líquido para refresco",
         "line": {
          "color": "#FECB52",
          "dash": "solid"
         },
         "marker": {
          "symbol": "circle"
         },
         "mode": "lines+markers",
         "name": "Preparado líquido para refresco",
         "showlegend": true,
         "type": "scattergl",
         "x": {
          "bdata": "sgezB7QHtQe2B7cHuAe5B7oHuwe8B70Hvge/B8AHwQfCB8MHxAfFB8YHxwfIB8kHygfLB8wHzQfOB88H0AfRB9IH0wfUB9UH1gfXB9gH2QfaB9sH3AfdB94H3wfgB+EH4gfjB+QH5QfmB+cH",
          "dtype": "i2"
         },
         "xaxis": "x",
         "y": {
          "bdata": "AAAAAAAAAAAAAAAAAAAAAAAAAAAAAAAAAAAAAAAAAAAAAAAAAAAAAAAAAAAAAAAAAAAAAAAAAAAAAAAAAAAAAAAAAAAAAAAAAAAAAAAAAAAAAAAAAAAAAAAAAAAAAAAAAAAAAAAAAAAAAAAAAAAAAAAAAAAAAAAAAAAAAAAAAAAAAAAAAAAAAAAAAAAAAAAAAAAAAAAAAAAAAAAAAAAAAAAAAAAAAAAAAAAAAAAAAAAAAAAAAAAAAAAAAAAAAAAAAAAAAAAAAAAAAAAAAAAAAAAAAAAAAAAAAAAAAAAAAAAAAAAAAAAAAAAAAAAAAAAAAAAAAAAAAAAAAAAAAAAAAAAAAAAAAAAAAAAAAHAB90AAAAAAsEb2QAAAAACw7P5AAAAAABRKI0EAAAAAZAEnQQAAAABANCVBAAAAAPSAHEEAAAAAyAIXQQAAAABkaRZBAAAAAIK3IkEAAAAA8gYjQQAAAADApw9BAAAAAKiPA0EAAAAAgHLgQAAAAADAzd1AAAAAAIDF8kAAAAAA4KrpQAAAAAAAM8ZAAAAAAMDn1kAAAAAAwD/TQAAAAACAxtBA",
          "dtype": "f8"
         },
         "yaxis": "y"
        },
        {
         "hovertemplate": "Product Type=Refrigerante +50% suco<br>Year=%{x}<br>Volume (Liters)=%{y}<extra></extra>",
         "legendgroup": "Refrigerante +50% suco",
         "line": {
          "color": "#636efa",
          "dash": "solid"
         },
         "marker": {
          "symbol": "circle"
         },
         "mode": "lines+markers",
         "name": "Refrigerante +50% suco",
         "showlegend": true,
         "type": "scattergl",
         "x": {
          "bdata": "sgezB7QHtQe2B7cHuAe5B7oHuwe8B70Hvge/B8AHwQfCB8MHxAfFB8YHxwfIB8kHygfLB8wHzQfOB88H0AfRB9IH0wfUB9UH1gfXB9gH2QfaB9sH3AfdB94H3wfgB+EH4gfjB+QH5QfmB+cH",
          "dtype": "i2"
         },
         "xaxis": "x",
         "y": {
          "bdata": "AAAAAAAAAAAAAAAAAAAAAAAAAAAAAAAAAAAAAAAAAAAAAAAAAAAAAAAAAAAAAAAAAAAAAAAAAAAAAAAAAAAAAAAAAAAAAAAAAAAAAAAAAAAAAAAAAAAAAAAAAAAAAAAAAAAAAAAAAAAAAAAAAAAAAAAAAAAAAAAAAAAAAAAAAAAAAAAAAAAAAAAAAAAAAAAAAAAAAAAAAAAAAAAAAAAAAAAAAAAAAAAAAAAAAAAAAAAAAAAAAAAAAAAAAAAAAAAAAAAAAAAAAAAAAAAAAAAAAAAAAAAAAAAAAAAAAAAAAAAAAAAAAAAAAAAAAAAAAAAAAAAAAAAAAAAAAAAAAAAAAAAAAAAAAAAAAAAAAAAAAAAAAAAAAAAAAAAAAAAAAAAAAAAAAAAAAAAAAAAAAAAAAAAAAAAAAAAAAAAAAAAAAAAAAAAAAAAAAAAAAAAAAAAAAAAAAAAAAAAAAAAAAAAAAAAAAAAAAAAAAAAAAAAAAAAAAAAAAAAAAAAAAAAAAAAAAAAAAMDP40AAAAAAgAP7QAAAAACIsQFBAAAAAJB6BUEAAAAACC0QQQAAAADQoR5B",
          "dtype": "f8"
         },
         "yaxis": "y"
        },
        {
         "hovertemplate": "Product Type=Rosado<br>Year=%{x}<br>Volume (Liters)=%{y}<extra></extra>",
         "legendgroup": "Rosado",
         "line": {
          "color": "#EF553B",
          "dash": "solid"
         },
         "marker": {
          "symbol": "circle"
         },
         "mode": "lines+markers",
         "name": "Rosado",
         "showlegend": true,
         "type": "scattergl",
         "x": {
          "bdata": "sgezB7QHtQe2B7cHuAe5B7oHuwe8B70Hvge/B8AHwQfCB8MHxAfFB8YHxwfIB8kHygfLB8wHzQfOB88H0AfRB9IH0wfUB9UH1gfXB9gH2QfaB9sH3AfdB94H3wfgB+EH4gfjB+QH5QfmB+cH",
          "dtype": "i2"
         },
         "xaxis": "x",
         "y": {
          "bdata": "AAAAAF8zN0EAAAAAxY5CQQAAAIATOGNBAAAAIHChZkEAAAAAaAtoQQAAAABMa2dBAAAAsMY2ckEAAAAQ9291QQAAABBXQnVBAAAAYJ+KekEAAABQcwl3QQAAANBTcnVBAAAAMNXNdEEAAADQ0rp8QQAAAKA8dnpBAAAA4C9FfEEAAAAYk1mAQQAAAABVrXdBAAAAcOs4c0EAAABQnTNxQQAAAJAJzHFBAAAAoKhPcUEAAACg3zFrQQAAAID72W1BAAAAAASQbUEAAADAQlVpQQAAAEDpbGxBAAAAoMnubUEAAACgP8lrQQAAACCNQWxBAAAAoOlmY0EAAABAYtleQQAAAGASVGFBAAAAgCa1XEEAAABAb2NWQQAAAADryE5BAAAAgMXGSUEAAACAlVxEQQAAAACab0BBAAAAgKM8Q0EAAAAA4VhBQQAAAADzsDxBAAAAAKzSPEEAAAAA7WQ+QQAAAADKKzhBAAAAAMsUOEEAAAAAhd43QQAAAAAShjNBAAAAAPcNQUEAAAAA//06QQAAAIBaOEJBAAAAgJP4SkEAAACAq/JKQQAAAICRf0xB",
          "dtype": "f8"
         },
         "yaxis": "y"
        },
        {
         "hovertemplate": "Product Type=Sangria<br>Year=%{x}<br>Volume (Liters)=%{y}<extra></extra>",
         "legendgroup": "Sangria",
         "line": {
          "color": "#00cc96",
          "dash": "solid"
         },
         "marker": {
          "symbol": "circle"
         },
         "mode": "lines+markers",
         "name": "Sangria",
         "showlegend": true,
         "type": "scattergl",
         "x": {
          "bdata": "sgezB7QHtQe2B7cHuAe5B7oHuwe8B70Hvge/B8AHwQfCB8MHxAfFB8YHxwfIB8kHygfLB8wHzQfOB88H0AfRB9IH0wfUB9UH1gfXB9gH2QfaB9sH3AfdB94H3wfgB+EH4gfjB+QH5QfmB+cH",
          "dtype": "i2"
         },
         "xaxis": "x",
         "y": {
          "bdata": "AAAAAAAAAAAAAAAAAAAAAAAAAAAAAAAAAAAAAAAAAAAAAAAAAAAAAAAAAAAAAAAAAAAAAAAAAAAAAAAAAAAAAAAAAAAAAAAAAAAAAAAAAAAAAAAAAAAAAAAAAAAAAAAAAAAAAAAAAAAAAAAAAAAAAAAAAAAAAAAAAAAAAAAAAAAAAAAAAAAAAAAAAAAAAAAAAAAAAAAAAAAAAAAAAAAAAAAAAAAAAAAAAAAAAAAAAAAAAAAAAAAAAAAAAAAAAAAAAAAAAAAAAAAAAAAAAAAAAAAAAAAAAAAAAAAAAAAAAAAAAAAAAAAAAAAAAAAAAAAAAAAAAAAAAAAAAAAAAAAAAAAAAAAAAAAAAAAAAEAtFEEAAAAAvhExQQAAAAC1bjFBAAAAAFNwMkEAAAAAQIMgQQAAAABg0BtBAAAAAJByB0EAAAAAsAUFQQAAAACgZANBAAAAAGD38UAAAAAAcJDyQAAAAABwEPVAAAAAAHgQAEEAAAAA4NDyQAAAAAAAaO5AAAAAAECQ7EAAAAAA8GzwQAAAAACAhMVAAAAAAIDR0EAAAAAAUFf3QAAAAADQi/RA",
          "dtype": "f8"
         },
         "yaxis": "y"
        },
        {
         "hovertemplate": "Product Type=Suco Adoçado<br>Year=%{x}<br>Volume (Liters)=%{y}<extra></extra>",
         "legendgroup": "Suco Adoçado",
         "line": {
          "color": "#ab63fa",
          "dash": "solid"
         },
         "marker": {
          "symbol": "circle"
         },
         "mode": "lines+markers",
         "name": "Suco Adoçado",
         "showlegend": true,
         "type": "scattergl",
         "x": {
          "bdata": "sgezB7QHtQe2B7cHuAe5B7oHuwe8B70Hvge/B8AHwQfCB8MHxAfFB8YHxwfIB8kHygfLB8wHzQfOB88H0AfRB9IH0wfUB9UH1gfXB9gH2QfaB9sH3AfdB94H3wfgB+EH4gfjB+QH5QfmB+cH",
          "dtype": "i2"
         },
         "xaxis": "x",
         "y": {
          "bdata": "AAAAAAAAAAAAAAAAAAAAAAAAAAAAAAAAAAAAAAAAAAAAAAAAAAAAAAAAAAAAAAAAAAAAAAAAAAAAAAAAAAAAAAAAAAAAAAAAAAAAAAAAAAAAAAAAAAAAAAAAAAAAAAAAAAAAAAAAAAAAAAAAAAAAAAAAAAAAAAAAAAAAAAAAAAAAAAAAAAAAAAAAAAAAAAAAAAAAAAAAAAAAAAAAAAAAAAAAAAAAAAAAAAAAAAAAAAAAAAAAAAAAAAAAAAAAAAAAAAAAAAAAAAAAAAAAAAAAAAAAAAAAAAAAAAAAAAAAAAAAAAAAAAAAAAAAAAAAAAAAAAAAAAAAAAAAAAAAAAAAAAAAAAAAAAAAAAAAAAAAAAAAAAAAAAAAAAAAAAAAAAAAAAAAAAAAAAAAAAAAAAAAAAAAAAAAAAAAAAAAAAAAAAAAAAAAAAAAAAAAAAAAAAAAAAAAAAAAAAAAAAAAAAAAAAAAAAAAAAAAAAAAAAAAAAAAAAAAAAAAAAAAAAAAAAAAAAAAAAAAAAAAAAAAAAAAAAAAAAAAAAAAAAAAAAAAAAAAAAAAAAAAAAAAAABwZf9A",
          "dtype": "f8"
         },
         "yaxis": "y"
        },
        {
         "hovertemplate": "Product Type=Suco Natural Integral<br>Year=%{x}<br>Volume (Liters)=%{y}<extra></extra>",
         "legendgroup": "Suco Natural Integral",
         "line": {
          "color": "#FFA15A",
          "dash": "solid"
         },
         "marker": {
          "symbol": "circle"
         },
         "mode": "lines+markers",
         "name": "Suco Natural Integral",
         "showlegend": true,
         "type": "scattergl",
         "x": {
          "bdata": "sgezB7QHtQe2B7cHuAe5B7oHuwe8B70Hvge/B8AHwQfCB8MHxAfFB8YHxwfIB8kHygfLB8wHzQfOB88H0AfRB9IH0wfUB9UH1gfXB9gH2QfaB9sH3AfdB94H3wfgB+EH4gfjB+QH5QfmB+cH",
          "dtype": "i2"
         },
         "xaxis": "x",
         "y": {
          "bdata": "AAAAAAAAAAAAAAAAAAAAAAAAAAAAAAAAAAAAAAAAAAAAAAAAAAAAAAAAAAAAAAAAAAAAAAAAAAAAAAAAAAAAAAAAAAAAAAAAAAAAAAAAAAAAAAAAAAAAAAAAAAAAAAAAAAAAAAAAAAAAAAAAAAAAAAAAAAAAAAAAAAAAAAAAAAAAAAAAAAAAAAAAAAAAAAAAAAAAAAAAAAAAAAAAAAAAAAAAAAAAAAAAAAAAAAAAAAAAAAAAAAAAAAAAAAAAAAAAAAAAAAAAAAAAAAAAAAAAAAAAAAAAAAAAAAAAAAAAAAAAAAAAAAAAAAAAAAAAAAAAAAAAAAAAAAAAAAAAAAAAAAAAAAAAAAAAAAAAAAAAAAAAAAAAAAAAAAAAAAAAAAAAAAAAAAAAAAAAAAAAAAAAAAAAAAAAAAAAAAAAAAAAAAAAAAAAAAAAAAAAAAAAAAAAAAAAAAAAAAAAAAAAAAAAAAAAAAAAAAAAAAAAAAAAAAAAAAAAAAAAAAAAAAAAAAAAAAAAAAAAAAAAAAA0+mGfQQAAAGSySZtBAAAAJKd1m0EAAACsI4ObQQAAADwi255B",
          "dtype": "f8"
         },
         "yaxis": "y"
        },
        {
         "hovertemplate": "Product Type=Suco Orgânico<br>Year=%{x}<br>Volume (Liters)=%{y}<extra></extra>",
         "legendgroup": "Suco Orgânico",
         "line": {
          "color": "#19d3f3",
          "dash": "solid"
         },
         "marker": {
          "symbol": "circle"
         },
         "mode": "lines+markers",
         "name": "Suco Orgânico",
         "showlegend": true,
         "type": "scattergl",
         "x": {
          "bdata": "sgezB7QHtQe2B7cHuAe5B7oHuwe8B70Hvge/B8AHwQfCB8MHxAfFB8YHxwfIB8kHygfLB8wHzQfOB88H0AfRB9IH0wfUB9UH1gfXB9gH2QfaB9sH3AfdB94H3wfgB+EH4gfjB+QH5QfmB+cH",
          "dtype": "i2"
         },
         "xaxis": "x",
         "y": {
          "bdata": "AAAAAAAAAAAAAAAAAAAAAAAAAAAAAAAAAAAAAAAAAAAAAAAAAAAAAAAAAAAAAAAAAAAAAAAAAAAAAAAAAAAAAAAAAAAAAAAAAAAAAAAAAAAAAAAAAAAAAAAAAAAAAAAAAAAAAAAAAAAAAAAAAAAAAAAAAAAAAAAAAAAAAAAAAAAAAAAAAAAAAAAAAAAAAAAAAAAAAAAAAAAAAAAAAAAAAAAAAAAAAAAAAAAAAAAAAAAAAAAAAAAAAAAAAAAAAAAAAAAAAAAAAAAAAAAAAAAAAAAAAAAAAAAAAAAAAAAAAAAAAAAAAAAAAAAAAAAAAAAAAAAAAAAAAAAAAAAAAAAAAAAAAAAAAAAAAAAAAAAAAAAAAAAAAAAAAAAAAAAAAAAAAAAAAAAAAAAAAAAAAAAAAAAAAAAAAAAAAAAAAAAAAAAAAAAAAAAAAAAAAAAAAAAAAAAAAAAAAAAAAAAAAAAAAAAAAAAAAAAAAAAAAAAAAAAAAAAAAAAAAAAAAAAAAAAAAAAAAAAAAAAAAAAARHEZQQAAAABe4yBBAAAAADaJK0EAAAAAepkuQQAAAAB0cixB",
          "dtype": "f8"
         },
         "yaxis": "y"
        },
        {
         "hovertemplate": "Product Type=Suco Reprocessado/reconstituido<br>Year=%{x}<br>Volume (Liters)=%{y}<extra></extra>",
         "legendgroup": "Suco Reprocessado/reconstituido",
         "line": {
          "color": "#FF6692",
          "dash": "solid"
         },
         "marker": {
          "symbol": "circle"
         },
         "mode": "lines+markers",
         "name": "Suco Reprocessado/reconstituido",
         "showlegend": true,
         "type": "scattergl",
         "x": {
          "bdata": "sgezB7QHtQe2B7cHuAe5B7oHuwe8B70Hvge/B8AHwQfCB8MHxAfFB8YHxwfIB8kHygfLB8wHzQfOB88H0AfRB9IH0wfUB9UH1gfXB9gH2QfaB9sH3AfdB94H3wfgB+EH4gfjB+QH5QfmB+cH",
          "dtype": "i2"
         },
         "xaxis": "x",
         "y": {
          "bdata": "AAAAAAAAAAAAAAAAAAAAAAAAAAAAAAAAAAAAAAAAAAAAAAAAAAAAAAAAAAAAAAAAAAAAAAAAAAAAAAAAAAAAAAAAAAAAAAAAAAAAAAAAAAAAAAAAAAAAAAAAAAAAAAAAAAAAAAAAAAAAAAAAAAAAAAAAAAAAAAAAAAAAAAAAAAAAAAAAAAAAAAAAAAAAAAAAAAAAAAAAAAAAAAAAAAAAAAAAAAAAAAAAAAAAAAAAAAAAAAAAAAAAAAAAAAAAAAAAAAAAAAAAAAAAAAAAAAAAAAAAAAAAAAAAAAAAAAAAAAAAAAAAAAAAAAAAAAAAAAAAAAAAAAAAAAAAAAAAAAAAAAAAAAAAAAAAAAAAAAAAAAAAAAAAAAAAAAAAAAAAAAAAAAAAAAAAAAAAAAAAAAAAAAAAAAAAAAAAAAAAAAAAAAAAAAAAAAAAAAAAAAAAAAAAAAAAAAAAAAAAAAAAAAAAAAAAAAAAAAAAAAAAAAAAAAAAAAAAAAAAAAAAAAAAAAAAAAAAAAAAAAAAAAAAD5pdQQAAAGBjC3VBAAAAkOHseEEAAACQcsGAQQAAAGiTZ4BB",
          "dtype": "f8"
         },
         "yaxis": "y"
        },
        {
         "hovertemplate": "Product Type=Tinto<br>Year=%{x}<br>Volume (Liters)=%{y}<extra></extra>",
         "legendgroup": "Tinto",
         "line": {
          "color": "#B6E880",
          "dash": "solid"
         },
         "marker": {
          "symbol": "circle"
         },
         "mode": "lines+markers",
         "name": "Tinto",
         "showlegend": true,
         "type": "scattergl",
         "x": {
          "bdata": "sgezB7QHtQe2B7cHuAe5B7oHuwe8B70Hvge/B8AHwQfCB8MHxAfFB8YHxwfIB8kHygfLB8wHzQfOB88H0AfRB9IH0wfUB9UH1gfXB9gH2QfaB9sH3AfdB94H3wfgB+EH4gfjB+QH5QfmB+cH",
          "dtype": "i2"
         },
         "xaxis": "x",
         "y": {
          "bdata": "AAAADJAXlUEAAAAArryYQQAAAKRHTplBAAAAuITLmEEAAAAwRK6TQQAAALSCdZdBAAAAHLv2nUEAAAAI2NGdQQAAALQcF55BAAAAMDytn0EAAAAgVZWaQQAAAAD625lBAAAATqrCoEEAAADwKmWjQQAAAF7HS6FBAAAAUkc0okEAAABa/zykQQAAABxKiZlBAAAAWCgfnkEAAAD2lxSiQQAAAITbip9BAAAA5jwCokEAAACIzsahQQAAANKdNqRBAAAAJu5dokEAAACw8Q+dQQAAAIg0QaBBAAAAOJ5roUEAAADq8VahQQAAAIpVvqNBAAAASHVZpkEAAAD2io2mQQAAADJ+FadBAAAAanzfpkEAAADgd4CnQQAAADgYzaxBAAAA3pmlqkEAAADaAmGoQQAAAJh4KqZBAAAA3HFXqUEAAABKg0yoQQAAAHqlNKlBAAAAPkaUpkEAAAD68bGoQQAAAKKTFKdBAAAAtFWOp0EAAAAUCkyjQQAAAOwF1KNBAAAAQAnSo0EAAAAwjUKkQQAAAAjRxKhBAAAAaNhvqEEAAADMHX+lQQAAAOJWKqVB",
          "dtype": "f8"
         },
         "yaxis": "y"
        },
        {
         "hovertemplate": "Product Type=Total<br>Year=%{x}<br>Volume (Liters)=%{y}<extra></extra>",
         "legendgroup": "Total",
         "line": {
          "color": "#FF97FF",
          "dash": "solid"
         },
         "marker": {
          "symbol": "circle"
         },
         "mode": "lines+markers",
         "name": "Total",
         "showlegend": true,
         "type": "scattergl",
         "x": {
          "bdata": "sgezB7QHtQe2B7cHuAe5B7oHuwe8B70Hvge/B8AHwQfCB8MHxAfFB8YHxwfIB8kHygfLB8wHzQfOB88H0AfRB9IH0wfUB9UH1gfXB9gH2QfaB9sH3AfdB94H3wfgB+EH4gfjB+QH5QfmB+cH",
          "dtype": "i2"
         },
         "xaxis": "x",
         "y": {
          "bdata": "AAAApjwvoEEAAACCM0qiQQAAAOREl6NBAAAArvJSpEEAAAA8ICihQQAAAEprK6NBAAAADPCaqEEAAADIJNOoQQAAAGSAPqlBAAAAkDYNq0EAAADsJm6mQQAAAAzwOqZBAAAAnGfqqkEAAABujMiuQQAAAHJIgK1BAAAAopx1r0EAAACPpKGxQQAAACKWxahBAAAAemFyq0EAAADK4vOuQQAAAHYtlqxBAAAAhG2ir0EAAABo0h2uQQAAAM9GbLFBAAAA4xwIsEEAAAB84iirQQAAAEz2n65BAAAAaZuYsEEAAAAN/B2wQQAAAPaB/7FBAAAAPJgFs0EAAABowZyyQQAAABdOqLJBAAAAG4e/sUEAAADF2IWyQQAAAG/CGrZBAAAAiUtqtEEAAAC0rJ2zQQAAALdxlbJBAAAA1RfmtUEAAAD1Xf20QQAAAKaqTbZBAAAAKUqstUEAAABQzPC4QQAAAAGFVbhBAAAAdPrCuUEAAACXmg+1QQAAAMxvPrZBAAAAacNEuEEAAAAt/cG5QQAAABJeWrtBAAAAPVo0vEEAAADodK27QQAAAA2XJrxB",
          "dtype": "f8"
         },
         "yaxis": "y"
        },
        {
         "hovertemplate": "Product Type=Vinagre balsamico<br>Year=%{x}<br>Volume (Liters)=%{y}<extra></extra>",
         "legendgroup": "Vinagre balsamico",
         "line": {
          "color": "#FECB52",
          "dash": "solid"
         },
         "marker": {
          "symbol": "circle"
         },
         "mode": "lines+markers",
         "name": "Vinagre balsamico",
         "showlegend": true,
         "type": "scattergl",
         "x": {
          "bdata": "sgezB7QHtQe2B7cHuAe5B7oHuwe8B70Hvge/B8AHwQfCB8MHxAfFB8YHxwfIB8kHygfLB8wHzQfOB88H0AfRB9IH0wfUB9UH1gfXB9gH2QfaB9sH3AfdB94H3wfgB+EH4gfjB+QH5QfmB+cH",
          "dtype": "i2"
         },
         "xaxis": "x",
         "y": {
          "bdata": "AAAAAAAAAAAAAAAAAAAAAAAAAAAAAAAAAAAAAAAAAAAAAAAAAAAAAAAAAAAAAAAAAAAAAAAAAAAAAAAAAAAAAAAAAAAAAAAAAAAAAAAAAAAAAAAAAAAAAAAAAAAAAAAAAAAAAAAAAAAAAAAAAAAAAAAAAAAAAAAAAAAAAAAAAAAAAAAAAAAAAAAAAAAAAAAAAAAAAAAAAAAAAAAAAAAAAAAAAAAAAAAAAAAAAAAAAAAAAAAAAAAAAAAAAAAAAAAAAAAAAAAAAAAAAAAAAAAAAAAAAAAAAAAAAAAAAAAAAAAAAAAAAAAAAAAAAAAAAAAAAAAAAAAAAAAAAAAAAAAAAAAAAAAAAAAAAAAAAAAAAAAAAAAAAJO7QAAAAAAAPcJAAAAAAABAwkAAAAAAAPrQQAAAAADA6tNAAAAAACAJ4kAAAAAA4HrwQAAAAADALPNAAAAAADD3+EAAAAAA0Pf9QAAAAACwXf5AAAAAAFB2/UAAAAAAcOb4QAAAAACAAfRAAAAAAJBSAEEAAAAAKNYJQQAAAAAYXg5BAAAAAORGFEEAAAAAYBsSQQAAAAC4rxRB",
          "dtype": "f8"
         },
         "yaxis": "y"
        },
        {
         "hovertemplate": "Product Type=Vinagre duplo<br>Year=%{x}<br>Volume (Liters)=%{y}<extra></extra>",
         "legendgroup": "Vinagre duplo",
         "line": {
          "color": "#636efa",
          "dash": "solid"
         },
         "marker": {
          "symbol": "circle"
         },
         "mode": "lines+markers",
         "name": "Vinagre duplo",
         "showlegend": true,
         "type": "scattergl",
         "x": {
          "bdata": "sgezB7QHtQe2B7cHuAe5B7oHuwe8B70Hvge/B8AHwQfCB8MHxAfFB8YHxwfIB8kHygfLB8wHzQfOB88H0AfRB9IH0wfUB9UH1gfXB9gH2QfaB9sH3AfdB94H3wfgB+EH4gfjB+QH5QfmB+cH",
          "dtype": "i2"
         },
         "xaxis": "x",
         "y": {
          "bdata": "AAAAAAAAAAAAAAAAAAAAAAAAAAAAAAAAAAAAAAAAAAAAAAAAAAAAAAAAAAAAAAAAAAAAAAAAAAAAAAAAAAAAAAAAAAAAAAAAAAAAAAAAAAAAAAAAAAAAAAAAAAAAAAAAAAAAAAAAAAAAAAAAAAAAAAAAAAAAAAAAAAAAAAAAAAAAAAAAAAAAAAAAAAAAAAAAAAAAAAAAAAAAAAAAAAAAAAAAAAAAAAAAAAAAAAAAAAAAAAAAAAAAAAAAAAAAAAAAAAAAAAAAAAAAAAAAAAAAAAAAAAAAAAAAAAAAAAAAAAAAAAAAAAAAAAAAAAAAAAAAAAAAAAAAAAAAAAAAAAAAAAAAAAAAAAAAAAAAAAAAAAAAAAAAKO8QQQAAAADAuvZAAAAAAACY/kAAAAAADEgdQQAAAACM+iRBAAAAANAMGkEAAAAA5NYrQQAAAACQuSpBAAAAAERvMkEAAAAA+6pIQQAAAADMly1BAAAAAO/EMUEAAAAAk4gwQQAAAADwyC1BAAAAABoeK0EAAAAAbD4xQQAAAAB7aTBBAAAAAGhDKEEAAAAADCAuQQAAAACq/jpB",
          "dtype": "f8"
         },
         "yaxis": "y"
        },
        {
         "hovertemplate": "Product Type=Vinagre simples<br>Year=%{x}<br>Volume (Liters)=%{y}<extra></extra>",
         "legendgroup": "Vinagre simples",
         "line": {
          "color": "#EF553B",
          "dash": "solid"
         },
         "marker": {
          "symbol": "circle"
         },
         "mode": "lines+markers",
         "name": "Vinagre simples",
         "showlegend": true,
         "type": "scattergl",
         "x": {
          "bdata": "sgezB7QHtQe2B7cHuAe5B7oHuwe8B70Hvge/B8AHwQfCB8MHxAfFB8YHxwfIB8kHygfLB8wHzQfOB88H0AfRB9IH0wfUB9UH1gfXB9gH2QfaB9sH3AfdB94H3wfgB+EH4gfjB+QH5QfmB+cH",
          "dtype": "i2"
         },
         "xaxis": "x",
         "y": {
          "bdata": "AAAAAMG9NEEAAAAAhCozQQAAAACsRDdBAAAAADHFNUEAAAAAojU6QQAAAAAwCDhBAAAAAFbXJkEAAAAAC6U3QQAAAIDttkJBAAAAAABcQEEAAAAAnVA/QQAAAABEhUFBAAAAgEOSQkEAAACAoQBDQQAAAADuhURBAAAAgDrsSUEAAAAAvxlDQQAAAADoc0BBAAAAANaSREEAAAAALkkwQQAAAACMHBZBAAAAAASaIEEAAAAApaM4QQAAAADjNTdBAAAAACukM0EAAACAWElGQQAAAIDXNElBAAAAgDXdQkEAAACAg0VCQQAAAABRg0JBAAAAQCRiWUEAAAAAqPk6QQAAAACROThBAAAAAHJXQUEAAAAAiVM5QQAAAAA5PjtBAAAAAAPdP0EAAACAedZBQQAAAIADd0VBAAAAAC/cRkEAAACA93NJQQAAAIDf1UlBAAAAAO+5TkEAAAAARLVeQQAAAEDsNF9BAAAAwB88X0EAAABA4jpfQQAAAMCIUl1BAAAAwIiuWkEAAABAiNRXQQAAAADME1dBAAAAgM+KVUEAAABAbkFUQQAAAAD8QFNB",
          "dtype": "f8"
         },
         "yaxis": "y"
        },
        {
         "hovertemplate": "Product Type=Vinho acetificado<br>Year=%{x}<br>Volume (Liters)=%{y}<extra></extra>",
         "legendgroup": "Vinho acetificado",
         "line": {
          "color": "#00cc96",
          "dash": "solid"
         },
         "marker": {
          "symbol": "circle"
         },
         "mode": "lines+markers",
         "name": "Vinho acetificado",
         "showlegend": true,
         "type": "scattergl",
         "x": {
          "bdata": "sgezB7QHtQe2B7cHuAe5B7oHuwe8B70Hvge/B8AHwQfCB8MHxAfFB8YHxwfIB8kHygfLB8wHzQfOB88H0AfRB9IH0wfUB9UH1gfXB9gH2QfaB9sH3AfdB94H3wfgB+EH4gfjB+QH5QfmB+cH",
          "dtype": "i2"
         },
         "xaxis": "x",
         "y": {
          "bdata": "AAAAAAAAAAAAAAAAAAAAAAAAAAAAAAAAAAAAAAAAAAAAAAAAAAAAAAAAAAAAAAAAAAAAAAAAAAAAAAAAAAAAAAAAAAAAAAAAAAAAAAAAAAAAAAAAAAAAAAAAAAAAAAAAAAAAAAAAAAAAAAAAAAAAAAAAAAAAAAAAAAAAAAAAAAAAAAAAAAAAAAAAAAAAAAAAAAAAAAAAAAAAAAAAAAAAAAAAAAAAAAAAAAAAAAAAAAAAAAAAAAAAAAAAAAAAAAAAAAAAAAAAAAAAAAAAAAAAAAAAAADbjltBAAAAADEjX0EAAACARZJRQQAAAACOPkVBAAAAAJ9YTEEAAAAAQOhNQQAAAAAhfUZBAAAAgAl1UEEAAAAAjulJQQAAAAB25D1BAAAAAMQ+K0EAAAAAUBssQQAAAACZmzdBAAAAAIqrKEEAAAAAEiYxQQAAAAAoBS5BAAAAAPkZQEEAAAAAuBFIQQAAAMACCVFBAAAAABGhSUEAAAAA76FHQQAAAACZIEVBAAAAgMh4QEEAAAAAPsdDQQAAAAC7rDxBAAAAAJYYNkEAAAAAkw8wQQAAAAAgrwdB",
          "dtype": "f8"
         },
         "yaxis": "y"
        },
        {
         "hovertemplate": "Product Type=Vinho base para espumantes<br>Year=%{x}<br>Volume (Liters)=%{y}<extra></extra>",
         "legendgroup": "Vinho base para espumantes",
         "line": {
          "color": "#ab63fa",
          "dash": "solid"
         },
         "marker": {
          "symbol": "circle"
         },
         "mode": "lines+markers",
         "name": "Vinho base para espumantes",
         "showlegend": true,
         "type": "scattergl",
         "x": {
          "bdata": "sgezB7QHtQe2B7cHuAe5B7oHuwe8B70Hvge/B8AHwQfCB8MHxAfFB8YHxwfIB8kHygfLB8wHzQfOB88H0AfRB9IH0wfUB9UH1gfXB9gH2QfaB9sH3AfdB94H3wfgB+EH4gfjB+QH5QfmB+cH",
          "dtype": "i2"
         },
         "xaxis": "x",
         "y": {
          "bdata": "AAAAAAAAAAAAAAAAAAAAAAAAAAAAAAAAAAAAAAAAAAAAAAAAAAAAAAAAAAAAAAAAAAAAAAAAAAAAAAAAAAAAAAAAAAAAAAAAAAAAAAAAAAAAAAAAAAAAAAAAAAAAAAAAAAAAAAAAAAAAAAAAAAAAAAAAAAAAAAAAAAAAAAAAAAAAAAAAAAAAAAAAAAAAAAAAAAAAAAAAAAAAAAAAAAAAAAAAAAAAAAAAAAAAAAAAAAAAAAAAAAAAAAAAAAAAAAAAAAAAAAAAAAAAAAAAAAAAAAAAAAAAAAAAAAAAAAAAAAAAAAAAAAAAAAAAAAAAAAAAAAAAAAAAAAAAAAAAAAAAAAAAAAAAAAAAAAAAAAAAAAAAAAAAAADTQAAAAAAATN1AAAAAAAAAUUAAAAAAAAAAAAAAAAAAAAAAAAAAAIDMxEAAAAAAAAAAAAAAAAAAAAAAAAAAAAAAAAAAAAAAAAAAAAAAAAAAAAAAAAAAAAAAAAAAAAAAAAAAAAAAAAAAAAAAAAAAAAAAAAAAAAAAAAAAAAAAAAAAAAAAAAAAAAAAAAAAAAAAAAAAAAAAAAAAAAAA",
          "dtype": "f8"
         },
         "yaxis": "y"
        },
        {
         "hovertemplate": "Product Type=Vinho composto<br>Year=%{x}<br>Volume (Liters)=%{y}<extra></extra>",
         "legendgroup": "Vinho composto",
         "line": {
          "color": "#FFA15A",
          "dash": "solid"
         },
         "marker": {
          "symbol": "circle"
         },
         "mode": "lines+markers",
         "name": "Vinho composto",
         "showlegend": true,
         "type": "scattergl",
         "x": {
          "bdata": "sgezB7QHtQe2B7cHuAe5B7oHuwe8B70Hvge/B8AHwQfCB8MHxAfFB8YHxwfIB8kHygfLB8wHzQfOB88H0AfRB9IH0wfUB9UH1gfXB9gH2QfaB9sH3AfdB94H3wfgB+EH4gfjB+QH5QfmB+cH",
          "dtype": "i2"
         },
         "xaxis": "x",
         "y": {
          "bdata": "AAAAgJ7VSUEAAAAAp9BLQQAAAIBS601BAAAAgETOT0EAAAAAaAFMQQAAAAB4pkpBAAAAAIq2VEEAAACAZblTQQAAAECOjVVBAAAAAFzKLUEAAAAAaEwlQQAAAABYriFBAAAAABiiJUEAAAAAShQkQQAAAACKCyRBAAAAAC6BMEEAAAAA3qM+QQAAAAB4hTtBAAAAAC4WNUEAAAAAhcU6QQAAAID2lUxBAAAAgGFQTUEAAAAA9OYWQQAAAAAc/ypBAAAAAKQSIUEAAAAACrEjQQAAAAAaEyFBAAAAAMDcKUEAAAAABFwxQQAAAAAaTzJBAAAAALiLMEEAAAAA3OQQQQAAAAAAwHJAAAAAAHTKIUEAAAAAFRkzQQAAAACJ2zBBAAAAAAjEKUEAAAAA2GgrQQAAAAB1QzBBAAAAAFaLIEEAAAAApDAkQQAAAABqOyRBAAAAAAgvH0EAAAAAciwiQQAAAAAkeRtBAAAAAJxAGUEAAAAAVA0XQQAAAADgqB1BAAAAAGhqDkEAAAAAVF8WQQAAAAAgEe9AAAAAAGC5C0EAAAAAAEDfQAAAAAAAqI5A",
          "dtype": "f8"
         },
         "yaxis": "y"
        },
        {
         "hovertemplate": "Product Type=Vinho gaseificado<br>Year=%{x}<br>Volume (Liters)=%{y}<extra></extra>",
         "legendgroup": "Vinho gaseificado",
         "line": {
          "color": "#19d3f3",
          "dash": "solid"
         },
         "marker": {
          "symbol": "circle"
         },
         "mode": "lines+markers",
         "name": "Vinho gaseificado",
         "showlegend": true,
         "type": "scattergl",
         "x": {
          "bdata": "sgezB7QHtQe2B7cHuAe5B7oHuwe8B70Hvge/B8AHwQfCB8MHxAfFB8YHxwfIB8kHygfLB8wHzQfOB88H0AfRB9IH0wfUB9UH1gfXB9gH2QfaB9sH3AfdB94H3wfgB+EH4gfjB+QH5QfmB+cH",
          "dtype": "i2"
         },
         "xaxis": "x",
         "y": {
          "bdata": "AAAAAAAAAAAAAAAAAAAAAAAAAAAAAAAAAAAAAAAAAAAAAAAAAAAAAAAAAAAAAAAAAAAAAAAAAAAAAAAAAAAAAAAAAAAAAAAAAAAAAAAAAAAAAAAAAAAAAAAAAAAAAAAAAAAAAAAAAAAAAAAAAAAAAAAAAAAAAAAAAAAAAAAAAAAAAAAAAAAAAAAAAAAAAAAAAAAAAAAAAAAAAAAAAAAAAAAAAAAAAAAAAAAAAAAAAAAAAAAAAAAAAAAAAAAAAAAAAAAAAAAAAAAAAAAAAAAAAAAAAAAAAAAAAAAAAAAAAAAAAAAAAAAAAAAAAAAAAAAAAAAAAAAAAAAAAAAAAAAAAAAAAAAAAAAAAAAAAAAAAAAAAAAAAAAAAAAAAAAAAAAAAAAAAAAAAAAAAAAAAAAAAAAAAAAAAAAAAAAAAAAAAAAAAAAAAAAAAAAAAAAAAAAAAAAAAAAAAAAAAAAAAAAAAAAAAAAAAAAAAAAAAAAAAAAAAAAAAAAAAAAAAAAAAAAAAAAAAADgYUAAAAAAAABhQAAAAAAAWK9AAAAAAOAe6kAAAAAAgDHNQAAAAACcCRlB",
          "dtype": "f8"
         },
         "yaxis": "y"
        },
        {
         "hovertemplate": "Product Type=Vinho leve<br>Year=%{x}<br>Volume (Liters)=%{y}<extra></extra>",
         "legendgroup": "Vinho leve",
         "line": {
          "color": "#FF6692",
          "dash": "solid"
         },
         "marker": {
          "symbol": "circle"
         },
         "mode": "lines+markers",
         "name": "Vinho leve",
         "showlegend": true,
         "type": "scattergl",
         "x": {
          "bdata": "sgezB7QHtQe2B7cHuAe5B7oHuwe8B70Hvge/B8AHwQfCB8MHxAfFB8YHxwfIB8kHygfLB8wHzQfOB88H0AfRB9IH0wfUB9UH1gfXB9gH2QfaB9sH3AfdB94H3wfgB+EH4gfjB+QH5QfmB+cH",
          "dtype": "i2"
         },
         "xaxis": "x",
         "y": {
          "bdata": "AAAAAAAAAAAAAAAAAAAAAAAAAAAAAAAAAAAAAAAAAAAAAAAAAAAAAAAAAAAAAAAAAAAAAAAAAAAAAAAAAAAAAAAAAAAAAAAAAAAAAAAAAAAAAAAAAAAAAAAAAAAAAAAAAAAAAAAAAAAAAAAAAAAAAAAAAAAAAAAAAAAAAAAAAAAAAAAAAAAAAAAAAAAAAAAAAAAAAAAAAAAAAAAAAAAAAAAAAAAAAAAAAAAAAAAAAAAAAAAAAAAAAAAAAAAAAAAAAAAAAAAAAAAAAAAAAAAAAAAAAAAAAAAAAAAAAAAAAAAAAAAAAAAAAAAAAAAAAAAAAAAAAAAAAAAAAAAAAAAAAAAAAAAAAAAAAAAAAAAAAAAAAAAAAAAAAAAAAAAAAAAAAAAAAAAAAAAAAAAAAAAAAAAAAAAAAAAAAAAAAAAAAAAAAAAAAAAAAAAAAAAAAAAAAAAAAAAAAAAAAAAAAAAAAAAAAAAAAAAAAAAAAAAAAAAAAAAAAAAAAAAAAAAAAAAAAAAAAADAaEAAAAAAACBzQAAAAAAAwHhAAAAAAAAAAAAAAAAAAAA7QAAAAAAAHwBB",
          "dtype": "f8"
         },
         "yaxis": "y"
        },
        {
         "hovertemplate": "Product Type=Vinho licoroso<br>Year=%{x}<br>Volume (Liters)=%{y}<extra></extra>",
         "legendgroup": "Vinho licoroso",
         "line": {
          "color": "#B6E880",
          "dash": "solid"
         },
         "marker": {
          "symbol": "circle"
         },
         "mode": "lines+markers",
         "name": "Vinho licoroso",
         "showlegend": true,
         "type": "scattergl",
         "x": {
          "bdata": "sgezB7QHtQe2B7cHuAe5B7oHuwe8B70Hvge/B8AHwQfCB8MHxAfFB8YHxwfIB8kHygfLB8wHzQfOB88H0AfRB9IH0wfUB9UH1gfXB9gH2QfaB9sH3AfdB94H3wfgB+EH4gfjB+QH5QfmB+cH",
          "dtype": "i2"
         },
         "xaxis": "x",
         "y": {
          "bdata": "AAAAAOD8RkEAAAAAOONCQQAAAADEXkJBAAAAAFSlQkEAAAAAS1M9QQAAAAC20kBBAAAAAL7gQkEAAAAA9RhHQQAAAACPm0dBAAAAgBlQQ0EAAAAAZrM/QQAAAAC+nD1BAAAAgKnpQUEAAAAAo3k7QQAAAABrEzpBAAAAAC9lOEEAAAAAlgY7QQAAAAA06jRBAAAAAPX5MkEAAAAACYMzQQAAAAAYoCxBAAAAAMZ/LUEAAAAABsgoQQAAAACixyhBAAAAAAhxJkEAAAAAYEwoQQAAAADk3ChBAAAAAJoWJ0EAAAAAY0Q5QQAAAAAi6y5BAAAAAI/wMEEAAAAAmDctQQAAAABaRCxBAAAAAGAlK0EAAAAAcognQQAAAAAmniZBAAAAAGA1JkEAAAAACO8hQQAAAAAMACFBAAAAAKILIkEAAAAALnwjQQAAAACcHCJBAAAAALqxI0EAAAAAApciQQAAAACQ0yJBAAAAAPwvH0EAAAAAGqsgQQAAAACoUR5BAAAAAHT6HUEAAAAAsHAcQQAAAACQHRZBAAAAAFT8FkEAAAAAuH8XQQAAAABYwRlB",
          "dtype": "f8"
         },
         "yaxis": "y"
        }
       ],
       "layout": {
        "height": 500,
        "legend": {
         "title": {
          "text": "Product"
         },
         "tracegroupgap": 0
        },
        "margin": {
         "b": 60,
         "l": 60,
         "r": 60,
         "t": 50
        },
        "template": {
         "data": {
          "bar": [
           {
            "error_x": {
             "color": "#2a3f5f"
            },
            "error_y": {
             "color": "#2a3f5f"
            },
            "marker": {
             "line": {
              "color": "white",
              "width": 0.5
             },
             "pattern": {
              "fillmode": "overlay",
              "size": 10,
              "solidity": 0.2
             }
            },
            "type": "bar"
           }
          ],
          "barpolar": [
           {
            "marker": {
             "line": {
              "color": "white",
              "width": 0.5
             },
             "pattern": {
              "fillmode": "overlay",
              "size": 10,
              "solidity": 0.2
             }
            },
            "type": "barpolar"
           }
          ],
          "carpet": [
           {
            "aaxis": {
             "endlinecolor": "#2a3f5f",
             "gridcolor": "#C8D4E3",
             "linecolor": "#C8D4E3",
             "minorgridcolor": "#C8D4E3",
             "startlinecolor": "#2a3f5f"
            },
            "baxis": {
             "endlinecolor": "#2a3f5f",
             "gridcolor": "#C8D4E3",
             "linecolor": "#C8D4E3",
             "minorgridcolor": "#C8D4E3",
             "startlinecolor": "#2a3f5f"
            },
            "type": "carpet"
           }
          ],
          "choropleth": [
           {
            "colorbar": {
             "outlinewidth": 0,
             "ticks": ""
            },
            "type": "choropleth"
           }
          ],
          "contour": [
           {
            "colorbar": {
             "outlinewidth": 0,
             "ticks": ""
            },
            "colorscale": [
             [
              0,
              "#0d0887"
             ],
             [
              0.1111111111111111,
              "#46039f"
             ],
             [
              0.2222222222222222,
              "#7201a8"
             ],
             [
              0.3333333333333333,
              "#9c179e"
             ],
             [
              0.4444444444444444,
              "#bd3786"
             ],
             [
              0.5555555555555556,
              "#d8576b"
             ],
             [
              0.6666666666666666,
              "#ed7953"
             ],
             [
              0.7777777777777778,
              "#fb9f3a"
             ],
             [
              0.8888888888888888,
              "#fdca26"
             ],
             [
              1,
              "#f0f921"
             ]
            ],
            "type": "contour"
           }
          ],
          "contourcarpet": [
           {
            "colorbar": {
             "outlinewidth": 0,
             "ticks": ""
            },
            "type": "contourcarpet"
           }
          ],
          "heatmap": [
           {
            "colorbar": {
             "outlinewidth": 0,
             "ticks": ""
            },
            "colorscale": [
             [
              0,
              "#0d0887"
             ],
             [
              0.1111111111111111,
              "#46039f"
             ],
             [
              0.2222222222222222,
              "#7201a8"
             ],
             [
              0.3333333333333333,
              "#9c179e"
             ],
             [
              0.4444444444444444,
              "#bd3786"
             ],
             [
              0.5555555555555556,
              "#d8576b"
             ],
             [
              0.6666666666666666,
              "#ed7953"
             ],
             [
              0.7777777777777778,
              "#fb9f3a"
             ],
             [
              0.8888888888888888,
              "#fdca26"
             ],
             [
              1,
              "#f0f921"
             ]
            ],
            "type": "heatmap"
           }
          ],
          "histogram": [
           {
            "marker": {
             "pattern": {
              "fillmode": "overlay",
              "size": 10,
              "solidity": 0.2
             }
            },
            "type": "histogram"
           }
          ],
          "histogram2d": [
           {
            "colorbar": {
             "outlinewidth": 0,
             "ticks": ""
            },
            "colorscale": [
             [
              0,
              "#0d0887"
             ],
             [
              0.1111111111111111,
              "#46039f"
             ],
             [
              0.2222222222222222,
              "#7201a8"
             ],
             [
              0.3333333333333333,
              "#9c179e"
             ],
             [
              0.4444444444444444,
              "#bd3786"
             ],
             [
              0.5555555555555556,
              "#d8576b"
             ],
             [
              0.6666666666666666,
              "#ed7953"
             ],
             [
              0.7777777777777778,
              "#fb9f3a"
             ],
             [
              0.8888888888888888,
              "#fdca26"
             ],
             [
              1,
              "#f0f921"
             ]
            ],
            "type": "histogram2d"
           }
          ],
          "histogram2dcontour": [
           {
            "colorbar": {
             "outlinewidth": 0,
             "ticks": ""
            },
            "colorscale": [
             [
              0,
              "#0d0887"
             ],
             [
              0.1111111111111111,
              "#46039f"
             ],
             [
              0.2222222222222222,
              "#7201a8"
             ],
             [
              0.3333333333333333,
              "#9c179e"
             ],
             [
              0.4444444444444444,
              "#bd3786"
             ],
             [
              0.5555555555555556,
              "#d8576b"
             ],
             [
              0.6666666666666666,
              "#ed7953"
             ],
             [
              0.7777777777777778,
              "#fb9f3a"
             ],
             [
              0.8888888888888888,
              "#fdca26"
             ],
             [
              1,
              "#f0f921"
             ]
            ],
            "type": "histogram2dcontour"
           }
          ],
          "mesh3d": [
           {
            "colorbar": {
             "outlinewidth": 0,
             "ticks": ""
            },
            "type": "mesh3d"
           }
          ],
          "parcoords": [
           {
            "line": {
             "colorbar": {
              "outlinewidth": 0,
              "ticks": ""
             }
            },
            "type": "parcoords"
           }
          ],
          "pie": [
           {
            "automargin": true,
            "type": "pie"
           }
          ],
          "scatter": [
           {
            "fillpattern": {
             "fillmode": "overlay",
             "size": 10,
             "solidity": 0.2
            },
            "type": "scatter"
           }
          ],
          "scatter3d": [
           {
            "line": {
             "colorbar": {
              "outlinewidth": 0,
              "ticks": ""
             }
            },
            "marker": {
             "colorbar": {
              "outlinewidth": 0,
              "ticks": ""
             }
            },
            "type": "scatter3d"
           }
          ],
          "scattercarpet": [
           {
            "marker": {
             "colorbar": {
              "outlinewidth": 0,
              "ticks": ""
             }
            },
            "type": "scattercarpet"
           }
          ],
          "scattergeo": [
           {
            "marker": {
             "colorbar": {
              "outlinewidth": 0,
              "ticks": ""
             }
            },
            "type": "scattergeo"
           }
          ],
          "scattergl": [
           {
            "marker": {
             "colorbar": {
              "outlinewidth": 0,
              "ticks": ""
             }
            },
            "type": "scattergl"
           }
          ],
          "scattermap": [
           {
            "marker": {
             "colorbar": {
              "outlinewidth": 0,
              "ticks": ""
             }
            },
            "type": "scattermap"
           }
          ],
          "scattermapbox": [
           {
            "marker": {
             "colorbar": {
              "outlinewidth": 0,
              "ticks": ""
             }
            },
            "type": "scattermapbox"
           }
          ],
          "scatterpolar": [
           {
            "marker": {
             "colorbar": {
              "outlinewidth": 0,
              "ticks": ""
             }
            },
            "type": "scatterpolar"
           }
          ],
          "scatterpolargl": [
           {
            "marker": {
             "colorbar": {
              "outlinewidth": 0,
              "ticks": ""
             }
            },
            "type": "scatterpolargl"
           }
          ],
          "scatterternary": [
           {
            "marker": {
             "colorbar": {
              "outlinewidth": 0,
              "ticks": ""
             }
            },
            "type": "scatterternary"
           }
          ],
          "surface": [
           {
            "colorbar": {
             "outlinewidth": 0,
             "ticks": ""
            },
            "colorscale": [
             [
              0,
              "#0d0887"
             ],
             [
              0.1111111111111111,
              "#46039f"
             ],
             [
              0.2222222222222222,
              "#7201a8"
             ],
             [
              0.3333333333333333,
              "#9c179e"
             ],
             [
              0.4444444444444444,
              "#bd3786"
             ],
             [
              0.5555555555555556,
              "#d8576b"
             ],
             [
              0.6666666666666666,
              "#ed7953"
             ],
             [
              0.7777777777777778,
              "#fb9f3a"
             ],
             [
              0.8888888888888888,
              "#fdca26"
             ],
             [
              1,
              "#f0f921"
             ]
            ],
            "type": "surface"
           }
          ],
          "table": [
           {
            "cells": {
             "fill": {
              "color": "#EBF0F8"
             },
             "line": {
              "color": "white"
             }
            },
            "header": {
             "fill": {
              "color": "#C8D4E3"
             },
             "line": {
              "color": "white"
             }
            },
            "type": "table"
           }
          ]
         },
         "layout": {
          "annotationdefaults": {
           "arrowcolor": "#2a3f5f",
           "arrowhead": 0,
           "arrowwidth": 1
          },
          "autotypenumbers": "strict",
          "coloraxis": {
           "colorbar": {
            "outlinewidth": 0,
            "ticks": ""
           }
          },
          "colorscale": {
           "diverging": [
            [
             0,
             "#8e0152"
            ],
            [
             0.1,
             "#c51b7d"
            ],
            [
             0.2,
             "#de77ae"
            ],
            [
             0.3,
             "#f1b6da"
            ],
            [
             0.4,
             "#fde0ef"
            ],
            [
             0.5,
             "#f7f7f7"
            ],
            [
             0.6,
             "#e6f5d0"
            ],
            [
             0.7,
             "#b8e186"
            ],
            [
             0.8,
             "#7fbc41"
            ],
            [
             0.9,
             "#4d9221"
            ],
            [
             1,
             "#276419"
            ]
           ],
           "sequential": [
            [
             0,
             "#0d0887"
            ],
            [
             0.1111111111111111,
             "#46039f"
            ],
            [
             0.2222222222222222,
             "#7201a8"
            ],
            [
             0.3333333333333333,
             "#9c179e"
            ],
            [
             0.4444444444444444,
             "#bd3786"
            ],
            [
             0.5555555555555556,
             "#d8576b"
            ],
            [
             0.6666666666666666,
             "#ed7953"
            ],
            [
             0.7777777777777778,
             "#fb9f3a"
            ],
            [
             0.8888888888888888,
             "#fdca26"
            ],
            [
             1,
             "#f0f921"
            ]
           ],
           "sequentialminus": [
            [
             0,
             "#0d0887"
            ],
            [
             0.1111111111111111,
             "#46039f"
            ],
            [
             0.2222222222222222,
             "#7201a8"
            ],
            [
             0.3333333333333333,
             "#9c179e"
            ],
            [
             0.4444444444444444,
             "#bd3786"
            ],
            [
             0.5555555555555556,
             "#d8576b"
            ],
            [
             0.6666666666666666,
             "#ed7953"
            ],
            [
             0.7777777777777778,
             "#fb9f3a"
            ],
            [
             0.8888888888888888,
             "#fdca26"
            ],
            [
             1,
             "#f0f921"
            ]
           ]
          },
          "colorway": [
           "#636efa",
           "#EF553B",
           "#00cc96",
           "#ab63fa",
           "#FFA15A",
           "#19d3f3",
           "#FF6692",
           "#B6E880",
           "#FF97FF",
           "#FECB52"
          ],
          "font": {
           "color": "#2a3f5f"
          },
          "geo": {
           "bgcolor": "white",
           "lakecolor": "white",
           "landcolor": "white",
           "showlakes": true,
           "showland": true,
           "subunitcolor": "#C8D4E3"
          },
          "hoverlabel": {
           "align": "left"
          },
          "hovermode": "closest",
          "mapbox": {
           "style": "light"
          },
          "paper_bgcolor": "white",
          "plot_bgcolor": "white",
          "polar": {
           "angularaxis": {
            "gridcolor": "#EBF0F8",
            "linecolor": "#EBF0F8",
            "ticks": ""
           },
           "bgcolor": "white",
           "radialaxis": {
            "gridcolor": "#EBF0F8",
            "linecolor": "#EBF0F8",
            "ticks": ""
           }
          },
          "scene": {
           "xaxis": {
            "backgroundcolor": "white",
            "gridcolor": "#DFE8F3",
            "gridwidth": 2,
            "linecolor": "#EBF0F8",
            "showbackground": true,
            "ticks": "",
            "zerolinecolor": "#EBF0F8"
           },
           "yaxis": {
            "backgroundcolor": "white",
            "gridcolor": "#DFE8F3",
            "gridwidth": 2,
            "linecolor": "#EBF0F8",
            "showbackground": true,
            "ticks": "",
            "zerolinecolor": "#EBF0F8"
           },
           "zaxis": {
            "backgroundcolor": "white",
            "gridcolor": "#DFE8F3",
            "gridwidth": 2,
            "linecolor": "#EBF0F8",
            "showbackground": true,
            "ticks": "",
            "zerolinecolor": "#EBF0F8"
           }
          },
          "shapedefaults": {
           "line": {
            "color": "#2a3f5f"
           }
          },
          "ternary": {
           "aaxis": {
            "gridcolor": "#DFE8F3",
            "linecolor": "#A2B1C6",
            "ticks": ""
           },
           "baxis": {
            "gridcolor": "#DFE8F3",
            "linecolor": "#A2B1C6",
            "ticks": ""
           },
           "bgcolor": "white",
           "caxis": {
            "gridcolor": "#DFE8F3",
            "linecolor": "#A2B1C6",
            "ticks": ""
           }
          },
          "title": {
           "x": 0.05
          },
          "xaxis": {
           "automargin": true,
           "gridcolor": "#EBF0F8",
           "linecolor": "#EBF0F8",
           "ticks": "",
           "title": {
            "standoff": 15
           },
           "zerolinecolor": "#EBF0F8",
           "zerolinewidth": 2
          },
          "yaxis": {
           "automargin": true,
           "gridcolor": "#EBF0F8",
           "linecolor": "#EBF0F8",
           "ticks": "",
           "title": {
            "standoff": 15
           },
           "zerolinecolor": "#EBF0F8",
           "zerolinewidth": 2
          }
         }
        },
        "title": {
         "text": "Commercialization of Grape Derivatives"
        },
        "width": 1000,
        "xaxis": {
         "anchor": "y",
         "domain": [
          0,
          1
         ],
         "title": {
          "text": "Year"
         },
         "type": "category"
        },
        "yaxis": {
         "anchor": "x",
         "domain": [
          0,
          1
         ],
         "title": {
          "text": "Volume (Liters)"
         }
        }
       }
      }
     },
     "metadata": {},
     "output_type": "display_data"
    }
   ],
   "source": [
    "import plotly.express as px\n",
    "\n",
    "# Evolution of the marketing of products such as juice, table wine, fine wine and others.\n",
    "# Group and pivot data\n",
    "df_com_grouped = (\n",
    "    df_com.groupby([\"Year\", \"Product\"])[\"Quantity (L.)\"]\n",
    "    .sum()\n",
    "    .reset_index()\n",
    ")\n",
    "\n",
    "# Create interactive line chart\n",
    "fig = px.line(\n",
    "    df_com_grouped,\n",
    "    x=\"Year\",\n",
    "    y=\"Quantity (L.)\",\n",
    "    color=\"Product\",\n",
    "    markers=True,\n",
    "    title=\"Commercialization of Grape Derivatives\",\n",
    "    labels={\n",
    "        \"Year\": \"Year\",\n",
    "        \"Quantity (L.)\": \"Volume (Liters)\",\n",
    "        \"Product\": \"Product Type\"\n",
    "    }\n",
    ")\n",
    "\n",
    "# Customize layout\n",
    "fig.update_layout(\n",
    "    template=\"plotly_white\",\n",
    "    width=1000,\n",
    "    height=500,\n",
    "    legend_title=\"Product\",\n",
    "    xaxis=dict(type=\"category\"),\n",
    "    margin=dict(t=50, r=60, b=60, l=60)\n",
    ")\n",
    "\n",
    "fig.show()\n"
   ]
  },
  {
   "cell_type": "code",
   "execution_count": 120,
   "id": "97025358-8eec-42d2-a2c8-f3de1adc73f5",
   "metadata": {},
   "outputs": [
    {
     "name": "stdout",
     "output_type": "stream",
     "text": [
      "✅ Unified dataset (yearly):\n"
     ]
    },
    {
     "data": {
      "text/html": [
       "<div>\n",
       "<style scoped>\n",
       "    .dataframe tbody tr th:only-of-type {\n",
       "        vertical-align: middle;\n",
       "    }\n",
       "\n",
       "    .dataframe tbody tr th {\n",
       "        vertical-align: top;\n",
       "    }\n",
       "\n",
       "    .dataframe thead th {\n",
       "        text-align: right;\n",
       "    }\n",
       "</style>\n",
       "<table border=\"1\" class=\"dataframe\">\n",
       "  <thead>\n",
       "    <tr style=\"text-align: right;\">\n",
       "      <th></th>\n",
       "      <th>Total_Production_Liters</th>\n",
       "      <th>Total_Processed_kg</th>\n",
       "      <th>Total_Commercialized_Liters</th>\n",
       "      <th>Total_Exported_kg</th>\n",
       "      <th>Total_Imported_kg</th>\n",
       "    </tr>\n",
       "    <tr>\n",
       "      <th>Year</th>\n",
       "      <th></th>\n",
       "      <th></th>\n",
       "      <th></th>\n",
       "      <th></th>\n",
       "      <th></th>\n",
       "    </tr>\n",
       "  </thead>\n",
       "  <tbody>\n",
       "    <tr>\n",
       "      <th>1970</th>\n",
       "      <td>512740100</td>\n",
       "      <td>632952051</td>\n",
       "      <td>265694161</td>\n",
       "      <td>141592</td>\n",
       "      <td>9445691</td>\n",
       "    </tr>\n",
       "    <tr>\n",
       "      <th>1971</th>\n",
       "      <td>386855770</td>\n",
       "      <td>455652457</td>\n",
       "      <td>300842084</td>\n",
       "      <td>291096</td>\n",
       "      <td>8780914</td>\n",
       "    </tr>\n",
       "    <tr>\n",
       "      <th>1972</th>\n",
       "      <td>367712034</td>\n",
       "      <td>434265394</td>\n",
       "      <td>320672606</td>\n",
       "      <td>504842</td>\n",
       "      <td>9982090</td>\n",
       "    </tr>\n",
       "    <tr>\n",
       "      <th>1973</th>\n",
       "      <td>314793348</td>\n",
       "      <td>365032211</td>\n",
       "      <td>329406346</td>\n",
       "      <td>1120589</td>\n",
       "      <td>10466782</td>\n",
       "    </tr>\n",
       "    <tr>\n",
       "      <th>1974</th>\n",
       "      <td>546848806</td>\n",
       "      <td>683573843</td>\n",
       "      <td>277835670</td>\n",
       "      <td>835988</td>\n",
       "      <td>10820833</td>\n",
       "    </tr>\n",
       "  </tbody>\n",
       "</table>\n",
       "</div>"
      ],
      "text/plain": [
       "      Total_Production_Liters  Total_Processed_kg  \\\n",
       "Year                                                \n",
       "1970                512740100           632952051   \n",
       "1971                386855770           455652457   \n",
       "1972                367712034           434265394   \n",
       "1973                314793348           365032211   \n",
       "1974                546848806           683573843   \n",
       "\n",
       "      Total_Commercialized_Liters  Total_Exported_kg  Total_Imported_kg  \n",
       "Year                                                                     \n",
       "1970                    265694161             141592            9445691  \n",
       "1971                    300842084             291096            8780914  \n",
       "1972                    320672606             504842            9982090  \n",
       "1973                    329406346            1120589           10466782  \n",
       "1974                    277835670             835988           10820833  "
      ]
     },
     "metadata": {},
     "output_type": "display_data"
    }
   ],
   "source": [
    "# --- Unified Annual Summary for Multivariate Analysis ---\n",
    "\n",
    "# Aggregate each dataset by year\n",
    "prod_yearly = df_prod.groupby(\"Year\")[\"Quantity (L.)\"].sum().rename(\"Total_Production_Liters\")\n",
    "proc_yearly = df_proc.groupby(\"Year\")[\"Quantity (kg)\"].sum().rename(\"Total_Processed_kg\")\n",
    "com_yearly = df_com.groupby(\"Year\")[\"Quantity (L.)\"].sum().rename(\"Total_Commercialized_Liters\")\n",
    "exp_yearly = df_exp.groupby(\"Year\")[\"Quantity (kg)\"].sum().rename(\"Total_Exported_kg\")\n",
    "imp_yearly = df_imp.groupby(\"Year\")[\"Quantity (kg)\"].sum().rename(\"Total_Imported_kg\")\n",
    "\n",
    "# Merge all into a single DataFrame\n",
    "df_yearly = pd.concat([prod_yearly, proc_yearly, com_yearly, exp_yearly, imp_yearly], axis=1)\n",
    "\n",
    "# Fill any missing years with 0 (important for complete time series)\n",
    "df_yearly = df_yearly.fillna(0).astype(int)\n",
    "\n",
    "# Show result\n",
    "print(\"✅ Unified dataset (yearly):\")\n",
    "display(df_yearly.head())\n"
   ]
  },
  {
   "cell_type": "code",
   "execution_count": 121,
   "id": "e81df66c",
   "metadata": {},
   "outputs": [
    {
     "data": {
      "application/vnd.plotly.v1+json": {
       "config": {
        "plotlyServerURL": "https://plot.ly"
       },
       "data": [
        {
         "marker": {
          "size": 8
         },
         "mode": "lines+markers",
         "name": "Total Production Liters",
         "type": "scatter",
         "x": {
          "bdata": "sgezB7QHtQe2B7cHuAe5B7oHuwe8B70Hvge/B8AHwQfCB8MHxAfFB8YHxwfIB8kHygfLB8wHzQfOB88H0AfRB9IH0wfUB9UH1gfXB9gH2QfaB9sH3AfdB94H3wfgB+EH4gfjB+QH5QfmB+cH",
          "dtype": "i2"
         },
         "y": {
          "bdata": "BMuPHlrzDhci1+oVhF3DEiZAmCB8wD0gAEcUGLoeEh+2eDAhBCHmIqxgyxcITVUixhlOJ7AxbxbU9wAdROKrKwbA3RrANAEa2uqNKUydmiDIdA4l8n5QGPJtiB7yGVQenlWYIjDWkyMOlz8aEJjrHwy9bRk0TRwl7IZ0LL7VWiPKpXsozNIFIJxZzjDmU78mBo7yIM6OkC7e9kUziJK/KLKqUCaW8OY2gPwdMxqDTSy+wp0sJC/GNJBP6BfaaOo5Ps7MMfS6CDB+OPgl/GUYOqPkRDXMupI2",
          "dtype": "i4"
         }
        },
        {
         "marker": {
          "size": 8
         },
         "mode": "lines+markers",
         "name": "Total Processed kg",
         "type": "scatter",
         "x": {
          "bdata": "sgezB7QHtQe2B7cHuAe5B7oHuwe8B70Hvge/B8AHwQfCB8MHxAfFB8YHxwfIB8kHygfLB8wHzQfOB88H0AfRB9IH0wfUB9UH1gfXB9gH2QfaB9sH3AfdB94H3wfgB+EH4gfjB+QH5QfmB+cH",
          "dtype": "i2"
         },
         "y": {
          "bdata": "8xS6JWm0KBsyXeIZE/PBFVOCvigCVUIoVkWmIBvguCd58O0pF30WLGwidh1T4aArCSjJM56g1Bs3knQodyjyO72nbSTLgQ8kre1uOqn7WS0MNa408qJqJGtKtyo6wBIr882RMFte5zA5PKIlhIjCLQ6nYCW6Zegyo80uPk6o9TO6fo049v2yLXBVBkWSA8w65FSAMlIfA0RGJ5VLLMKrPyBBzz6q5JZU3BkUU/Dd7kheGUBIvCPWU8RkzCOWU7RZxu0tTwAAAAB75OI7nEqNVwAAAADe4EVP",
          "dtype": "i4"
         }
        },
        {
         "marker": {
          "size": 8
         },
         "mode": "lines+markers",
         "name": "Total Commercialized Liters",
         "type": "scatter",
         "x": {
          "bdata": "sgezB7QHtQe2B7cHuAe5B7oHuwe8B70Hvge/B8AHwQfCB8MHxAfFB8YHxwfIB8kHygfLB8wHzQfOB88H0AfRB9IH0wfUB9UH1gfXB9gH2QfaB9sH3AfdB94H3wfgB+EH4gfjB+QH5QfmB+cH",
          "dtype": "i2"
         },
         "y": {
          "bdata": "0SvWD2R87hFeEx0TileiE5ZvjxCtPIoSAmveFzFWBBjnXnYYL21UGtsFpBXj6qsVMEhUGoJoIx7H6rscCcOkHoQXOiLmXfEXqOSsGmXhCB7PvpcbShOVHvtYBh0D34MhWeXoHsKHERquHIUdJ2PiH8I93R77/o8idPa4JGivqSMATMkjpfIjIgXF1yMGxGIqH7X0JnanuiQ9iKAikR2BKG4VWCYCXBYo7RZcJurL9iqllfYohOR1Kuk8zCKUFGckvmipJqHQsTEraDc1RCGYNlebLTVMEeA1",
          "dtype": "i4"
         }
        },
        {
         "marker": {
          "size": 8
         },
         "mode": "lines+markers",
         "name": "Total Exported kg",
         "type": "scatter",
         "x": {
          "bdata": "sgezB7QHtQe2B7cHuAe5B7oHuwe8B70Hvge/B8AHwQfCB8MHxAfFB8YHxwfIB8kHygfLB8wHzQfOB88H0AfRB9IH0wfUB9UH1gfXB9gH2QfaB9sH3AfdB94H3wfgB+EH4gfjB+QH5QfmB+cH",
          "dtype": "i2"
         },
         "y": {
          "bdata": "GCkCABhxBAAKtAcATRkRAJTBDACXbhQA97IRAL+nIgAdQiUAmOxoABJcWADdSDQAZLI8ALWZQwC+40cApHpsAKxqngB5+mkAOu2XAKfRtQCgma8ASvabAK6qbgGDk4MC2o60AVmGlAHu7HgBN1y5AYlkHAFo+2UB2+jEAbfQ3QE8Kh0Cj7OhAsQmVgKlqLoDJVRABJWXTgVtRe8FPZ0gBTiH6AOJa+IDljyaA8sGYgMhfyYCHgBJAiL0HgIgovkCxoazAqrUAwOZPFMD259NBUJ55gO2CAkF",
          "dtype": "i4"
         }
        },
        {
         "marker": {
          "size": 8
         },
         "mode": "lines+markers",
         "name": "Total Imported kg",
         "type": "scatter",
         "x": {
          "bdata": "sgezB7QHtQe2B7cHuAe5B7oHuwe8B70Hvge/B8AHwQfCB8MHxAfFB8YHxwfIB8kHygfLB8wHzQfOB88H0AfRB9IH0wfUB9UH1gfXB9gH2QfaB9sH3AfdB94H3wfgB+EH4gfjB+QH5QfmB+cH",
          "dtype": "i2"
         },
         "y": {
          "bdata": "OyGQAHL8hQCKUJgA3rWfAOEcpQBd36MAW/vTAE6L7QDxRxMBdPIDASIEqQCk7Y8AUuuxAF9ctQBu3WcAEt6gABStJgGQxQYBR35fAa+FNwKDEvIBnY3iAcgNHAHRJIwB5uyvAnDCjgXrm+UFY84YBBFEMwQlQ08DdhB1A61cYQOLUg8DDgw7A2Z7vQMV2e0Dul8LBfXzxQU5omkFZ179BQ4wkQfnOx4Ig9s6CLp2tQfA6EUIMjBDCIawzQhrIncKJNDRCf1fsgmc3jILwMdmC5jubwuTA/YK",
          "dtype": "i4"
         }
        }
       ],
       "layout": {
        "height": 500,
        "legend": {
         "title": {
          "text": "Metric"
         }
        },
        "margin": {
         "b": 60,
         "l": 60,
         "r": 80,
         "t": 50
        },
        "template": {
         "data": {
          "bar": [
           {
            "error_x": {
             "color": "#2a3f5f"
            },
            "error_y": {
             "color": "#2a3f5f"
            },
            "marker": {
             "line": {
              "color": "white",
              "width": 0.5
             },
             "pattern": {
              "fillmode": "overlay",
              "size": 10,
              "solidity": 0.2
             }
            },
            "type": "bar"
           }
          ],
          "barpolar": [
           {
            "marker": {
             "line": {
              "color": "white",
              "width": 0.5
             },
             "pattern": {
              "fillmode": "overlay",
              "size": 10,
              "solidity": 0.2
             }
            },
            "type": "barpolar"
           }
          ],
          "carpet": [
           {
            "aaxis": {
             "endlinecolor": "#2a3f5f",
             "gridcolor": "#C8D4E3",
             "linecolor": "#C8D4E3",
             "minorgridcolor": "#C8D4E3",
             "startlinecolor": "#2a3f5f"
            },
            "baxis": {
             "endlinecolor": "#2a3f5f",
             "gridcolor": "#C8D4E3",
             "linecolor": "#C8D4E3",
             "minorgridcolor": "#C8D4E3",
             "startlinecolor": "#2a3f5f"
            },
            "type": "carpet"
           }
          ],
          "choropleth": [
           {
            "colorbar": {
             "outlinewidth": 0,
             "ticks": ""
            },
            "type": "choropleth"
           }
          ],
          "contour": [
           {
            "colorbar": {
             "outlinewidth": 0,
             "ticks": ""
            },
            "colorscale": [
             [
              0,
              "#0d0887"
             ],
             [
              0.1111111111111111,
              "#46039f"
             ],
             [
              0.2222222222222222,
              "#7201a8"
             ],
             [
              0.3333333333333333,
              "#9c179e"
             ],
             [
              0.4444444444444444,
              "#bd3786"
             ],
             [
              0.5555555555555556,
              "#d8576b"
             ],
             [
              0.6666666666666666,
              "#ed7953"
             ],
             [
              0.7777777777777778,
              "#fb9f3a"
             ],
             [
              0.8888888888888888,
              "#fdca26"
             ],
             [
              1,
              "#f0f921"
             ]
            ],
            "type": "contour"
           }
          ],
          "contourcarpet": [
           {
            "colorbar": {
             "outlinewidth": 0,
             "ticks": ""
            },
            "type": "contourcarpet"
           }
          ],
          "heatmap": [
           {
            "colorbar": {
             "outlinewidth": 0,
             "ticks": ""
            },
            "colorscale": [
             [
              0,
              "#0d0887"
             ],
             [
              0.1111111111111111,
              "#46039f"
             ],
             [
              0.2222222222222222,
              "#7201a8"
             ],
             [
              0.3333333333333333,
              "#9c179e"
             ],
             [
              0.4444444444444444,
              "#bd3786"
             ],
             [
              0.5555555555555556,
              "#d8576b"
             ],
             [
              0.6666666666666666,
              "#ed7953"
             ],
             [
              0.7777777777777778,
              "#fb9f3a"
             ],
             [
              0.8888888888888888,
              "#fdca26"
             ],
             [
              1,
              "#f0f921"
             ]
            ],
            "type": "heatmap"
           }
          ],
          "histogram": [
           {
            "marker": {
             "pattern": {
              "fillmode": "overlay",
              "size": 10,
              "solidity": 0.2
             }
            },
            "type": "histogram"
           }
          ],
          "histogram2d": [
           {
            "colorbar": {
             "outlinewidth": 0,
             "ticks": ""
            },
            "colorscale": [
             [
              0,
              "#0d0887"
             ],
             [
              0.1111111111111111,
              "#46039f"
             ],
             [
              0.2222222222222222,
              "#7201a8"
             ],
             [
              0.3333333333333333,
              "#9c179e"
             ],
             [
              0.4444444444444444,
              "#bd3786"
             ],
             [
              0.5555555555555556,
              "#d8576b"
             ],
             [
              0.6666666666666666,
              "#ed7953"
             ],
             [
              0.7777777777777778,
              "#fb9f3a"
             ],
             [
              0.8888888888888888,
              "#fdca26"
             ],
             [
              1,
              "#f0f921"
             ]
            ],
            "type": "histogram2d"
           }
          ],
          "histogram2dcontour": [
           {
            "colorbar": {
             "outlinewidth": 0,
             "ticks": ""
            },
            "colorscale": [
             [
              0,
              "#0d0887"
             ],
             [
              0.1111111111111111,
              "#46039f"
             ],
             [
              0.2222222222222222,
              "#7201a8"
             ],
             [
              0.3333333333333333,
              "#9c179e"
             ],
             [
              0.4444444444444444,
              "#bd3786"
             ],
             [
              0.5555555555555556,
              "#d8576b"
             ],
             [
              0.6666666666666666,
              "#ed7953"
             ],
             [
              0.7777777777777778,
              "#fb9f3a"
             ],
             [
              0.8888888888888888,
              "#fdca26"
             ],
             [
              1,
              "#f0f921"
             ]
            ],
            "type": "histogram2dcontour"
           }
          ],
          "mesh3d": [
           {
            "colorbar": {
             "outlinewidth": 0,
             "ticks": ""
            },
            "type": "mesh3d"
           }
          ],
          "parcoords": [
           {
            "line": {
             "colorbar": {
              "outlinewidth": 0,
              "ticks": ""
             }
            },
            "type": "parcoords"
           }
          ],
          "pie": [
           {
            "automargin": true,
            "type": "pie"
           }
          ],
          "scatter": [
           {
            "fillpattern": {
             "fillmode": "overlay",
             "size": 10,
             "solidity": 0.2
            },
            "type": "scatter"
           }
          ],
          "scatter3d": [
           {
            "line": {
             "colorbar": {
              "outlinewidth": 0,
              "ticks": ""
             }
            },
            "marker": {
             "colorbar": {
              "outlinewidth": 0,
              "ticks": ""
             }
            },
            "type": "scatter3d"
           }
          ],
          "scattercarpet": [
           {
            "marker": {
             "colorbar": {
              "outlinewidth": 0,
              "ticks": ""
             }
            },
            "type": "scattercarpet"
           }
          ],
          "scattergeo": [
           {
            "marker": {
             "colorbar": {
              "outlinewidth": 0,
              "ticks": ""
             }
            },
            "type": "scattergeo"
           }
          ],
          "scattergl": [
           {
            "marker": {
             "colorbar": {
              "outlinewidth": 0,
              "ticks": ""
             }
            },
            "type": "scattergl"
           }
          ],
          "scattermap": [
           {
            "marker": {
             "colorbar": {
              "outlinewidth": 0,
              "ticks": ""
             }
            },
            "type": "scattermap"
           }
          ],
          "scattermapbox": [
           {
            "marker": {
             "colorbar": {
              "outlinewidth": 0,
              "ticks": ""
             }
            },
            "type": "scattermapbox"
           }
          ],
          "scatterpolar": [
           {
            "marker": {
             "colorbar": {
              "outlinewidth": 0,
              "ticks": ""
             }
            },
            "type": "scatterpolar"
           }
          ],
          "scatterpolargl": [
           {
            "marker": {
             "colorbar": {
              "outlinewidth": 0,
              "ticks": ""
             }
            },
            "type": "scatterpolargl"
           }
          ],
          "scatterternary": [
           {
            "marker": {
             "colorbar": {
              "outlinewidth": 0,
              "ticks": ""
             }
            },
            "type": "scatterternary"
           }
          ],
          "surface": [
           {
            "colorbar": {
             "outlinewidth": 0,
             "ticks": ""
            },
            "colorscale": [
             [
              0,
              "#0d0887"
             ],
             [
              0.1111111111111111,
              "#46039f"
             ],
             [
              0.2222222222222222,
              "#7201a8"
             ],
             [
              0.3333333333333333,
              "#9c179e"
             ],
             [
              0.4444444444444444,
              "#bd3786"
             ],
             [
              0.5555555555555556,
              "#d8576b"
             ],
             [
              0.6666666666666666,
              "#ed7953"
             ],
             [
              0.7777777777777778,
              "#fb9f3a"
             ],
             [
              0.8888888888888888,
              "#fdca26"
             ],
             [
              1,
              "#f0f921"
             ]
            ],
            "type": "surface"
           }
          ],
          "table": [
           {
            "cells": {
             "fill": {
              "color": "#EBF0F8"
             },
             "line": {
              "color": "white"
             }
            },
            "header": {
             "fill": {
              "color": "#C8D4E3"
             },
             "line": {
              "color": "white"
             }
            },
            "type": "table"
           }
          ]
         },
         "layout": {
          "annotationdefaults": {
           "arrowcolor": "#2a3f5f",
           "arrowhead": 0,
           "arrowwidth": 1
          },
          "autotypenumbers": "strict",
          "coloraxis": {
           "colorbar": {
            "outlinewidth": 0,
            "ticks": ""
           }
          },
          "colorscale": {
           "diverging": [
            [
             0,
             "#8e0152"
            ],
            [
             0.1,
             "#c51b7d"
            ],
            [
             0.2,
             "#de77ae"
            ],
            [
             0.3,
             "#f1b6da"
            ],
            [
             0.4,
             "#fde0ef"
            ],
            [
             0.5,
             "#f7f7f7"
            ],
            [
             0.6,
             "#e6f5d0"
            ],
            [
             0.7,
             "#b8e186"
            ],
            [
             0.8,
             "#7fbc41"
            ],
            [
             0.9,
             "#4d9221"
            ],
            [
             1,
             "#276419"
            ]
           ],
           "sequential": [
            [
             0,
             "#0d0887"
            ],
            [
             0.1111111111111111,
             "#46039f"
            ],
            [
             0.2222222222222222,
             "#7201a8"
            ],
            [
             0.3333333333333333,
             "#9c179e"
            ],
            [
             0.4444444444444444,
             "#bd3786"
            ],
            [
             0.5555555555555556,
             "#d8576b"
            ],
            [
             0.6666666666666666,
             "#ed7953"
            ],
            [
             0.7777777777777778,
             "#fb9f3a"
            ],
            [
             0.8888888888888888,
             "#fdca26"
            ],
            [
             1,
             "#f0f921"
            ]
           ],
           "sequentialminus": [
            [
             0,
             "#0d0887"
            ],
            [
             0.1111111111111111,
             "#46039f"
            ],
            [
             0.2222222222222222,
             "#7201a8"
            ],
            [
             0.3333333333333333,
             "#9c179e"
            ],
            [
             0.4444444444444444,
             "#bd3786"
            ],
            [
             0.5555555555555556,
             "#d8576b"
            ],
            [
             0.6666666666666666,
             "#ed7953"
            ],
            [
             0.7777777777777778,
             "#fb9f3a"
            ],
            [
             0.8888888888888888,
             "#fdca26"
            ],
            [
             1,
             "#f0f921"
            ]
           ]
          },
          "colorway": [
           "#636efa",
           "#EF553B",
           "#00cc96",
           "#ab63fa",
           "#FFA15A",
           "#19d3f3",
           "#FF6692",
           "#B6E880",
           "#FF97FF",
           "#FECB52"
          ],
          "font": {
           "color": "#2a3f5f"
          },
          "geo": {
           "bgcolor": "white",
           "lakecolor": "white",
           "landcolor": "white",
           "showlakes": true,
           "showland": true,
           "subunitcolor": "#C8D4E3"
          },
          "hoverlabel": {
           "align": "left"
          },
          "hovermode": "closest",
          "mapbox": {
           "style": "light"
          },
          "paper_bgcolor": "white",
          "plot_bgcolor": "white",
          "polar": {
           "angularaxis": {
            "gridcolor": "#EBF0F8",
            "linecolor": "#EBF0F8",
            "ticks": ""
           },
           "bgcolor": "white",
           "radialaxis": {
            "gridcolor": "#EBF0F8",
            "linecolor": "#EBF0F8",
            "ticks": ""
           }
          },
          "scene": {
           "xaxis": {
            "backgroundcolor": "white",
            "gridcolor": "#DFE8F3",
            "gridwidth": 2,
            "linecolor": "#EBF0F8",
            "showbackground": true,
            "ticks": "",
            "zerolinecolor": "#EBF0F8"
           },
           "yaxis": {
            "backgroundcolor": "white",
            "gridcolor": "#DFE8F3",
            "gridwidth": 2,
            "linecolor": "#EBF0F8",
            "showbackground": true,
            "ticks": "",
            "zerolinecolor": "#EBF0F8"
           },
           "zaxis": {
            "backgroundcolor": "white",
            "gridcolor": "#DFE8F3",
            "gridwidth": 2,
            "linecolor": "#EBF0F8",
            "showbackground": true,
            "ticks": "",
            "zerolinecolor": "#EBF0F8"
           }
          },
          "shapedefaults": {
           "line": {
            "color": "#2a3f5f"
           }
          },
          "ternary": {
           "aaxis": {
            "gridcolor": "#DFE8F3",
            "linecolor": "#A2B1C6",
            "ticks": ""
           },
           "baxis": {
            "gridcolor": "#DFE8F3",
            "linecolor": "#A2B1C6",
            "ticks": ""
           },
           "bgcolor": "white",
           "caxis": {
            "gridcolor": "#DFE8F3",
            "linecolor": "#A2B1C6",
            "ticks": ""
           }
          },
          "title": {
           "x": 0.05
          },
          "xaxis": {
           "automargin": true,
           "gridcolor": "#EBF0F8",
           "linecolor": "#EBF0F8",
           "ticks": "",
           "title": {
            "standoff": 15
           },
           "zerolinecolor": "#EBF0F8",
           "zerolinewidth": 2
          },
          "yaxis": {
           "automargin": true,
           "gridcolor": "#EBF0F8",
           "linecolor": "#EBF0F8",
           "ticks": "",
           "title": {
            "standoff": 15
           },
           "zerolinecolor": "#EBF0F8",
           "zerolinewidth": 2
          }
         }
        },
        "title": {
         "text": "Multivariate Summary by Year"
        },
        "width": 1100,
        "xaxis": {
         "dtick": 1,
         "title": {
          "text": "Year"
         }
        },
        "yaxis": {
         "title": {
          "text": "Quantity"
         }
        }
       }
      }
     },
     "metadata": {},
     "output_type": "display_data"
    }
   ],
   "source": [
    "import plotly.graph_objects as go\n",
    "\n",
    "fig = go.Figure()\n",
    "for column in df_yearly.columns:\n",
    "    fig.add_trace(go.Scatter(\n",
    "        x=df_yearly.index,\n",
    "        y=df_yearly[column],\n",
    "        mode=\"lines+markers\",\n",
    "        name=column.replace(\"_\", \" \"),\n",
    "        marker=dict(size=8)\n",
    "    ))\n",
    "\n",
    "fig.update_layout(\n",
    "    title=\"Multivariate Summary by Year\",\n",
    "    xaxis_title=\"Year\",\n",
    "    yaxis_title=\"Quantity\",\n",
    "    width=1100,\n",
    "    height=500,\n",
    "    template=\"plotly_white\",\n",
    "    xaxis=dict(dtick=1),\n",
    "    legend_title=\"Metric\",\n",
    "    margin=dict(t=50, r=80, b=60, l=60)\n",
    ")\n",
    "fig.show()\n"
   ]
  },
  {
   "cell_type": "code",
   "execution_count": 122,
   "id": "ee144c77",
   "metadata": {},
   "outputs": [
    {
     "data": {
      "image/png": "[encoded data removed]",
      "text/plain": [
       "<Figure size 1400x600 with 1 Axes>"
      ]
     },
     "metadata": {},
     "output_type": "display_data"
    }
   ],
   "source": [
    "# --- Anomaly Detection via Boxplots per Metric ---\n",
    "# This chart allows you to:\n",
    "# * Visualize extreme values ​​(points outside the box);\n",
    "# * Identify more volatile metrics (larger boxes);\n",
    "# * Raise specific hypotheses, such as: A year of crop failure;High international demand (peak export);Low production and high sales.\n",
    "import matplotlib.pyplot as plt\n",
    "\n",
    "# Transpose to plot a boxplot by variable (column)\n",
    "df_yearly_T = df_yearly.T\n",
    "\n",
    "# Plot Settings\n",
    "fig, ax = plt.subplots(figsize=(14, 6))\n",
    "sns.boxplot(data=df_yearly_T, orient=\"h\", palette=\"Set2\")\n",
    "\n",
    "plt.title(\"Boxplot for Anomaly Detection in Annual Metrics\", fontsize=14)\n",
    "plt.xlabel(\"Values\")\n",
    "plt.grid(True)\n",
    "plt.tight_layout()\n",
    "plt.show()\n"
   ]
  },
  {
   "cell_type": "code",
   "execution_count": 123,
   "id": "491d27fc",
   "metadata": {},
   "outputs": [
    {
     "data": {
      "text/html": [
       "<div>\n",
       "<style scoped>\n",
       "    .dataframe tbody tr th:only-of-type {\n",
       "        vertical-align: middle;\n",
       "    }\n",
       "\n",
       "    .dataframe tbody tr th {\n",
       "        vertical-align: top;\n",
       "    }\n",
       "\n",
       "    .dataframe thead th {\n",
       "        text-align: right;\n",
       "    }\n",
       "</style>\n",
       "<table border=\"1\" class=\"dataframe\">\n",
       "  <thead>\n",
       "    <tr style=\"text-align: right;\">\n",
       "      <th></th>\n",
       "      <th>Total_Production_Liters</th>\n",
       "      <th>Total_Processed_kg</th>\n",
       "      <th>Total_Commercialized_Liters</th>\n",
       "      <th>Total_Exported_kg</th>\n",
       "      <th>Total_Imported_kg</th>\n",
       "    </tr>\n",
       "    <tr>\n",
       "      <th>Year</th>\n",
       "      <th></th>\n",
       "      <th></th>\n",
       "      <th></th>\n",
       "      <th></th>\n",
       "      <th></th>\n",
       "    </tr>\n",
       "  </thead>\n",
       "  <tbody>\n",
       "    <tr>\n",
       "      <th>1970</th>\n",
       "      <td>512740100</td>\n",
       "      <td>632952051</td>\n",
       "      <td>265694161</td>\n",
       "      <td>141592</td>\n",
       "      <td>9445691</td>\n",
       "    </tr>\n",
       "    <tr>\n",
       "      <th>1971</th>\n",
       "      <td>386855770</td>\n",
       "      <td>455652457</td>\n",
       "      <td>300842084</td>\n",
       "      <td>291096</td>\n",
       "      <td>8780914</td>\n",
       "    </tr>\n",
       "    <tr>\n",
       "      <th>1972</th>\n",
       "      <td>367712034</td>\n",
       "      <td>434265394</td>\n",
       "      <td>320672606</td>\n",
       "      <td>504842</td>\n",
       "      <td>9982090</td>\n",
       "    </tr>\n",
       "    <tr>\n",
       "      <th>1973</th>\n",
       "      <td>314793348</td>\n",
       "      <td>365032211</td>\n",
       "      <td>329406346</td>\n",
       "      <td>1120589</td>\n",
       "      <td>10466782</td>\n",
       "    </tr>\n",
       "    <tr>\n",
       "      <th>1974</th>\n",
       "      <td>546848806</td>\n",
       "      <td>683573843</td>\n",
       "      <td>277835670</td>\n",
       "      <td>835988</td>\n",
       "      <td>10820833</td>\n",
       "    </tr>\n",
       "  </tbody>\n",
       "</table>\n",
       "</div>"
      ],
      "text/plain": [
       "      Total_Production_Liters  Total_Processed_kg  \\\n",
       "Year                                                \n",
       "1970                512740100           632952051   \n",
       "1971                386855770           455652457   \n",
       "1972                367712034           434265394   \n",
       "1973                314793348           365032211   \n",
       "1974                546848806           683573843   \n",
       "\n",
       "      Total_Commercialized_Liters  Total_Exported_kg  Total_Imported_kg  \n",
       "Year                                                                     \n",
       "1970                    265694161             141592            9445691  \n",
       "1971                    300842084             291096            8780914  \n",
       "1972                    320672606             504842            9982090  \n",
       "1973                    329406346            1120589           10466782  \n",
       "1974                    277835670             835988           10820833  "
      ]
     },
     "metadata": {},
     "output_type": "display_data"
    },
    {
     "data": {
      "image/png": "[encoded data removed]",
      "text/plain": [
       "<Figure size 1200x600 with 2 Axes>"
      ]
     },
     "metadata": {},
     "output_type": "display_data"
    }
   ],
   "source": [
    "# --- Correlation Heatmap ---\n",
    "# Code to calculate and visualize correlation between metrics\n",
    "import seaborn as sns\n",
    "import matplotlib.pyplot as plt\n",
    "\n",
    "# Check the consolidated DataFrame\n",
    "display(df_yearly.head())\n",
    "\n",
    "# Correlation Matrix\n",
    "corr_matrix = df_yearly.corr()\n",
    "\n",
    "# Heatmap plot\n",
    "plt.figure(figsize=(12, 6))\n",
    "sns.heatmap(corr_matrix, annot=True, fmt=\".2f\", cmap=\"coolwarm\", linewidths=0.5)\n",
    "\n",
    "plt.title(\"Correlation Heatmap between Aggregated Metrics (per year)\", fontsize=14)\n",
    "plt.tight_layout()\n",
    "plt.show()\n",
    "\n",
    "# This heatmap will highlight:\n",
    "# 🔴 Strong positive correlation: close to +1 (e.g.: juice production and marketing);\n",
    "# 🔵 Strong negative correlation: close to -1 (e.g.: increased imports vs. local production);\n",
    "# ⚪ Weak or null correlation: little or no direct relationship."
   ]
  },
  {
   "cell_type": "code",
   "execution_count": 124,
   "id": "b33a61de",
   "metadata": {},
   "outputs": [
    {
     "name": "stdout",
     "output_type": "stream",
     "text": [
      "Suco correlation dataframe:\n",
      "      production_suco  commercial_suco\n",
      "Year                                  \n",
      "1970        1097771.0              0.0\n",
      "1971        2296654.0              0.0\n",
      "1972        3509440.0              0.0\n",
      "1973              0.0              0.0\n",
      "1974              0.0              0.0\n"
     ]
    }
   ],
   "source": [
    "# Filters only juice in the bases\n",
    "prod_suco = df_prod[df_prod[\"Product\"].str.lower().str.contains(\"suco\")]\n",
    "com_suco = df_com[df_com[\"Product\"].str.lower().str.contains(\"suco\")]\n",
    "\n",
    "# Group by year\n",
    "prod_suco_yearly = prod_suco.groupby(\"Year\")[\"Quantity (L.)\"].sum()\n",
    "com_suco_yearly = com_suco.groupby(\"Year\")[\"Quantity (L.)\"].sum()\n",
    "\n",
    "# Join into a single dataframe\n",
    "df_suco_corr = pd.DataFrame({\n",
    "    \"production_suco\": prod_suco_yearly,\n",
    "    \"commercial_suco\": com_suco_yearly\n",
    "}).dropna()  # remove years with missing data in one of the series\n",
    "\n",
    "print(\"Suco correlation dataframe:\")\n",
    "print(df_suco_corr.head())\n"
   ]
  },
  {
   "cell_type": "code",
   "execution_count": 125,
   "id": "7373cc5b",
   "metadata": {},
   "outputs": [
    {
     "data": {
      "image/png": "[encoded data removed]",
      "text/plain": [
       "<Figure size 800x600 with 1 Axes>"
      ]
     },
     "metadata": {},
     "output_type": "display_data"
    }
   ],
   "source": [
    "# Scatter Plots with Regression Line\n",
    "# This helps visualize linear relationships between strongly correlated variables.\n",
    "\n",
    "# Visualization of the linear relationship between juice production and marketing\n",
    "import seaborn as sns\n",
    "import matplotlib.pyplot as plt\n",
    "\n",
    "plt.figure(figsize=(8, 6))\n",
    "sns.regplot(\n",
    "    x=df_suco_corr[\"production_suco\"],\n",
    "    y=df_suco_corr[\"commercial_suco\"],\n",
    "    line_kws={\"color\": \"red\"},\n",
    "    scatter_kws={\"s\": 60}\n",
    ")\n",
    "plt.title(\"Production vs Commercialization of Grape Juice\")\n",
    "plt.xlabel(\"Production of Juice (L)\")\n",
    "plt.ylabel(\"Commercialization of Juice (L)\")\n",
    "plt.grid(True)\n",
    "plt.tight_layout()\n",
    "plt.show()\n"
   ]
  },
  {
   "cell_type": "code",
   "execution_count": null,
   "id": "e442ae40",
   "metadata": {},
   "outputs": [
    {
     "ename": "KeyError",
     "evalue": "'production_juice'",
     "output_type": "error",
     "traceback": [
      "\u001b[31m---------------------------------------------------------------------------\u001b[39m",
      "\u001b[31mKeyError\u001b[39m                                  Traceback (most recent call last)",
      "\u001b[36mFile \u001b[39m\u001b[32mc:\\Users\\pivac\\AppData\\Local\\pypoetry\\Cache\\virtualenvs\\embrapa-api-0YcYUUZG-py3.13\\Lib\\site-packages\\pandas\\core\\indexes\\base.py:3805\u001b[39m, in \u001b[36mIndex.get_loc\u001b[39m\u001b[34m(self, key)\u001b[39m\n\u001b[32m   3804\u001b[39m \u001b[38;5;28;01mtry\u001b[39;00m:\n\u001b[32m-> \u001b[39m\u001b[32m3805\u001b[39m     \u001b[38;5;28;01mreturn\u001b[39;00m \u001b[38;5;28;43mself\u001b[39;49m\u001b[43m.\u001b[49m\u001b[43m_engine\u001b[49m\u001b[43m.\u001b[49m\u001b[43mget_loc\u001b[49m\u001b[43m(\u001b[49m\u001b[43mcasted_key\u001b[49m\u001b[43m)\u001b[49m\n\u001b[32m   3806\u001b[39m \u001b[38;5;28;01mexcept\u001b[39;00m \u001b[38;5;167;01mKeyError\u001b[39;00m \u001b[38;5;28;01mas\u001b[39;00m err:\n",
      "\u001b[36mFile \u001b[39m\u001b[32mindex.pyx:167\u001b[39m, in \u001b[36mpandas._libs.index.IndexEngine.get_loc\u001b[39m\u001b[34m()\u001b[39m\n",
      "\u001b[36mFile \u001b[39m\u001b[32mindex.pyx:196\u001b[39m, in \u001b[36mpandas._libs.index.IndexEngine.get_loc\u001b[39m\u001b[34m()\u001b[39m\n",
      "\u001b[36mFile \u001b[39m\u001b[32mpandas\\\\_libs\\\\hashtable_class_helper.pxi:7081\u001b[39m, in \u001b[36mpandas._libs.hashtable.PyObjectHashTable.get_item\u001b[39m\u001b[34m()\u001b[39m\n",
      "\u001b[36mFile \u001b[39m\u001b[32mpandas\\\\_libs\\\\hashtable_class_helper.pxi:7089\u001b[39m, in \u001b[36mpandas._libs.hashtable.PyObjectHashTable.get_item\u001b[39m\u001b[34m()\u001b[39m\n",
      "\u001b[31mKeyError\u001b[39m: 'production_juice'",
      "\nThe above exception was the direct cause of the following exception:\n",
      "\u001b[31mKeyError\u001b[39m                                  Traceback (most recent call last)",
      "\u001b[36mCell\u001b[39m\u001b[36m \u001b[39m\u001b[32mIn[126]\u001b[39m\u001b[32m, line 23\u001b[39m\n\u001b[32m     19\u001b[39m \u001b[38;5;28;01mimport\u001b[39;00m\u001b[38;5;250m \u001b[39m\u001b[34;01mmatplotlib\u001b[39;00m\u001b[34;01m.\u001b[39;00m\u001b[34;01mpyplot\u001b[39;00m\u001b[38;5;250m \u001b[39m\u001b[38;5;28;01mas\u001b[39;00m\u001b[38;5;250m \u001b[39m\u001b[34;01mplt\u001b[39;00m\n\u001b[32m     21\u001b[39m plt.figure(figsize=(\u001b[32m8\u001b[39m, \u001b[32m6\u001b[39m))\n\u001b[32m     22\u001b[39m sns.regplot(\n\u001b[32m---> \u001b[39m\u001b[32m23\u001b[39m     x=\u001b[43mdf_prod_exp\u001b[49m\u001b[43m[\u001b[49m\u001b[33;43m\"\u001b[39;49m\u001b[33;43mproduction_juice\u001b[39;49m\u001b[33;43m\"\u001b[39;49m\u001b[43m]\u001b[49m,\n\u001b[32m     24\u001b[39m     y=df_prod_exp[\u001b[33m\"\u001b[39m\u001b[33mexportation_juice\u001b[39m\u001b[33m\"\u001b[39m],\n\u001b[32m     25\u001b[39m     line_kws={\u001b[33m\"\u001b[39m\u001b[33mcolor\u001b[39m\u001b[33m\"\u001b[39m: \u001b[33m\"\u001b[39m\u001b[33mgreen\u001b[39m\u001b[33m\"\u001b[39m},\n\u001b[32m     26\u001b[39m     scatter_kws={\u001b[33m\"\u001b[39m\u001b[33ms\u001b[39m\u001b[33m\"\u001b[39m: \u001b[32m60\u001b[39m}\n\u001b[32m     27\u001b[39m )\n\u001b[32m     28\u001b[39m plt.title(\u001b[33m\"\u001b[39m\u001b[33mProduction vs Exportation of Grape Juice\u001b[39m\u001b[33m\"\u001b[39m)\n\u001b[32m     29\u001b[39m plt.xlabel(\u001b[33m\"\u001b[39m\u001b[33mJuice Production (L)\u001b[39m\u001b[33m\"\u001b[39m)\n",
      "\u001b[36mFile \u001b[39m\u001b[32mc:\\Users\\pivac\\AppData\\Local\\pypoetry\\Cache\\virtualenvs\\embrapa-api-0YcYUUZG-py3.13\\Lib\\site-packages\\pandas\\core\\frame.py:4102\u001b[39m, in \u001b[36mDataFrame.__getitem__\u001b[39m\u001b[34m(self, key)\u001b[39m\n\u001b[32m   4100\u001b[39m \u001b[38;5;28;01mif\u001b[39;00m \u001b[38;5;28mself\u001b[39m.columns.nlevels > \u001b[32m1\u001b[39m:\n\u001b[32m   4101\u001b[39m     \u001b[38;5;28;01mreturn\u001b[39;00m \u001b[38;5;28mself\u001b[39m._getitem_multilevel(key)\n\u001b[32m-> \u001b[39m\u001b[32m4102\u001b[39m indexer = \u001b[38;5;28;43mself\u001b[39;49m\u001b[43m.\u001b[49m\u001b[43mcolumns\u001b[49m\u001b[43m.\u001b[49m\u001b[43mget_loc\u001b[49m\u001b[43m(\u001b[49m\u001b[43mkey\u001b[49m\u001b[43m)\u001b[49m\n\u001b[32m   4103\u001b[39m \u001b[38;5;28;01mif\u001b[39;00m is_integer(indexer):\n\u001b[32m   4104\u001b[39m     indexer = [indexer]\n",
      "\u001b[36mFile \u001b[39m\u001b[32mc:\\Users\\pivac\\AppData\\Local\\pypoetry\\Cache\\virtualenvs\\embrapa-api-0YcYUUZG-py3.13\\Lib\\site-packages\\pandas\\core\\indexes\\base.py:3812\u001b[39m, in \u001b[36mIndex.get_loc\u001b[39m\u001b[34m(self, key)\u001b[39m\n\u001b[32m   3807\u001b[39m     \u001b[38;5;28;01mif\u001b[39;00m \u001b[38;5;28misinstance\u001b[39m(casted_key, \u001b[38;5;28mslice\u001b[39m) \u001b[38;5;129;01mor\u001b[39;00m (\n\u001b[32m   3808\u001b[39m         \u001b[38;5;28misinstance\u001b[39m(casted_key, abc.Iterable)\n\u001b[32m   3809\u001b[39m         \u001b[38;5;129;01mand\u001b[39;00m \u001b[38;5;28many\u001b[39m(\u001b[38;5;28misinstance\u001b[39m(x, \u001b[38;5;28mslice\u001b[39m) \u001b[38;5;28;01mfor\u001b[39;00m x \u001b[38;5;129;01min\u001b[39;00m casted_key)\n\u001b[32m   3810\u001b[39m     ):\n\u001b[32m   3811\u001b[39m         \u001b[38;5;28;01mraise\u001b[39;00m InvalidIndexError(key)\n\u001b[32m-> \u001b[39m\u001b[32m3812\u001b[39m     \u001b[38;5;28;01mraise\u001b[39;00m \u001b[38;5;167;01mKeyError\u001b[39;00m(key) \u001b[38;5;28;01mfrom\u001b[39;00m\u001b[38;5;250m \u001b[39m\u001b[34;01merr\u001b[39;00m\n\u001b[32m   3813\u001b[39m \u001b[38;5;28;01mexcept\u001b[39;00m \u001b[38;5;167;01mTypeError\u001b[39;00m:\n\u001b[32m   3814\u001b[39m     \u001b[38;5;66;03m# If we have a listlike key, _check_indexing_error will raise\u001b[39;00m\n\u001b[32m   3815\u001b[39m     \u001b[38;5;66;03m#  InvalidIndexError. Otherwise we fall through and re-raise\u001b[39;00m\n\u001b[32m   3816\u001b[39m     \u001b[38;5;66;03m#  the TypeError.\u001b[39;00m\n\u001b[32m   3817\u001b[39m     \u001b[38;5;28mself\u001b[39m._check_indexing_error(key)\n",
      "\u001b[31mKeyError\u001b[39m: 'production_juice'"
     ]
    },
    {
     "data": {
      "text/plain": [
       "<Figure size 800x600 with 0 Axes>"
      ]
     },
     "metadata": {},
     "output_type": "display_data"
    }
   ],
   "source": [
    "# Production vs Exportation (Grape Juice)\n",
    "\n",
    "# Filters only juice in the bases\n",
    "prod_suco = df_prod[df_prod[\"Product\"].str.lower().str.contains(\"suco\")]\n",
    "exp_suco = df_exp[df_exp[\"Type\"].str.lower().str.contains(\"suco\")]\n",
    "\n",
    "# Group by year\n",
    "prod_suco_yearly = prod_suco.groupby(\"Year\")[\"Quantity (L.)\"].sum()\n",
    "exp_suco_yearly = exp_suco.groupby(\"Year\")[\"Quantity (kg)\"].sum()  # Assume-se 1 kg ≈ 1 L\n",
    "\n",
    "# Join into a single dataframe\n",
    "df_prod_exp = pd.DataFrame({\n",
    "    \"production_suco\": prod_suco_yearly,\n",
    "    \"exportation_suco\": exp_suco_yearly\n",
    "}).dropna()  # remove years with missing data\n",
    "\n",
    "# Visualization of the relationship between production and export\n",
    "import seaborn as sns\n",
    "import matplotlib.pyplot as plt\n",
    "\n",
    "plt.figure(figsize=(8, 6))\n",
    "sns.regplot(\n",
    "    x=df_prod_exp[\"production_suco\"],\n",
    "    y=df_prod_exp[\"exportation_suco\"],\n",
    "    line_kws={\"color\": \"green\"},\n",
    "    scatter_kws={\"s\": 60}\n",
    ")\n",
    "plt.title(\"Production vs Exportation of Grape Juice\")\n",
    "plt.xlabel(\"Juice Production (L)\")\n",
    "plt.ylabel(\"Juice Exportation (L)\")\n",
    "plt.grid(True)\n",
    "plt.tight_layout()\n",
    "plt.show()\n"
   ]
  },
  {
   "cell_type": "code",
   "execution_count": null,
   "id": "1adcf378",
   "metadata": {},
   "outputs": [],
   "source": [
    "# General Correlation between Indicators (same unit: Liters or kg)\n",
    "# We will calculate the Pearson correlation only between columns that are in the same unit to maintain statistical coherence.\n",
    "\n",
    "# Subset with columns of the same unit (liters ≈ kg)\n",
    "df_corr_subset = df_yearly[\n",
    "    [\"Total_Production_Liters\", \"Total_Commercialized_Liters\", \"Total_Exported_kg\", \"Total_Imported_kg\"]\n",
    "]\n",
    "\n",
    "# Pearson correlation matrix\n",
    "corr_matrix = df_corr_subset.corr(method=\"pearson\")\n",
    "\n",
    "# Visualization with heatmap\n",
    "import seaborn as sns\n",
    "import matplotlib.pyplot as plt\n",
    "\n",
    "plt.figure(figsize=(8, 6))\n",
    "sns.heatmap(\n",
    "    corr_matrix,\n",
    "    annot=True,\n",
    "    fmt=\".2f\",\n",
    "    cmap=\"Blues\",\n",
    "    square=True,\n",
    "    linewidths=0.5,\n",
    "    cbar_kws={\"label\": \"Pearson Correlation\"}\n",
    ")\n",
    "plt.title(\"Correlation between Production, Commercialization, Import & Export\")\n",
    "plt.tight_layout()\n",
    "plt.show()\n",
    "\n",
    "# This heatmap allows you to identify interesting relationships between macro variables such as:\n",
    "# Whether production is more linked to marketing or export.\n",
    "# Whether imports increase when production decreases, etc."
   ]
  },
  {
   "cell_type": "code",
   "execution_count": null,
   "id": "c08c3d51",
   "metadata": {},
   "outputs": [],
   "source": [
    "# Linear Regression with Scikit-learn (Juice Production vs Marketing)\n",
    "\n",
    "from sklearn.linear_model import LinearRegression\n",
    "from sklearn.metrics import mean_squared_error, r2_score\n",
    "import numpy as np\n",
    "import matplotlib.pyplot as plt\n",
    "\n",
    "# Data\n",
    "X = df_suco_corr[\"production_suco\"].values.reshape(-1, 1)\n",
    "y = df_suco_corr[\"commercial_suco\"].values\n",
    "\n",
    "# Model\n",
    "model = LinearRegression()\n",
    "model.fit(X, y)\n",
    "\n",
    "# Predict\n",
    "y_pred = model.predict(X)\n",
    "\n",
    "# Metrics\n",
    "r2 = r2_score(y, y_pred)\n",
    "rmse = np.sqrt(mean_squared_error(y, y_pred))\n",
    "\n",
    "print(f\"🔍 R²: {r2:.3f}\")\n",
    "print(f\"🔍 RMSE: {rmse:,.0f} Liters\")\n",
    "\n",
    "# Visualization\n",
    "plt.figure(figsize=(8, 6))\n",
    "plt.scatter(X, y, label=\"Real\", color=\"blue\", s=60)\n",
    "plt.plot(X, y_pred, label=\"Predicted\", color=\"red\", linewidth=2)\n",
    "plt.title(\"Linear Regression: Production vs Commercialization of Grape Juice\")\n",
    "plt.xlabel(\"Production of Juice (L)\")\n",
    "plt.ylabel(\"Commercialization of Juice (L)\")\n",
    "plt.legend()\n",
    "plt.grid(True)\n",
    "plt.tight_layout()\n",
    "plt.show()\n"
   ]
  },
  {
   "cell_type": "code",
   "execution_count": null,
   "id": "5c07244e",
   "metadata": {},
   "outputs": [],
   "source": [
    "import seaborn as sns\n",
    "import matplotlib.pyplot as plt\n",
    "\n",
    "# Extraction of annual data for each variable\n",
    "processed_yearly = df_yearly[\"Total_Processed_kg\"]\n",
    "exported_yearly = df_yearly[\"Total_Exported_kg\"]\n",
    "\n",
    "# Join on a DataFrame\n",
    "df_corr_proc_exp = pd.DataFrame({\n",
    "    \"processed_kg\": processed_yearly,\n",
    "    \"exported_kg\": exported_yearly\n",
    "}).dropna()\n",
    "\n",
    "# Visualization with regression\n",
    "plt.figure(figsize=(8, 6))\n",
    "sns.regplot(\n",
    "    x=df_corr_proc_exp[\"processed_kg\"],\n",
    "    y=df_corr_proc_exp[\"exported_kg\"],\n",
    "    line_kws={\"color\": \"green\"},\n",
    "    scatter_kws={\"s\": 60}\n",
    ")\n",
    "plt.title(\"Processed vs Exported Grape Volume\")\n",
    "plt.xlabel(\"Processed Volume (kg)\")\n",
    "plt.ylabel(\"Exported Volume (kg)\")\n",
    "plt.grid(True)\n",
    "plt.tight_layout()\n",
    "plt.show()\n"
   ]
  },
  {
   "cell_type": "code",
   "execution_count": null,
   "id": "2b5791a9",
   "metadata": {},
   "outputs": [],
   "source": [
    "# Linear Regression Model – Processed vs Exported\n",
    "from sklearn.linear_model import LinearRegression\n",
    "from sklearn.metrics import mean_squared_error, r2_score\n",
    "import numpy as np\n",
    "\n",
    "# Define features and target\n",
    "X = df_corr_proc_exp[[\"processed_kg\"]].values\n",
    "y = df_corr_proc_exp[\"exported_kg\"].values\n",
    "\n",
    "# Create and fit the model\n",
    "model = LinearRegression()\n",
    "model.fit(X, y)\n",
    "\n",
    "# Predictions\n",
    "y_pred = model.predict(X)\n",
    "\n",
    "# Metrics\n",
    "mse = mean_squared_error(y, y_pred)\n",
    "r2 = r2_score(y, y_pred)\n",
    "\n",
    "print(\"✅ Linear Regression - Processed vs Exported\")\n",
    "print(f\"Coefficient (slope): {model.coef_[0]:.2f}\")\n",
    "print(f\"Intercept: {model.intercept_:.2f}\")\n",
    "print(f\"Mean Squared Error: {mse:.2f}\")\n",
    "print(f\"R² Score: {r2:.4f}\")\n",
    "\n",
    "# Plotting regression\n",
    "plt.figure(figsize=(8, 6))\n",
    "sns.regplot(x=X.flatten(), y=y, line_kws={\"color\": \"green\"}, scatter_kws={\"s\": 60})\n",
    "plt.title(\"Linear Regression: Processed vs Exported\")\n",
    "plt.xlabel(\"Processed Volume (kg)\")\n",
    "plt.ylabel(\"Exported Volume (kg)\")\n",
    "plt.grid(True)\n",
    "plt.tight_layout()\n",
    "plt.show()\n"
   ]
  },
  {
   "cell_type": "code",
   "execution_count": null,
   "id": "010e2234",
   "metadata": {},
   "outputs": [],
   "source": [
    "# Pearson correlation between these variables to understand which has the greatest predictive potential.\n",
    "import seaborn as sns\n",
    "import matplotlib.pyplot as plt\n",
    "\n",
    "plt.figure(figsize=(8, 6))\n",
    "sns.heatmap(df_yearly.corr(), annot=True, cmap=\"coolwarm\", fmt=\".2f\")\n",
    "plt.title(\"Correlation Matrix\")\n",
    "plt.tight_layout()\n",
    "plt.show()\n"
   ]
  },
  {
   "cell_type": "code",
   "execution_count": null,
   "id": "f6bbc772",
   "metadata": {},
   "outputs": [],
   "source": [
    "# Exclude own production from the input set to avoid data leakage\n",
    "X = df_yearly.drop(columns=[\"Total_Production_Liters\"])\n",
    "y = df_yearly[\"Total_Production_Liters\"]"
   ]
  },
  {
   "cell_type": "code",
   "execution_count": null,
   "id": "ba973a81",
   "metadata": {},
   "outputs": [],
   "source": [
    "from sklearn.linear_model import LinearRegression\n",
    "from sklearn.metrics import mean_absolute_error, mean_squared_error, r2_score\n",
    "from sklearn.model_selection import train_test_split\n",
    "import joblib\n",
    "\n",
    "# Split data into training and testing (80/20)\n",
    "X = df_yearly.drop(columns=[\"Total_Production_Liters\"])\n",
    "y = df_yearly[\"Total_Production_Liters\"]\n",
    "\n",
    "X_train, X_test, y_train, y_test = train_test_split(X, y, test_size=0.2, random_state=42)\n",
    "\n",
    "# Create and train the model\n",
    "model = LinearRegression()\n",
    "model.fit(X_train, y_train)\n",
    "\n",
    "# Predictions\n",
    "y_pred = model.predict(X_test)\n",
    "\n",
    "# Rating\n",
    "mae = mean_absolute_error(y_test, y_pred)\n",
    "mse = mean_squared_error(y_test, y_pred)\n",
    "r2 = r2_score(y_test, y_pred)\n",
    "\n",
    "print(f\"📈 MAE: {mae:.2f}\")\n",
    "print(f\"📉 MSE: {mse:.2f}\")\n",
    "print(f\"✅ R² Score: {r2:.4f}\")\n",
    "\n",
    "# Ensures the folder exists\n",
    "import os\n",
    "os.makedirs(\"notebooks\", exist_ok=True)\n",
    "\n",
    "# Export trained model\n",
    "MODEL_PATH = \"notebooks/model_production_prediction.pkl\"\n",
    "joblib.dump(model, MODEL_PATH)\n",
    "print(f\"💾 Model saved in: {MODEL_PATH}\")"
   ]
  }
 ],
 "metadata": {
  "kernelspec": {
   "display_name": "embrapa-api-0YcYUUZG-py3.13",
   "language": "python",
   "name": "python3"
  },
  "language_info": {
   "codemirror_mode": {
    "name": "ipython",
    "version": 3
   },
   "file_extension": ".py",
   "mimetype": "text/x-python",
   "name": "python",
   "nbconvert_exporter": "python",
   "pygments_lexer": "ipython3",
   "version": "3.13.3"
  }
 },
 "nbformat": 4,
 "nbformat_minor": 5
}
