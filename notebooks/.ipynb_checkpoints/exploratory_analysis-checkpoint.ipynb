{
 "cells": [
  {
   "cell_type": "code",
   "execution_count": null,
   "id": "6181f7b2",
   "metadata": {
    "vscode": {
     "languageId": "plaintext"
    }
   },
   "outputs": [],
   "source": [
    "# notebooks/exploratory_analysis.ipynb\n",
    "\n",
    "# 📦 Imports\n",
    "import pandas as pd\n",
    "import matplotlib.pyplot as plt\n",
    "import seaborn as sns\n",
    "import plotly.express as px\n",
    "\n",
    "# ✅ Configurações básicas\n",
    "pd.set_option(\"display.max_columns\", None)\n",
    "sns.set(style=\"whitegrid\")\n",
    "\n",
    "# 📁 Leitura dos dados\n",
    "df = pd.read_csv(\"../data/raw/dados_viticultura.csv\")\n",
    "\n",
    "# 👀 Visualização inicial\n",
    "display(df.head())\n",
    "display(df.info())\n",
    "display(df.describe())\n"
   ]
  }
 ],
 "metadata": {
  "language_info": {
   "name": "python"
  }
 },
 "nbformat": 4,
 "nbformat_minor": 5
}
